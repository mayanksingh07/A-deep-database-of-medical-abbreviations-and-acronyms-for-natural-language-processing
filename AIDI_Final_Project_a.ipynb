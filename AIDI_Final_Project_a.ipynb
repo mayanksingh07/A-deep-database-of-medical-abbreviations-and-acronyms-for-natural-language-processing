{
  "cells": [
    {
      "cell_type": "markdown",
      "id": "713ee16a",
      "metadata": {
        "id": "713ee16a"
      },
      "source": [
        "# Title: AIDI 1002 Final Term Project Report"
      ]
    },
    {
      "cell_type": "markdown",
      "id": "71891a77",
      "metadata": {
        "id": "71891a77"
      },
      "source": [
        "# Members' Names or Individual's Name:\n",
        "## **1. JOLSNA JAYADEVAN (200518207)**\n",
        "## **2. Mayank Singh (200577750)**\n",
        "\n",
        "\n",
        "\n",
        "# Emails:\n",
        "## 1. **jolsnaj.mec@gmail.com**\n",
        "## 2. **maysingh123456@gmail.com**\n"
      ]
    },
    {
      "cell_type": "markdown",
      "id": "7db3f078",
      "metadata": {
        "id": "7db3f078"
      },
      "source": [
        "# <u>Introduction:</u>\n",
        "\n",
        "In a dynamic healthcare environment, effectively leveraging technological advances to improve patient outcomes, streamline clinical workflows, and advance medical research is paramount. Recognizing the critical role of natural language processing (NLP) in transforming unstructured clinical narratives into actionable insights, our project contributes to the ongoing effort to revolutionize health information management. We are aiming for One of the greatest challenges in modern healthcare is the efficient use of the wealth of information contained in electronic medical records and clinical documentation. Traditional methods of data extraction and analysis are time-consuming and error-prone, preventing healthcare professionals from making informed and timely decisions. This project is based on the belief that NLP techniques can be used to address these challanges and enhancing the medical communication with better and advanced abbreviations."
      ]
    },
    {
      "cell_type": "markdown",
      "id": "e862d633",
      "metadata": {
        "id": "e862d633"
      },
      "source": [
        " # <u> Problem Description:\n",
        "\n",
        "Natural language processing (NLP) is becoming increasingly important in health and healthcare. NLP helps in assisting the physicians in making decisions, predicting health outcomes, preventing unpleasant events, and improving quality of treatment by converting unstructured data into structured / standardised data. AI advancements employing pre-trained transformer topologies have revolutionised NLP in recent years. These advances have enabled researchers to create generalizable language models and use them to obtain higher accuracy on future downstream tasks. Pre-trained transformer designs have since become commonplace for language tasks including contextual long-distance dependencies, and have been integrated into commercial services such as Google Search and Amazon Alexa.\n",
        "\n",
        "In the field of medical documentation, the widespread use of medical abbreviations poses a major challenge, often leading to misunderstandings that can have serious consequences for patient care. Ambiguity associated with abbreviations leads to communication breakdowns, potential medical errors, and compromised patient safety. This project aims to address the pressing problem of medical abbreviation misinterpretation by investigating root causes, developing robust solutions, and implementing strategies to improve clarity and accuracy in medical communication."
      ]
    },
    {
      "cell_type": "markdown",
      "id": "5f6abaae",
      "metadata": {
        "id": "5f6abaae"
      },
      "source": [
        "# <u> Context of the Problem:\n",
        "\n",
        "Recognising, disambiguating, and expanding medical abbreviations and acronyms is critical for preventing medically-dangerous misinterpretation in natural language processing. We give the medical abbreviation and Acronym Meta-Inventory, a comprehensive database of medical abbreviations, to aid in recognition, disambiguation, and growth.  A comprehensive harmonisation of eight source inventories from a variety of healthcare disciplines and contexts yielded 104,057 abbreviations and 170,426 related senses. Cross-mapping of synonymous records automaticallyUsing cutting-edge machine learning minimises redundancy, simplifying future applications.\n",
        "\n",
        "In addition to that Misinterpretation of medical abbreviations can lead to medication errors, treatment delays, and other adverse events, which can pose a direct threat to patient safety. The diverse and often context-sensitive nature of medical abbreviations creates misunderstandings among healthcare providers and impedes effective communication within the healthcare team. Addressing misunderstandings requires additional time and resources, which can result in operational inefficiencies and impact the overall quality of care. Inaccurate interpretation of medical abbreviations can lead to non-compliance with regulatory standards and affect legal and ethical aspects of medical documentation.\n",
        "\n",
        "The Inventories we have used to develop the solution is :-\n",
        "\n",
        "| Source | Description | Underlying Corpus | Medical Speciality |\n",
        "| --- | --- | --- | --- |\n",
        "| UMLS-LRABR | Unifed Medical Language System Lexical Resource for Abbreviations and Acronyms | Biomedical research | Multiple |\n",
        "| ADAM | Another Database of Abbreviations in Medline | Biomedical research | Multiple |\n",
        "| Berman | Manually-curated general pathology abbreviations | Clinical Notes | Pathology |\n",
        "| Wikipedia | Publicly-curated list of medical and clinical trial abbreviations | Clinical Notes | Multiple |\n",
        "| Vanderbilt1 | Semi-automatically derived from the medical record  | Sign -out Notes | Medicine |\n",
        "| Vanderbilt2 | Semi-automatically derived from the medical record | Discharge Notes | Medicine |\n",
        "| Stetson | Manually-curated from the general medical record | Sign-out Notes | Medicine |\n",
        "| Columbia | Manually-curated from the obstetric medical record  | Clinical Notes | Obstetrics |"
      ]
    },
    {
      "cell_type": "markdown",
      "id": "1b8e82c7",
      "metadata": {
        "id": "1b8e82c7"
      },
      "source": [
        "# <u> Limitation About other Approaches:\n",
        "\n",
        "Two fundamental challenges stand in the way of compiling a comprehensive sense inventory are :-\n",
        "1. faults have been identified in multiple sources, necessitating the use of quality control to correct them.\n",
        "2. Since abbreviations differ depending on expertise and setting, many individual sense inventories from various specialties and settings are required.\n",
        "\n",
        "The use of multiple inventories raises the chance of significant redundancy, necessitating cross-mapping (internal structure) to eliminate redundancy and facilitate future application. Due to the combinatorial nature of the problem, the number of comparisons increases exponentially with the number of records, making manual cross-mapping impractical. <br>\n",
        "    \n",
        "The patient Relies on human effort, which can be time-consuming and prone to errors. Standardization may not cover all possible abbreviations, and updates may be challenging to implement across diverse healthcare settings."
      ]
    },
    {
      "cell_type": "markdown",
      "id": "57aedc36",
      "metadata": {
        "id": "57aedc36"
      },
      "source": [
        "### Solution:\n",
        "\n",
        "A high-quality, full, relevant, and non-redundant deep sense inventory could overcome the difficulties of interoperability and generalizability. Such an inventory would necessitate the extraction, collation, and organisation of various source inventories. <br>\n",
        "<br>\n",
        "We propose a comprehensive database of medical abbreviations and acronyms that combines many source sense inventories from various corporations, medical disciplines, and medical contexts into a single **Meta-Inventory**.<br>\n",
        "<br>\n",
        "The Meta-Inventory addresses the above-mentioned challenges with two major features:\n",
        "1. Semi-automated quality control using heuristics to identify errors and improve reliability\n",
        "2. Automated cross-mapping of synonyms using cutting-edge machine learning to eliminate redundancy and simplify future downstream tasks."
      ]
    },
    {
      "cell_type": "markdown",
      "id": "f6baead6",
      "metadata": {
        "id": "f6baead6"
      },
      "source": [
        "# <u> Background\n",
        "\n",
        "Explain the related work using the following table\n",
        "\n",
        "| Reference |Explanation |  Dataset/Input |Weakness\n",
        "| --- | --- | --- | --- |\n",
        "| Yim et al. [1] | They tried to harvest important clinical variables trapped in the free-text narratives within electronic medical records.| Oncology dataset for QA | Limited to one section of medical field\n",
        "| Kreimeyer, K et al. [3] | identified many NLP systems capable of processing clinical free text and generating structured output| 71 different clinical data | No of records used were limited\n",
        "\n",
        "\n",
        "\n",
        "The last row in this table should be about the method discussed in this paper (If you can't find the weakenss of this method then write about the future improvement, see the future work section of the paper)"
      ]
    },
    {
      "cell_type": "markdown",
      "id": "16401dc6",
      "metadata": {
        "id": "16401dc6"
      },
      "source": [
        "# <u> Methodology\n",
        "\n",
        "In the selected paper, the following **data fields** from each source: [A] short form, or the abbreviation (e.g., \"MS\"); [B] long form, or the abbreviated version spelt out (e.g., \"Multiple Sclerosis\"); [C] source, or the name of the source inventory. Each row represents a single abbreviation (short form) and its associated sense (long form). <br>\n",
        "<br>\n",
        "Lastly, they added the following new data fields: [D] normalised short form, or a lexically normalised version of each short form, to reduce linguistic variation; [E] normalised long form, or a lexically normalised version of each long form, to reduce linguistic variation; [F] unique identifiers for each individual record, each unique short form, and each unique long form, to ease future database maintenance and use; The [G] group identifiers for each group of synonymous (cross-mapped) records, with the goal of reducing redundancy.\n",
        "\n"
      ]
    },
    {
      "cell_type": "markdown",
      "id": "604ca7ee",
      "metadata": {
        "id": "604ca7ee"
      },
      "source": [
        "# <u> Our Contribution\n",
        "\n",
        "We have added the keyword extraction in order to Summarize content by identifying and extracting key topics and tried to implement the BERT model developed using transformers"
      ]
    },
    {
      "cell_type": "markdown",
      "id": "fbec7ce4",
      "metadata": {
        "id": "fbec7ce4"
      },
      "source": [
        "# <u> Implementation\n",
        "    \n",
        "Here we have replicated the code from the existing paper and displayed the output as well.<br>\n",
        "Finally Our Contribution of Extracting the keywords and BERT model developed is also shown."
      ]
    },
    {
      "cell_type": "markdown",
      "id": "0b7c7fec",
      "metadata": {
        "id": "0b7c7fec"
      },
      "source": [
        "**Implementation of the Project is done as 3 steps :-**\n",
        "1. Preprocessing\n",
        "2. Data Field Entry\n",
        "3. Quality Control"
      ]
    },
    {
      "cell_type": "code",
      "execution_count": null,
      "id": "cd0b67f5",
      "metadata": {
        "id": "cd0b67f5",
        "outputId": "558f5618-f995-46b3-9fed-f69da2cbde81"
      },
      "outputs": [
        {
          "name": "stdout",
          "output_type": "stream",
          "text": [
            "Requirement already satisfied: configupdater in c:\\users\\hp\\anaconda3\\lib\\site-packages (3.2)\n"
          ]
        }
      ],
      "source": [
        "# here the data fields mentioned in the inventory and the new normalised data fields mentioned in the\n",
        "# above cell has been developed and stored as master_functions.py and called here.\n",
        "\n",
        "\n",
        "\n",
        "# %load master_functions.py\n",
        "'''\n",
        "Master Functions\n",
        "master_functions.py\n",
        "'''\n",
        "!pip install configupdater\n",
        "import pandas as pd\n",
        "import string\n",
        "import subprocess\n",
        "from configupdater import ConfigUpdater\n",
        "\n",
        "\n",
        "# Function to clean data frame\n",
        "def clean(df):\n",
        "  # Remove leading and trailing white space\n",
        "  cols = df.select_dtypes(['object']).columns\n",
        "  df[cols] = df[cols].apply(lambda x: x.str.strip())\n",
        "\n",
        "\n",
        "# Function to unnest columns in data frame\n",
        "def expand_col(df, col, d='|'):\n",
        "  # Split and stack indivcommitidual entries\n",
        "  s = df[col].str.split(d).apply(pd.Series, 1).stack()\n",
        "  # Match up with df indices\n",
        "  s.index = s.index.droplevel(-1)\n",
        "  # Name new column\n",
        "  s.name = col\n",
        "  # Delete old column\n",
        "  del df[col]\n",
        "  # Merge new column with df\n",
        "  df = df.join(s)\n",
        "  return df\n",
        "\n",
        "\n",
        "# Function to define normalized short form\n",
        "def normalized_short_form(sf):\n",
        "  # Convert to lowercase\n",
        "  sf = sf.lower()\n",
        "  # Strip leading and trailing whitespace\n",
        "  sf = sf.strip()\n",
        "  # Remove all periods\n",
        "  sf = sf.replace(\".\", \"\")\n",
        "  # Convert all punctuation to underscore\n",
        "  sf = sf.translate(str.maketrans(string.punctuation, '_'*len(string.punctuation)))\n",
        "  return sf\n",
        "\n",
        "\n",
        "# Function to execute command line LVG program\n",
        "def lvg(input_file, flow, output_file, lvg_path):\n",
        "  # Specify command\n",
        "  command = [lvg_path, # Specify path\n",
        "             '-i:' + input_file, # Input\n",
        "             '-f:' + flow, # Normalization flow\n",
        "             '-o:' + output_file, # Output\n",
        "             '-R:1', # Restrict\n",
        "             '-n'] # Suppress output\n",
        "  # Execute command\n",
        "  lvg_process = subprocess.check_output(command)\n",
        "  return lvg_process\n",
        "\n",
        "\n",
        "# Function to standardize CUI appearance\n",
        "def standardize_cui(cui):\n",
        "  # Use comma delimited CUIs\n",
        "  cui = cui.replace('|',',')\n",
        "  # Use CUIs with a capital C\n",
        "  cui = cui.replace('c', 'C')\n",
        "  return cui\n",
        "\n",
        "\n",
        "# Function to add new SFUI\n",
        "def add_new_SFUI(df_final):\n",
        "  updater = ConfigUpdater()\n",
        "  updater.read('setup.cfg')\n",
        "  # Subset into assigned and unassigned\n",
        "  df = df_final[df_final['SFUI']=='']\n",
        "  df_final = df_final[df_final['SFUI']!='']\n",
        "  if df.empty:\n",
        "    return df_final\n",
        "  else:\n",
        "    # Sort by SF\n",
        "    df = df.sort_values(by=['SF'])\n",
        "    df = df.reset_index(drop=True)\n",
        "    # Assign SFUI\n",
        "    assignment = int(updater['metadata']['sfui_last_assignment'].value) + 1\n",
        "    for index, row in df.iterrows():\n",
        "      if index == 0:\n",
        "        df['SFUI'].iat[index] = assignment\n",
        "      elif df['SF'].at[index] == df['SF'].at[index-1]:\n",
        "        df['SFUI'].iat[index] = assignment\n",
        "      else:\n",
        "        assignment += 1\n",
        "        df['SFUI'].iat[index] = assignment\n",
        "    # Format SFUI\n",
        "    df['SFUI'] = 'S' + (df.SFUI.map('{:06}'.format))\n",
        "    # Add back newly assigned\n",
        "    df_final = pd.concat([df_final, df])\n",
        "    df_final = df_final.reset_index(drop=True)\n",
        "    # Update config file\n",
        "    updater['metadata']['sfui_last_assignment'].value = assignment\n",
        "    updater.update_file()\n",
        "    # Return dataframe\n",
        "    return df_final\n",
        "\n",
        "\n",
        "# Function to add new LFUI\n",
        "def add_new_LFUI(df_final):\n",
        "  updater = ConfigUpdater()\n",
        "  updater.read('setup.cfg')\n",
        "  # Subset into assigned and unassigned\n",
        "  df = df_final[df_final['LFUI']=='']\n",
        "  df_final = df_final[df_final['LFUI']!='']\n",
        "  if df.empty:\n",
        "    return df_final\n",
        "  else:\n",
        "    # Sort by LF\n",
        "    df = df.sort_values(by=['LF'])\n",
        "    df = df.reset_index(drop=True)\n",
        "    # Assign SFUI\n",
        "    assignment = int(updater['metadata']['lfui_last_assignment'].value) + 1\n",
        "    for index, row in df.iterrows():\n",
        "      if index == 0:\n",
        "          df['LFUI'].iat[index] = assignment\n",
        "      elif df['LF'].at[index] == df['LF'].at[index-1]:\n",
        "          df['LFUI'].iat[index] = assignment\n",
        "      else:\n",
        "          assignment += 1\n",
        "          df['LFUI'].iat[index] = assignment\n",
        "    # Format SFUI\n",
        "    df['LFUI'] = 'L' + (df.LFUI.map('{:06}'.format))\n",
        "    # Add back newly assigned\n",
        "    df_final = pd.concat([df_final, df])\n",
        "    df_final = df_final.reset_index(drop=True)\n",
        "    # Update config file\n",
        "    updater['metadata']['lfui_last_assignment'].value = assignment\n",
        "    updater.update_file()\n",
        "    # Return dataframe\n",
        "    return df_final\n",
        "\n"
      ]
    },
    {
      "cell_type": "markdown",
      "id": "3d6bbb2b",
      "metadata": {
        "id": "3d6bbb2b"
      },
      "source": [
        "## Step 1 -  Preprocessing"
      ]
    },
    {
      "cell_type": "code",
      "execution_count": null,
      "id": "d00c76a3",
      "metadata": {
        "id": "d00c76a3"
      },
      "outputs": [],
      "source": [
        "import pandas as pd\n",
        "from master_functions import *"
      ]
    },
    {
      "cell_type": "code",
      "execution_count": null,
      "id": "f79b158f",
      "metadata": {
        "id": "f79b158f"
      },
      "outputs": [],
      "source": [
        "# this is the common data model developed for formatting all the 8 inventories selected\n",
        "\n",
        "out_db = pd.DataFrame(columns=['GroupID', 'RecordID', 'SF', 'SFUI', 'NormSF',\n",
        "                               'LF', 'LFUI', 'NormLF', 'Source',\n",
        "                               # Auxiliary data fields\n",
        "                               'SFEUI', 'LFEUI', 'Type', 'PrefSF', 'Score',\n",
        "                               'Count', 'Frequency', 'UMLS.CUI'])"
      ]
    },
    {
      "cell_type": "markdown",
      "id": "61c8a171",
      "metadata": {
        "id": "61c8a171"
      },
      "source": [
        "### Source #1: UMLS"
      ]
    },
    {
      "cell_type": "code",
      "execution_count": null,
      "id": "8da4a8e7",
      "metadata": {
        "id": "8da4a8e7"
      },
      "outputs": [],
      "source": [
        "# Loading the first inventory source\n",
        "\n",
        "umls_db = pd.read_csv('https://raw.githubusercontent.com/lisavirginia/clinical-abbreviations/master/sources/1-umls/LRABR',\n",
        "                      sep='|',\n",
        "                      header=None,\n",
        "                      names=['SFEUI', 'SF', 'Type', 'LFEUI', 'LF'],\n",
        "                      na_filter=False,\n",
        "                      index_col=False)"
      ]
    },
    {
      "cell_type": "code",
      "execution_count": null,
      "id": "23191098",
      "metadata": {
        "id": "23191098",
        "outputId": "46c32f73-e82f-4897-f49c-7ac5fa67df5c"
      },
      "outputs": [
        {
          "data": {
            "text/html": [
              "<div>\n",
              "<style scoped>\n",
              "    .dataframe tbody tr th:only-of-type {\n",
              "        vertical-align: middle;\n",
              "    }\n",
              "\n",
              "    .dataframe tbody tr th {\n",
              "        vertical-align: top;\n",
              "    }\n",
              "\n",
              "    .dataframe thead th {\n",
              "        text-align: right;\n",
              "    }\n",
              "</style>\n",
              "<table border=\"1\" class=\"dataframe\">\n",
              "  <thead>\n",
              "    <tr style=\"text-align: right;\">\n",
              "      <th></th>\n",
              "      <th>SFEUI</th>\n",
              "      <th>SF</th>\n",
              "      <th>Type</th>\n",
              "      <th>LFEUI</th>\n",
              "      <th>LF</th>\n",
              "    </tr>\n",
              "  </thead>\n",
              "  <tbody>\n",
              "    <tr>\n",
              "      <th>135790</th>\n",
              "      <td>E0672087</td>\n",
              "      <td>G. agilis</td>\n",
              "      <td>abbreviation</td>\n",
              "      <td>E0672086</td>\n",
              "      <td>Giardia agilis</td>\n",
              "    </tr>\n",
              "    <tr>\n",
              "      <th>58499</th>\n",
              "      <td>E0520697</td>\n",
              "      <td>ME</td>\n",
              "      <td>acronym</td>\n",
              "      <td>E0039236</td>\n",
              "      <td>median eminence</td>\n",
              "    </tr>\n",
              "    <tr>\n",
              "      <th>282286</th>\n",
              "      <td>E0761579</td>\n",
              "      <td>MYLK2</td>\n",
              "      <td>acronym</td>\n",
              "      <td>E0761578</td>\n",
              "      <td>myosin light chain kinase 2</td>\n",
              "    </tr>\n",
              "  </tbody>\n",
              "</table>\n",
              "</div>"
            ],
            "text/plain": [
              "           SFEUI         SF          Type     LFEUI  \\\n",
              "135790  E0672087  G. agilis  abbreviation  E0672086   \n",
              "58499   E0520697         ME       acronym  E0039236   \n",
              "282286  E0761579      MYLK2       acronym  E0761578   \n",
              "\n",
              "                                 LF  \n",
              "135790               Giardia agilis  \n",
              "58499               median eminence  \n",
              "282286  myosin light chain kinase 2  "
            ]
          },
          "execution_count": 12,
          "metadata": {},
          "output_type": "execute_result"
        }
      ],
      "source": [
        "# cleaning the data and printing first 3 rows of the source\n",
        "\n",
        "clean(umls_db)\n",
        "umls_db.sample(3, random_state=0)"
      ]
    },
    {
      "cell_type": "code",
      "execution_count": null,
      "id": "09697626",
      "metadata": {
        "id": "09697626"
      },
      "outputs": [],
      "source": [
        "# Fill Output Frame\n",
        "\n",
        "umls_out = out_db.copy()\n",
        "umls_out['SF'] = umls_db['SF']\n",
        "umls_out['LF'] = umls_db['LF']\n",
        "umls_out['Source'] = 'UMLS'\n",
        "umls_out['SFEUI'] = umls_db['SFEUI']\n",
        "umls_out['LFEUI'] = umls_db['LFEUI']\n",
        "umls_out['Type'] = umls_db['Type']"
      ]
    },
    {
      "cell_type": "code",
      "execution_count": null,
      "id": "5ecbf5d1",
      "metadata": {
        "id": "5ecbf5d1",
        "outputId": "93740c3c-b43d-464b-9cfd-e5e1a9007a5f"
      },
      "outputs": [
        {
          "data": {
            "text/html": [
              "<div>\n",
              "<style scoped>\n",
              "    .dataframe tbody tr th:only-of-type {\n",
              "        vertical-align: middle;\n",
              "    }\n",
              "\n",
              "    .dataframe tbody tr th {\n",
              "        vertical-align: top;\n",
              "    }\n",
              "\n",
              "    .dataframe thead th {\n",
              "        text-align: right;\n",
              "    }\n",
              "</style>\n",
              "<table border=\"1\" class=\"dataframe\">\n",
              "  <thead>\n",
              "    <tr style=\"text-align: right;\">\n",
              "      <th></th>\n",
              "      <th>GroupID</th>\n",
              "      <th>RecordID</th>\n",
              "      <th>SF</th>\n",
              "      <th>SFUI</th>\n",
              "      <th>NormSF</th>\n",
              "      <th>LF</th>\n",
              "      <th>LFUI</th>\n",
              "      <th>NormLF</th>\n",
              "      <th>Source</th>\n",
              "      <th>SFEUI</th>\n",
              "      <th>LFEUI</th>\n",
              "      <th>Type</th>\n",
              "      <th>PrefSF</th>\n",
              "      <th>Score</th>\n",
              "      <th>Count</th>\n",
              "      <th>Frequency</th>\n",
              "      <th>UMLS.CUI</th>\n",
              "    </tr>\n",
              "  </thead>\n",
              "  <tbody>\n",
              "    <tr>\n",
              "      <th>135790</th>\n",
              "      <td>NaN</td>\n",
              "      <td>NaN</td>\n",
              "      <td>G. agilis</td>\n",
              "      <td>NaN</td>\n",
              "      <td>NaN</td>\n",
              "      <td>Giardia agilis</td>\n",
              "      <td>NaN</td>\n",
              "      <td>NaN</td>\n",
              "      <td>UMLS</td>\n",
              "      <td>E0672087</td>\n",
              "      <td>E0672086</td>\n",
              "      <td>abbreviation</td>\n",
              "      <td>NaN</td>\n",
              "      <td>NaN</td>\n",
              "      <td>NaN</td>\n",
              "      <td>NaN</td>\n",
              "      <td>NaN</td>\n",
              "    </tr>\n",
              "    <tr>\n",
              "      <th>58499</th>\n",
              "      <td>NaN</td>\n",
              "      <td>NaN</td>\n",
              "      <td>ME</td>\n",
              "      <td>NaN</td>\n",
              "      <td>NaN</td>\n",
              "      <td>median eminence</td>\n",
              "      <td>NaN</td>\n",
              "      <td>NaN</td>\n",
              "      <td>UMLS</td>\n",
              "      <td>E0520697</td>\n",
              "      <td>E0039236</td>\n",
              "      <td>acronym</td>\n",
              "      <td>NaN</td>\n",
              "      <td>NaN</td>\n",
              "      <td>NaN</td>\n",
              "      <td>NaN</td>\n",
              "      <td>NaN</td>\n",
              "    </tr>\n",
              "    <tr>\n",
              "      <th>282286</th>\n",
              "      <td>NaN</td>\n",
              "      <td>NaN</td>\n",
              "      <td>MYLK2</td>\n",
              "      <td>NaN</td>\n",
              "      <td>NaN</td>\n",
              "      <td>myosin light chain kinase 2</td>\n",
              "      <td>NaN</td>\n",
              "      <td>NaN</td>\n",
              "      <td>UMLS</td>\n",
              "      <td>E0761579</td>\n",
              "      <td>E0761578</td>\n",
              "      <td>acronym</td>\n",
              "      <td>NaN</td>\n",
              "      <td>NaN</td>\n",
              "      <td>NaN</td>\n",
              "      <td>NaN</td>\n",
              "      <td>NaN</td>\n",
              "    </tr>\n",
              "  </tbody>\n",
              "</table>\n",
              "</div>"
            ],
            "text/plain": [
              "       GroupID RecordID         SF SFUI NormSF                           LF  \\\n",
              "135790     NaN      NaN  G. agilis  NaN    NaN               Giardia agilis   \n",
              "58499      NaN      NaN         ME  NaN    NaN              median eminence   \n",
              "282286     NaN      NaN      MYLK2  NaN    NaN  myosin light chain kinase 2   \n",
              "\n",
              "       LFUI NormLF Source     SFEUI     LFEUI          Type PrefSF Score  \\\n",
              "135790  NaN    NaN   UMLS  E0672087  E0672086  abbreviation    NaN   NaN   \n",
              "58499   NaN    NaN   UMLS  E0520697  E0039236       acronym    NaN   NaN   \n",
              "282286  NaN    NaN   UMLS  E0761579  E0761578       acronym    NaN   NaN   \n",
              "\n",
              "       Count Frequency UMLS.CUI  \n",
              "135790   NaN       NaN      NaN  \n",
              "58499    NaN       NaN      NaN  \n",
              "282286   NaN       NaN      NaN  "
            ]
          },
          "execution_count": 14,
          "metadata": {},
          "output_type": "execute_result"
        }
      ],
      "source": [
        "umls_out.sample(3, random_state=0)"
      ]
    },
    {
      "cell_type": "code",
      "execution_count": null,
      "id": "18ea3309",
      "metadata": {
        "id": "18ea3309"
      },
      "outputs": [],
      "source": [
        "# append the output\n",
        "\n",
        "out_list = []\n",
        "out_list.append(umls_out)"
      ]
    },
    {
      "cell_type": "markdown",
      "id": "701e21a2",
      "metadata": {
        "id": "701e21a2"
      },
      "source": [
        "### Source #2: ADAM"
      ]
    },
    {
      "cell_type": "code",
      "execution_count": null,
      "id": "db82ab48",
      "metadata": {
        "id": "db82ab48"
      },
      "outputs": [],
      "source": [
        "# Loading the second inventory source\n",
        "\n",
        "adam_db = pd.read_csv('https://raw.githubusercontent.com/lisavirginia/clinical-abbreviations/master/sources/2-adam/adam_database',\n",
        "                      sep='\\t',\n",
        "                      skiprows=38,  # skips readme portion\n",
        "                      header=None,\n",
        "                      names=['Pref_SF', 'Alt_SF', 'All_LF', 'Score', 'Count'],\n",
        "                      na_filter=False,\n",
        "                      index_col=False)"
      ]
    },
    {
      "cell_type": "code",
      "execution_count": null,
      "id": "921f991f",
      "metadata": {
        "id": "921f991f",
        "outputId": "130cf362-1ebb-40c1-9983-845bdb93859f"
      },
      "outputs": [
        {
          "data": {
            "text/html": [
              "<div>\n",
              "<style scoped>\n",
              "    .dataframe tbody tr th:only-of-type {\n",
              "        vertical-align: middle;\n",
              "    }\n",
              "\n",
              "    .dataframe tbody tr th {\n",
              "        vertical-align: top;\n",
              "    }\n",
              "\n",
              "    .dataframe thead th {\n",
              "        text-align: right;\n",
              "    }\n",
              "</style>\n",
              "<table border=\"1\" class=\"dataframe\">\n",
              "  <thead>\n",
              "    <tr style=\"text-align: right;\">\n",
              "      <th></th>\n",
              "      <th>Pref_SF</th>\n",
              "      <th>Alt_SF</th>\n",
              "      <th>All_LF</th>\n",
              "      <th>Score</th>\n",
              "      <th>Count</th>\n",
              "    </tr>\n",
              "  </thead>\n",
              "  <tbody>\n",
              "    <tr>\n",
              "      <th>13054</th>\n",
              "      <td>DMN</td>\n",
              "      <td>DMN:15</td>\n",
              "      <td>dysplastic melanocytic nevi:15:0.8045</td>\n",
              "      <td>0.8045</td>\n",
              "      <td>15</td>\n",
              "    </tr>\n",
              "    <tr>\n",
              "      <th>5739</th>\n",
              "      <td>BM</td>\n",
              "      <td>BM:8|Bm:1</td>\n",
              "      <td>bicuculline methiodide:9:0.6794</td>\n",
              "      <td>0.6794</td>\n",
              "      <td>9</td>\n",
              "    </tr>\n",
              "    <tr>\n",
              "      <th>19192</th>\n",
              "      <td>GISSI-2</td>\n",
              "      <td>GISSI-2:10</td>\n",
              "      <td>Gruppo Italiano per lo Studio della Sopravvive...</td>\n",
              "      <td>0.5470</td>\n",
              "      <td>10</td>\n",
              "    </tr>\n",
              "  </tbody>\n",
              "</table>\n",
              "</div>"
            ],
            "text/plain": [
              "       Pref_SF      Alt_SF                                             All_LF  \\\n",
              "13054      DMN      DMN:15              dysplastic melanocytic nevi:15:0.8045   \n",
              "5739        BM   BM:8|Bm:1                    bicuculline methiodide:9:0.6794   \n",
              "19192  GISSI-2  GISSI-2:10  Gruppo Italiano per lo Studio della Sopravvive...   \n",
              "\n",
              "        Score  Count  \n",
              "13054  0.8045     15  \n",
              "5739   0.6794      9  \n",
              "19192  0.5470     10  "
            ]
          },
          "execution_count": 17,
          "metadata": {},
          "output_type": "execute_result"
        }
      ],
      "source": [
        "# cleaning the data by calling the function clean which was developed inside master_functions.py\n",
        "\n",
        "clean(adam_db)\n",
        "adam_db.sample(3, random_state=0)"
      ]
    },
    {
      "cell_type": "code",
      "execution_count": null,
      "id": "3960e5f4",
      "metadata": {
        "id": "3960e5f4"
      },
      "outputs": [],
      "source": [
        "adam_out = out_db.copy()\n",
        "adam_out['SF'] = adam_db['Alt_SF']\n",
        "adam_out['LF'] = adam_db['All_LF']\n",
        "adam_out['Source'] = 'ADAM'\n",
        "adam_out['PrefSF'] = adam_db['Pref_SF']"
      ]
    },
    {
      "cell_type": "code",
      "execution_count": null,
      "id": "9ac802a8",
      "metadata": {
        "id": "9ac802a8",
        "outputId": "8b5b9f7e-57e0-42e1-a9c8-fb187263e130"
      },
      "outputs": [
        {
          "data": {
            "text/html": [
              "<div>\n",
              "<style scoped>\n",
              "    .dataframe tbody tr th:only-of-type {\n",
              "        vertical-align: middle;\n",
              "    }\n",
              "\n",
              "    .dataframe tbody tr th {\n",
              "        vertical-align: top;\n",
              "    }\n",
              "\n",
              "    .dataframe thead th {\n",
              "        text-align: right;\n",
              "    }\n",
              "</style>\n",
              "<table border=\"1\" class=\"dataframe\">\n",
              "  <thead>\n",
              "    <tr style=\"text-align: right;\">\n",
              "      <th></th>\n",
              "      <th>GroupID</th>\n",
              "      <th>RecordID</th>\n",
              "      <th>SF</th>\n",
              "      <th>SFUI</th>\n",
              "      <th>NormSF</th>\n",
              "      <th>LF</th>\n",
              "      <th>LFUI</th>\n",
              "      <th>NormLF</th>\n",
              "      <th>Source</th>\n",
              "      <th>SFEUI</th>\n",
              "      <th>LFEUI</th>\n",
              "      <th>Type</th>\n",
              "      <th>PrefSF</th>\n",
              "      <th>Score</th>\n",
              "      <th>Count</th>\n",
              "      <th>Frequency</th>\n",
              "      <th>UMLS.CUI</th>\n",
              "    </tr>\n",
              "  </thead>\n",
              "  <tbody>\n",
              "    <tr>\n",
              "      <th>13054</th>\n",
              "      <td>NaN</td>\n",
              "      <td>NaN</td>\n",
              "      <td>DMN:15</td>\n",
              "      <td>NaN</td>\n",
              "      <td>NaN</td>\n",
              "      <td>dysplastic melanocytic nevi:15:0.8045</td>\n",
              "      <td>NaN</td>\n",
              "      <td>NaN</td>\n",
              "      <td>ADAM</td>\n",
              "      <td>NaN</td>\n",
              "      <td>NaN</td>\n",
              "      <td>NaN</td>\n",
              "      <td>DMN</td>\n",
              "      <td>NaN</td>\n",
              "      <td>NaN</td>\n",
              "      <td>NaN</td>\n",
              "      <td>NaN</td>\n",
              "    </tr>\n",
              "    <tr>\n",
              "      <th>5739</th>\n",
              "      <td>NaN</td>\n",
              "      <td>NaN</td>\n",
              "      <td>BM:8|Bm:1</td>\n",
              "      <td>NaN</td>\n",
              "      <td>NaN</td>\n",
              "      <td>bicuculline methiodide:9:0.6794</td>\n",
              "      <td>NaN</td>\n",
              "      <td>NaN</td>\n",
              "      <td>ADAM</td>\n",
              "      <td>NaN</td>\n",
              "      <td>NaN</td>\n",
              "      <td>NaN</td>\n",
              "      <td>BM</td>\n",
              "      <td>NaN</td>\n",
              "      <td>NaN</td>\n",
              "      <td>NaN</td>\n",
              "      <td>NaN</td>\n",
              "    </tr>\n",
              "    <tr>\n",
              "      <th>19192</th>\n",
              "      <td>NaN</td>\n",
              "      <td>NaN</td>\n",
              "      <td>GISSI-2:10</td>\n",
              "      <td>NaN</td>\n",
              "      <td>NaN</td>\n",
              "      <td>Gruppo Italiano per lo Studio della Sopravvive...</td>\n",
              "      <td>NaN</td>\n",
              "      <td>NaN</td>\n",
              "      <td>ADAM</td>\n",
              "      <td>NaN</td>\n",
              "      <td>NaN</td>\n",
              "      <td>NaN</td>\n",
              "      <td>GISSI-2</td>\n",
              "      <td>NaN</td>\n",
              "      <td>NaN</td>\n",
              "      <td>NaN</td>\n",
              "      <td>NaN</td>\n",
              "    </tr>\n",
              "  </tbody>\n",
              "</table>\n",
              "</div>"
            ],
            "text/plain": [
              "      GroupID RecordID          SF SFUI NormSF  \\\n",
              "13054     NaN      NaN      DMN:15  NaN    NaN   \n",
              "5739      NaN      NaN   BM:8|Bm:1  NaN    NaN   \n",
              "19192     NaN      NaN  GISSI-2:10  NaN    NaN   \n",
              "\n",
              "                                                      LF LFUI NormLF Source  \\\n",
              "13054              dysplastic melanocytic nevi:15:0.8045  NaN    NaN   ADAM   \n",
              "5739                     bicuculline methiodide:9:0.6794  NaN    NaN   ADAM   \n",
              "19192  Gruppo Italiano per lo Studio della Sopravvive...  NaN    NaN   ADAM   \n",
              "\n",
              "      SFEUI LFEUI Type   PrefSF Score Count Frequency UMLS.CUI  \n",
              "13054   NaN   NaN  NaN      DMN   NaN   NaN       NaN      NaN  \n",
              "5739    NaN   NaN  NaN       BM   NaN   NaN       NaN      NaN  \n",
              "19192   NaN   NaN  NaN  GISSI-2   NaN   NaN       NaN      NaN  "
            ]
          },
          "execution_count": 19,
          "metadata": {},
          "output_type": "execute_result"
        }
      ],
      "source": [
        "adam_out.sample(3, random_state=0)"
      ]
    },
    {
      "cell_type": "code",
      "execution_count": null,
      "id": "07a116d8",
      "metadata": {
        "id": "07a116d8"
      },
      "outputs": [],
      "source": [
        "adam_out = expand_col(adam_out, 'SF')\n",
        "adam_out = expand_col(adam_out, 'LF')\n",
        "adam_out.drop_duplicates(inplace=True)"
      ]
    },
    {
      "cell_type": "code",
      "execution_count": null,
      "id": "35c49d44",
      "metadata": {
        "id": "35c49d44",
        "outputId": "40549062-c7b0-4852-eea5-23a987903d79"
      },
      "outputs": [
        {
          "data": {
            "text/html": [
              "<div>\n",
              "<style scoped>\n",
              "    .dataframe tbody tr th:only-of-type {\n",
              "        vertical-align: middle;\n",
              "    }\n",
              "\n",
              "    .dataframe tbody tr th {\n",
              "        vertical-align: top;\n",
              "    }\n",
              "\n",
              "    .dataframe thead th {\n",
              "        text-align: right;\n",
              "    }\n",
              "</style>\n",
              "<table border=\"1\" class=\"dataframe\">\n",
              "  <thead>\n",
              "    <tr style=\"text-align: right;\">\n",
              "      <th></th>\n",
              "      <th>GroupID</th>\n",
              "      <th>RecordID</th>\n",
              "      <th>SFUI</th>\n",
              "      <th>NormSF</th>\n",
              "      <th>LFUI</th>\n",
              "      <th>NormLF</th>\n",
              "      <th>Source</th>\n",
              "      <th>SFEUI</th>\n",
              "      <th>LFEUI</th>\n",
              "      <th>Type</th>\n",
              "      <th>PrefSF</th>\n",
              "      <th>Score</th>\n",
              "      <th>Count</th>\n",
              "      <th>Frequency</th>\n",
              "      <th>UMLS.CUI</th>\n",
              "      <th>SF</th>\n",
              "      <th>LF</th>\n",
              "    </tr>\n",
              "  </thead>\n",
              "  <tbody>\n",
              "    <tr>\n",
              "      <th>2789</th>\n",
              "      <td>NaN</td>\n",
              "      <td>NaN</td>\n",
              "      <td>NaN</td>\n",
              "      <td>NaN</td>\n",
              "      <td>NaN</td>\n",
              "      <td>NaN</td>\n",
              "      <td>ADAM</td>\n",
              "      <td>NaN</td>\n",
              "      <td>NaN</td>\n",
              "      <td>NaN</td>\n",
              "      <td>ANF</td>\n",
              "      <td>NaN</td>\n",
              "      <td>NaN</td>\n",
              "      <td>NaN</td>\n",
              "      <td>NaN</td>\n",
              "      <td>ANF:19</td>\n",
              "      <td>atrial natriuretic peptide:19:0.7658</td>\n",
              "    </tr>\n",
              "    <tr>\n",
              "      <th>12925</th>\n",
              "      <td>NaN</td>\n",
              "      <td>NaN</td>\n",
              "      <td>NaN</td>\n",
              "      <td>NaN</td>\n",
              "      <td>NaN</td>\n",
              "      <td>NaN</td>\n",
              "      <td>ADAM</td>\n",
              "      <td>NaN</td>\n",
              "      <td>NaN</td>\n",
              "      <td>NaN</td>\n",
              "      <td>DLS</td>\n",
              "      <td>NaN</td>\n",
              "      <td>NaN</td>\n",
              "      <td>NaN</td>\n",
              "      <td>NaN</td>\n",
              "      <td>DLS:159</td>\n",
              "      <td>dynamic light scattering:150:0.9220</td>\n",
              "    </tr>\n",
              "    <tr>\n",
              "      <th>23483</th>\n",
              "      <td>NaN</td>\n",
              "      <td>NaN</td>\n",
              "      <td>NaN</td>\n",
              "      <td>NaN</td>\n",
              "      <td>NaN</td>\n",
              "      <td>NaN</td>\n",
              "      <td>ADAM</td>\n",
              "      <td>NaN</td>\n",
              "      <td>NaN</td>\n",
              "      <td>NaN</td>\n",
              "      <td>Ids</td>\n",
              "      <td>NaN</td>\n",
              "      <td>NaN</td>\n",
              "      <td>NaN</td>\n",
              "      <td>NaN</td>\n",
              "      <td>ids:1</td>\n",
              "      <td>idiotypes:14:0.0378</td>\n",
              "    </tr>\n",
              "  </tbody>\n",
              "</table>\n",
              "</div>"
            ],
            "text/plain": [
              "      GroupID RecordID SFUI NormSF LFUI NormLF Source SFEUI LFEUI Type PrefSF  \\\n",
              "2789      NaN      NaN  NaN    NaN  NaN    NaN   ADAM   NaN   NaN  NaN    ANF   \n",
              "12925     NaN      NaN  NaN    NaN  NaN    NaN   ADAM   NaN   NaN  NaN    DLS   \n",
              "23483     NaN      NaN  NaN    NaN  NaN    NaN   ADAM   NaN   NaN  NaN    Ids   \n",
              "\n",
              "      Score Count Frequency UMLS.CUI       SF  \\\n",
              "2789    NaN   NaN       NaN      NaN   ANF:19   \n",
              "12925   NaN   NaN       NaN      NaN  DLS:159   \n",
              "23483   NaN   NaN       NaN      NaN    ids:1   \n",
              "\n",
              "                                         LF  \n",
              "2789   atrial natriuretic peptide:19:0.7658  \n",
              "12925   dynamic light scattering:150:0.9220  \n",
              "23483                   idiotypes:14:0.0378  "
            ]
          },
          "execution_count": 21,
          "metadata": {},
          "output_type": "execute_result"
        }
      ],
      "source": [
        "adam_out.sample(3, random_state=0)"
      ]
    },
    {
      "cell_type": "code",
      "execution_count": null,
      "id": "2e29f221",
      "metadata": {
        "id": "2e29f221"
      },
      "outputs": [],
      "source": [
        "# assigning count information\n",
        "\n",
        "temp = adam_out['SF'].str.split(':', expand=True)\n",
        "adam_out['SF'] = temp[0]\n",
        "adam_out['Count'] = temp[1]"
      ]
    },
    {
      "cell_type": "code",
      "execution_count": null,
      "id": "5532fe5a",
      "metadata": {
        "id": "5532fe5a"
      },
      "outputs": [],
      "source": [
        "# assigning score information\n",
        "\n",
        "temp = adam_out['LF'].str.split(':', expand=True)\n",
        "adam_out['LF'] = temp[0]\n",
        "adam_out['Score'] = temp[2]"
      ]
    },
    {
      "cell_type": "code",
      "execution_count": null,
      "id": "a984b667",
      "metadata": {
        "id": "a984b667",
        "outputId": "a9e08eaf-df1a-457f-ac32-e7f874f5e6ee"
      },
      "outputs": [
        {
          "data": {
            "text/html": [
              "<div>\n",
              "<style scoped>\n",
              "    .dataframe tbody tr th:only-of-type {\n",
              "        vertical-align: middle;\n",
              "    }\n",
              "\n",
              "    .dataframe tbody tr th {\n",
              "        vertical-align: top;\n",
              "    }\n",
              "\n",
              "    .dataframe thead th {\n",
              "        text-align: right;\n",
              "    }\n",
              "</style>\n",
              "<table border=\"1\" class=\"dataframe\">\n",
              "  <thead>\n",
              "    <tr style=\"text-align: right;\">\n",
              "      <th></th>\n",
              "      <th>GroupID</th>\n",
              "      <th>RecordID</th>\n",
              "      <th>SF</th>\n",
              "      <th>SFUI</th>\n",
              "      <th>NormSF</th>\n",
              "      <th>LF</th>\n",
              "      <th>LFUI</th>\n",
              "      <th>NormLF</th>\n",
              "      <th>Source</th>\n",
              "      <th>SFEUI</th>\n",
              "      <th>LFEUI</th>\n",
              "      <th>Type</th>\n",
              "      <th>PrefSF</th>\n",
              "      <th>Score</th>\n",
              "      <th>Count</th>\n",
              "      <th>Frequency</th>\n",
              "      <th>UMLS.CUI</th>\n",
              "    </tr>\n",
              "  </thead>\n",
              "  <tbody>\n",
              "    <tr>\n",
              "      <th>2789</th>\n",
              "      <td>NaN</td>\n",
              "      <td>NaN</td>\n",
              "      <td>ANF</td>\n",
              "      <td>NaN</td>\n",
              "      <td>NaN</td>\n",
              "      <td>atrial natriuretic peptide</td>\n",
              "      <td>NaN</td>\n",
              "      <td>NaN</td>\n",
              "      <td>ADAM</td>\n",
              "      <td>NaN</td>\n",
              "      <td>NaN</td>\n",
              "      <td>NaN</td>\n",
              "      <td>ANF</td>\n",
              "      <td>0.7658</td>\n",
              "      <td>19</td>\n",
              "      <td>NaN</td>\n",
              "      <td>NaN</td>\n",
              "    </tr>\n",
              "    <tr>\n",
              "      <th>12925</th>\n",
              "      <td>NaN</td>\n",
              "      <td>NaN</td>\n",
              "      <td>DLS</td>\n",
              "      <td>NaN</td>\n",
              "      <td>NaN</td>\n",
              "      <td>dynamic light scattering</td>\n",
              "      <td>NaN</td>\n",
              "      <td>NaN</td>\n",
              "      <td>ADAM</td>\n",
              "      <td>NaN</td>\n",
              "      <td>NaN</td>\n",
              "      <td>NaN</td>\n",
              "      <td>DLS</td>\n",
              "      <td>0.9220</td>\n",
              "      <td>159</td>\n",
              "      <td>NaN</td>\n",
              "      <td>NaN</td>\n",
              "    </tr>\n",
              "    <tr>\n",
              "      <th>23483</th>\n",
              "      <td>NaN</td>\n",
              "      <td>NaN</td>\n",
              "      <td>ids</td>\n",
              "      <td>NaN</td>\n",
              "      <td>NaN</td>\n",
              "      <td>idiotypes</td>\n",
              "      <td>NaN</td>\n",
              "      <td>NaN</td>\n",
              "      <td>ADAM</td>\n",
              "      <td>NaN</td>\n",
              "      <td>NaN</td>\n",
              "      <td>NaN</td>\n",
              "      <td>Ids</td>\n",
              "      <td>0.0378</td>\n",
              "      <td>1</td>\n",
              "      <td>NaN</td>\n",
              "      <td>NaN</td>\n",
              "    </tr>\n",
              "  </tbody>\n",
              "</table>\n",
              "</div>"
            ],
            "text/plain": [
              "      GroupID RecordID   SF SFUI NormSF                          LF LFUI  \\\n",
              "2789      NaN      NaN  ANF  NaN    NaN  atrial natriuretic peptide  NaN   \n",
              "12925     NaN      NaN  DLS  NaN    NaN    dynamic light scattering  NaN   \n",
              "23483     NaN      NaN  ids  NaN    NaN                   idiotypes  NaN   \n",
              "\n",
              "      NormLF Source SFEUI LFEUI Type PrefSF   Score Count Frequency UMLS.CUI  \n",
              "2789     NaN   ADAM   NaN   NaN  NaN    ANF  0.7658    19       NaN      NaN  \n",
              "12925    NaN   ADAM   NaN   NaN  NaN    DLS  0.9220   159       NaN      NaN  \n",
              "23483    NaN   ADAM   NaN   NaN  NaN    Ids  0.0378     1       NaN      NaN  "
            ]
          },
          "execution_count": 24,
          "metadata": {},
          "output_type": "execute_result"
        }
      ],
      "source": [
        "# Reordering the columns\n",
        "\n",
        "adam_out = adam_out[out_db.columns]\n",
        "adam_out.sample(3, random_state=0)"
      ]
    },
    {
      "cell_type": "code",
      "execution_count": null,
      "id": "4d6a08f6",
      "metadata": {
        "id": "4d6a08f6"
      },
      "outputs": [],
      "source": [
        "# appending the output\n",
        "\n",
        "out_list.append(adam_out)"
      ]
    },
    {
      "cell_type": "markdown",
      "id": "d7c8ef00",
      "metadata": {
        "id": "d7c8ef00"
      },
      "source": [
        "### Source #3: Berman"
      ]
    },
    {
      "cell_type": "code",
      "execution_count": null,
      "id": "58459320",
      "metadata": {
        "id": "58459320"
      },
      "outputs": [],
      "source": [
        "# loading the third inventory source\n",
        "\n",
        "berm_db = pd.read_csv('https://raw.githubusercontent.com/lisavirginia/clinical-abbreviations/master/sources/3-berman/12000_pathology_abbreviations.txt',\n",
        "                      sep='=',\n",
        "                      header=None,\n",
        "                      names=['SF', 'LF'],\n",
        "                      na_filter=False,\n",
        "                      index_col=False)"
      ]
    },
    {
      "cell_type": "code",
      "execution_count": null,
      "id": "79fc716f",
      "metadata": {
        "id": "79fc716f",
        "outputId": "b0899bd5-d964-475e-a735-61c2f4366cdb"
      },
      "outputs": [
        {
          "data": {
            "text/html": [
              "<div>\n",
              "<style scoped>\n",
              "    .dataframe tbody tr th:only-of-type {\n",
              "        vertical-align: middle;\n",
              "    }\n",
              "\n",
              "    .dataframe tbody tr th {\n",
              "        vertical-align: top;\n",
              "    }\n",
              "\n",
              "    .dataframe thead th {\n",
              "        text-align: right;\n",
              "    }\n",
              "</style>\n",
              "<table border=\"1\" class=\"dataframe\">\n",
              "  <thead>\n",
              "    <tr style=\"text-align: right;\">\n",
              "      <th></th>\n",
              "      <th>SF</th>\n",
              "      <th>LF</th>\n",
              "    </tr>\n",
              "  </thead>\n",
              "  <tbody>\n",
              "    <tr>\n",
              "      <th>9783</th>\n",
              "      <td>au</td>\n",
              "      <td>arbitrary unit</td>\n",
              "    </tr>\n",
              "    <tr>\n",
              "      <th>3706</th>\n",
              "      <td>npo</td>\n",
              "      <td>nothing by mouth</td>\n",
              "    </tr>\n",
              "    <tr>\n",
              "      <th>3234</th>\n",
              "      <td>mdm</td>\n",
              "      <td>mid diastolic murmur</td>\n",
              "    </tr>\n",
              "  </tbody>\n",
              "</table>\n",
              "</div>"
            ],
            "text/plain": [
              "       SF                    LF\n",
              "9783   au        arbitrary unit\n",
              "3706  npo      nothing by mouth\n",
              "3234  mdm  mid diastolic murmur"
            ]
          },
          "execution_count": 27,
          "metadata": {},
          "output_type": "execute_result"
        }
      ],
      "source": [
        "clean(berm_db)\n",
        "berm_db.sample(3, random_state=0)"
      ]
    },
    {
      "cell_type": "code",
      "execution_count": null,
      "id": "ed622ca0",
      "metadata": {
        "id": "ed622ca0"
      },
      "outputs": [],
      "source": [
        "berm_out = out_db.copy()\n",
        "berm_out['SF'] = berm_db['SF']\n",
        "berm_out['LF'] = berm_db['LF']\n",
        "berm_out['Source'] = 'Berman'"
      ]
    },
    {
      "cell_type": "code",
      "execution_count": null,
      "id": "30b6b5fa",
      "metadata": {
        "id": "30b6b5fa",
        "outputId": "b2f2e770-4332-4614-c588-3d8429df6a34"
      },
      "outputs": [
        {
          "data": {
            "text/html": [
              "<div>\n",
              "<style scoped>\n",
              "    .dataframe tbody tr th:only-of-type {\n",
              "        vertical-align: middle;\n",
              "    }\n",
              "\n",
              "    .dataframe tbody tr th {\n",
              "        vertical-align: top;\n",
              "    }\n",
              "\n",
              "    .dataframe thead th {\n",
              "        text-align: right;\n",
              "    }\n",
              "</style>\n",
              "<table border=\"1\" class=\"dataframe\">\n",
              "  <thead>\n",
              "    <tr style=\"text-align: right;\">\n",
              "      <th></th>\n",
              "      <th>GroupID</th>\n",
              "      <th>RecordID</th>\n",
              "      <th>SF</th>\n",
              "      <th>SFUI</th>\n",
              "      <th>NormSF</th>\n",
              "      <th>LF</th>\n",
              "      <th>LFUI</th>\n",
              "      <th>NormLF</th>\n",
              "      <th>Source</th>\n",
              "      <th>SFEUI</th>\n",
              "      <th>LFEUI</th>\n",
              "      <th>Type</th>\n",
              "      <th>PrefSF</th>\n",
              "      <th>Score</th>\n",
              "      <th>Count</th>\n",
              "      <th>Frequency</th>\n",
              "      <th>UMLS.CUI</th>\n",
              "    </tr>\n",
              "  </thead>\n",
              "  <tbody>\n",
              "    <tr>\n",
              "      <th>9783</th>\n",
              "      <td>NaN</td>\n",
              "      <td>NaN</td>\n",
              "      <td>au</td>\n",
              "      <td>NaN</td>\n",
              "      <td>NaN</td>\n",
              "      <td>arbitrary unit</td>\n",
              "      <td>NaN</td>\n",
              "      <td>NaN</td>\n",
              "      <td>Berman</td>\n",
              "      <td>NaN</td>\n",
              "      <td>NaN</td>\n",
              "      <td>NaN</td>\n",
              "      <td>NaN</td>\n",
              "      <td>NaN</td>\n",
              "      <td>NaN</td>\n",
              "      <td>NaN</td>\n",
              "      <td>NaN</td>\n",
              "    </tr>\n",
              "    <tr>\n",
              "      <th>3706</th>\n",
              "      <td>NaN</td>\n",
              "      <td>NaN</td>\n",
              "      <td>npo</td>\n",
              "      <td>NaN</td>\n",
              "      <td>NaN</td>\n",
              "      <td>nothing by mouth</td>\n",
              "      <td>NaN</td>\n",
              "      <td>NaN</td>\n",
              "      <td>Berman</td>\n",
              "      <td>NaN</td>\n",
              "      <td>NaN</td>\n",
              "      <td>NaN</td>\n",
              "      <td>NaN</td>\n",
              "      <td>NaN</td>\n",
              "      <td>NaN</td>\n",
              "      <td>NaN</td>\n",
              "      <td>NaN</td>\n",
              "    </tr>\n",
              "    <tr>\n",
              "      <th>3234</th>\n",
              "      <td>NaN</td>\n",
              "      <td>NaN</td>\n",
              "      <td>mdm</td>\n",
              "      <td>NaN</td>\n",
              "      <td>NaN</td>\n",
              "      <td>mid diastolic murmur</td>\n",
              "      <td>NaN</td>\n",
              "      <td>NaN</td>\n",
              "      <td>Berman</td>\n",
              "      <td>NaN</td>\n",
              "      <td>NaN</td>\n",
              "      <td>NaN</td>\n",
              "      <td>NaN</td>\n",
              "      <td>NaN</td>\n",
              "      <td>NaN</td>\n",
              "      <td>NaN</td>\n",
              "      <td>NaN</td>\n",
              "    </tr>\n",
              "  </tbody>\n",
              "</table>\n",
              "</div>"
            ],
            "text/plain": [
              "     GroupID RecordID   SF SFUI NormSF                    LF LFUI NormLF  \\\n",
              "9783     NaN      NaN   au  NaN    NaN        arbitrary unit  NaN    NaN   \n",
              "3706     NaN      NaN  npo  NaN    NaN      nothing by mouth  NaN    NaN   \n",
              "3234     NaN      NaN  mdm  NaN    NaN  mid diastolic murmur  NaN    NaN   \n",
              "\n",
              "      Source SFEUI LFEUI Type PrefSF Score Count Frequency UMLS.CUI  \n",
              "9783  Berman   NaN   NaN  NaN    NaN   NaN   NaN       NaN      NaN  \n",
              "3706  Berman   NaN   NaN  NaN    NaN   NaN   NaN       NaN      NaN  \n",
              "3234  Berman   NaN   NaN  NaN    NaN   NaN   NaN       NaN      NaN  "
            ]
          },
          "execution_count": 29,
          "metadata": {},
          "output_type": "execute_result"
        }
      ],
      "source": [
        "berm_out.sample(3, random_state=0)"
      ]
    },
    {
      "cell_type": "code",
      "execution_count": null,
      "id": "3846ff5d",
      "metadata": {
        "id": "3846ff5d"
      },
      "outputs": [],
      "source": [
        "out_list.append(berm_out)"
      ]
    },
    {
      "cell_type": "markdown",
      "id": "f4f7203e",
      "metadata": {
        "id": "f4f7203e"
      },
      "source": [
        "### Source #4 and #5: Vanderbilt"
      ]
    },
    {
      "cell_type": "code",
      "execution_count": null,
      "id": "6cc16971",
      "metadata": {
        "id": "6cc16971"
      },
      "outputs": [],
      "source": [
        "vcln_db = pd.read_csv('https://raw.githubusercontent.com/lisavirginia/clinical-abbreviations/master/sources/4-vanderbilt/vanderbilt_clinic_notes.txt',\n",
        "                      sep='\\t',\n",
        "                      na_filter=False,\n",
        "                      index_col=False)"
      ]
    },
    {
      "cell_type": "code",
      "execution_count": null,
      "id": "710cae73",
      "metadata": {
        "id": "710cae73",
        "outputId": "6debc61c-e1fc-4a25-ca4e-35b62ad5fdc1"
      },
      "outputs": [
        {
          "data": {
            "text/html": [
              "<div>\n",
              "<style scoped>\n",
              "    .dataframe tbody tr th:only-of-type {\n",
              "        vertical-align: middle;\n",
              "    }\n",
              "\n",
              "    .dataframe tbody tr th {\n",
              "        vertical-align: top;\n",
              "    }\n",
              "\n",
              "    .dataframe thead th {\n",
              "        text-align: right;\n",
              "    }\n",
              "</style>\n",
              "<table border=\"1\" class=\"dataframe\">\n",
              "  <thead>\n",
              "    <tr style=\"text-align: right;\">\n",
              "      <th></th>\n",
              "      <th>abbreviation</th>\n",
              "      <th>sense</th>\n",
              "      <th>variation</th>\n",
              "      <th>CUI</th>\n",
              "      <th>frequency</th>\n",
              "    </tr>\n",
              "  </thead>\n",
              "  <tbody>\n",
              "    <tr>\n",
              "      <th>563</th>\n",
              "      <td>cmt</td>\n",
              "      <td>charcot-marie-tooth</td>\n",
              "      <td>CMT_6</td>\n",
              "      <td>c0007959</td>\n",
              "      <td>0.014</td>\n",
              "    </tr>\n",
              "    <tr>\n",
              "      <th>824</th>\n",
              "      <td>xray</td>\n",
              "      <td>energetic high-frequency electromagnetic radia...</td>\n",
              "      <td>Xray_5|xray_13|XRay_2</td>\n",
              "      <td>c0337030</td>\n",
              "      <td>1.000</td>\n",
              "    </tr>\n",
              "    <tr>\n",
              "      <th>436</th>\n",
              "      <td>gtt</td>\n",
              "      <td>glucose tolerance test</td>\n",
              "      <td>GTT_2</td>\n",
              "      <td>c0017741</td>\n",
              "      <td>0.005</td>\n",
              "    </tr>\n",
              "  </tbody>\n",
              "</table>\n",
              "</div>"
            ],
            "text/plain": [
              "    abbreviation                                              sense  \\\n",
              "563          cmt                                charcot-marie-tooth   \n",
              "824         xray  energetic high-frequency electromagnetic radia...   \n",
              "436          gtt                             glucose tolerance test   \n",
              "\n",
              "                 variation       CUI  frequency  \n",
              "563                  CMT_6  c0007959      0.014  \n",
              "824  Xray_5|xray_13|XRay_2  c0337030      1.000  \n",
              "436                  GTT_2  c0017741      0.005  "
            ]
          },
          "execution_count": 32,
          "metadata": {},
          "output_type": "execute_result"
        }
      ],
      "source": [
        "clean(vcln_db)\n",
        "vcln_db.sample(3, random_state=0)"
      ]
    },
    {
      "cell_type": "code",
      "execution_count": null,
      "id": "e3613c56",
      "metadata": {
        "id": "e3613c56"
      },
      "outputs": [],
      "source": [
        "vdis_db = pd.read_csv('https://raw.githubusercontent.com/lisavirginia/clinical-abbreviations/master/sources/4-vanderbilt/vanderbilt_discharge_sums.txt',\n",
        "                      sep='\\t',\n",
        "                      na_filter=False,\n",
        "                      index_col=False)"
      ]
    },
    {
      "cell_type": "code",
      "execution_count": null,
      "id": "cf8de7c6",
      "metadata": {
        "id": "cf8de7c6",
        "outputId": "9b61525d-a1d7-422f-9836-9563e97d5b3c"
      },
      "outputs": [
        {
          "data": {
            "text/html": [
              "<div>\n",
              "<style scoped>\n",
              "    .dataframe tbody tr th:only-of-type {\n",
              "        vertical-align: middle;\n",
              "    }\n",
              "\n",
              "    .dataframe tbody tr th {\n",
              "        vertical-align: top;\n",
              "    }\n",
              "\n",
              "    .dataframe thead th {\n",
              "        text-align: right;\n",
              "    }\n",
              "</style>\n",
              "<table border=\"1\" class=\"dataframe\">\n",
              "  <thead>\n",
              "    <tr style=\"text-align: right;\">\n",
              "      <th></th>\n",
              "      <th>abbreviation</th>\n",
              "      <th>sense</th>\n",
              "      <th>variation</th>\n",
              "      <th>CUI</th>\n",
              "      <th>frequency</th>\n",
              "    </tr>\n",
              "  </thead>\n",
              "  <tbody>\n",
              "    <tr>\n",
              "      <th>979</th>\n",
              "      <td>q</td>\n",
              "      <td>22q (chromosome)</td>\n",
              "      <td>q_1</td>\n",
              "      <td>c1521100</td>\n",
              "      <td>0.003</td>\n",
              "    </tr>\n",
              "    <tr>\n",
              "      <th>984</th>\n",
              "      <td>q2</td>\n",
              "      <td>every two hours</td>\n",
              "      <td>q2_4</td>\n",
              "      <td>c0585322</td>\n",
              "      <td>1.000</td>\n",
              "    </tr>\n",
              "    <tr>\n",
              "      <th>746</th>\n",
              "      <td>nabs</td>\n",
              "      <td>normal active bowel sounds</td>\n",
              "      <td>nabs_2|NAbs_1|NABS_16|NABS._1</td>\n",
              "      <td>c0278005</td>\n",
              "      <td>1.000</td>\n",
              "    </tr>\n",
              "  </tbody>\n",
              "</table>\n",
              "</div>"
            ],
            "text/plain": [
              "    abbreviation                       sense                      variation  \\\n",
              "979            q            22q (chromosome)                            q_1   \n",
              "984           q2             every two hours                           q2_4   \n",
              "746         nabs  normal active bowel sounds  nabs_2|NAbs_1|NABS_16|NABS._1   \n",
              "\n",
              "          CUI  frequency  \n",
              "979  c1521100      0.003  \n",
              "984  c0585322      1.000  \n",
              "746  c0278005      1.000  "
            ]
          },
          "execution_count": 34,
          "metadata": {},
          "output_type": "execute_result"
        }
      ],
      "source": [
        "clean(vdis_db)\n",
        "vdis_db.sample(3, random_state=0)"
      ]
    },
    {
      "cell_type": "code",
      "execution_count": null,
      "id": "b2643733",
      "metadata": {
        "id": "b2643733"
      },
      "outputs": [],
      "source": [
        "vcln_out = out_db.copy()\n",
        "vcln_out['SF'] = vcln_db['variation']\n",
        "vcln_out['LF'] = vcln_db['sense']\n",
        "vcln_out['Source'] = 'Vanderbilt Clinic Notes'\n",
        "vcln_out['Frequency'] = vcln_db['frequency']\n",
        "vcln_out['UMLS.CUI'] = vcln_db['CUI']"
      ]
    },
    {
      "cell_type": "code",
      "execution_count": null,
      "id": "f6b02279",
      "metadata": {
        "id": "f6b02279",
        "outputId": "a1930115-cf13-4546-bfca-9c8c719bd199"
      },
      "outputs": [
        {
          "data": {
            "text/html": [
              "<div>\n",
              "<style scoped>\n",
              "    .dataframe tbody tr th:only-of-type {\n",
              "        vertical-align: middle;\n",
              "    }\n",
              "\n",
              "    .dataframe tbody tr th {\n",
              "        vertical-align: top;\n",
              "    }\n",
              "\n",
              "    .dataframe thead th {\n",
              "        text-align: right;\n",
              "    }\n",
              "</style>\n",
              "<table border=\"1\" class=\"dataframe\">\n",
              "  <thead>\n",
              "    <tr style=\"text-align: right;\">\n",
              "      <th></th>\n",
              "      <th>GroupID</th>\n",
              "      <th>RecordID</th>\n",
              "      <th>SF</th>\n",
              "      <th>SFUI</th>\n",
              "      <th>NormSF</th>\n",
              "      <th>LF</th>\n",
              "      <th>LFUI</th>\n",
              "      <th>NormLF</th>\n",
              "      <th>Source</th>\n",
              "      <th>SFEUI</th>\n",
              "      <th>LFEUI</th>\n",
              "      <th>Type</th>\n",
              "      <th>PrefSF</th>\n",
              "      <th>Score</th>\n",
              "      <th>Count</th>\n",
              "      <th>Frequency</th>\n",
              "      <th>UMLS.CUI</th>\n",
              "    </tr>\n",
              "  </thead>\n",
              "  <tbody>\n",
              "    <tr>\n",
              "      <th>563</th>\n",
              "      <td>NaN</td>\n",
              "      <td>NaN</td>\n",
              "      <td>CMT_6</td>\n",
              "      <td>NaN</td>\n",
              "      <td>NaN</td>\n",
              "      <td>charcot-marie-tooth</td>\n",
              "      <td>NaN</td>\n",
              "      <td>NaN</td>\n",
              "      <td>Vanderbilt Clinic Notes</td>\n",
              "      <td>NaN</td>\n",
              "      <td>NaN</td>\n",
              "      <td>NaN</td>\n",
              "      <td>NaN</td>\n",
              "      <td>NaN</td>\n",
              "      <td>NaN</td>\n",
              "      <td>0.014</td>\n",
              "      <td>c0007959</td>\n",
              "    </tr>\n",
              "    <tr>\n",
              "      <th>824</th>\n",
              "      <td>NaN</td>\n",
              "      <td>NaN</td>\n",
              "      <td>Xray_5|xray_13|XRay_2</td>\n",
              "      <td>NaN</td>\n",
              "      <td>NaN</td>\n",
              "      <td>energetic high-frequency electromagnetic radia...</td>\n",
              "      <td>NaN</td>\n",
              "      <td>NaN</td>\n",
              "      <td>Vanderbilt Clinic Notes</td>\n",
              "      <td>NaN</td>\n",
              "      <td>NaN</td>\n",
              "      <td>NaN</td>\n",
              "      <td>NaN</td>\n",
              "      <td>NaN</td>\n",
              "      <td>NaN</td>\n",
              "      <td>1.000</td>\n",
              "      <td>c0337030</td>\n",
              "    </tr>\n",
              "    <tr>\n",
              "      <th>436</th>\n",
              "      <td>NaN</td>\n",
              "      <td>NaN</td>\n",
              "      <td>GTT_2</td>\n",
              "      <td>NaN</td>\n",
              "      <td>NaN</td>\n",
              "      <td>glucose tolerance test</td>\n",
              "      <td>NaN</td>\n",
              "      <td>NaN</td>\n",
              "      <td>Vanderbilt Clinic Notes</td>\n",
              "      <td>NaN</td>\n",
              "      <td>NaN</td>\n",
              "      <td>NaN</td>\n",
              "      <td>NaN</td>\n",
              "      <td>NaN</td>\n",
              "      <td>NaN</td>\n",
              "      <td>0.005</td>\n",
              "      <td>c0017741</td>\n",
              "    </tr>\n",
              "  </tbody>\n",
              "</table>\n",
              "</div>"
            ],
            "text/plain": [
              "    GroupID RecordID                     SF SFUI NormSF  \\\n",
              "563     NaN      NaN                  CMT_6  NaN    NaN   \n",
              "824     NaN      NaN  Xray_5|xray_13|XRay_2  NaN    NaN   \n",
              "436     NaN      NaN                  GTT_2  NaN    NaN   \n",
              "\n",
              "                                                    LF LFUI NormLF  \\\n",
              "563                                charcot-marie-tooth  NaN    NaN   \n",
              "824  energetic high-frequency electromagnetic radia...  NaN    NaN   \n",
              "436                             glucose tolerance test  NaN    NaN   \n",
              "\n",
              "                      Source SFEUI LFEUI Type PrefSF Score Count  Frequency  \\\n",
              "563  Vanderbilt Clinic Notes   NaN   NaN  NaN    NaN   NaN   NaN      0.014   \n",
              "824  Vanderbilt Clinic Notes   NaN   NaN  NaN    NaN   NaN   NaN      1.000   \n",
              "436  Vanderbilt Clinic Notes   NaN   NaN  NaN    NaN   NaN   NaN      0.005   \n",
              "\n",
              "     UMLS.CUI  \n",
              "563  c0007959  \n",
              "824  c0337030  \n",
              "436  c0017741  "
            ]
          },
          "execution_count": 36,
          "metadata": {},
          "output_type": "execute_result"
        }
      ],
      "source": [
        "vcln_out.sample(3, random_state=0)"
      ]
    },
    {
      "cell_type": "code",
      "execution_count": null,
      "id": "2ccd541b",
      "metadata": {
        "id": "2ccd541b"
      },
      "outputs": [],
      "source": [
        "vdis_out = out_db.copy()\n",
        "vdis_out['SF'] = vdis_db['variation']\n",
        "vdis_out['LF'] = vdis_db['sense']\n",
        "vdis_out['Source'] = 'Vanderbilt Discharge Sums'\n",
        "vdis_out['Frequency'] = vdis_db['frequency']\n",
        "vdis_out['UMLS.CUI'] = vdis_db['CUI']"
      ]
    },
    {
      "cell_type": "code",
      "execution_count": null,
      "id": "e213ec2f",
      "metadata": {
        "id": "e213ec2f",
        "outputId": "02856dc6-c099-4e29-9732-b45f529004ed"
      },
      "outputs": [
        {
          "data": {
            "text/html": [
              "<div>\n",
              "<style scoped>\n",
              "    .dataframe tbody tr th:only-of-type {\n",
              "        vertical-align: middle;\n",
              "    }\n",
              "\n",
              "    .dataframe tbody tr th {\n",
              "        vertical-align: top;\n",
              "    }\n",
              "\n",
              "    .dataframe thead th {\n",
              "        text-align: right;\n",
              "    }\n",
              "</style>\n",
              "<table border=\"1\" class=\"dataframe\">\n",
              "  <thead>\n",
              "    <tr style=\"text-align: right;\">\n",
              "      <th></th>\n",
              "      <th>GroupID</th>\n",
              "      <th>RecordID</th>\n",
              "      <th>SF</th>\n",
              "      <th>SFUI</th>\n",
              "      <th>NormSF</th>\n",
              "      <th>LF</th>\n",
              "      <th>LFUI</th>\n",
              "      <th>NormLF</th>\n",
              "      <th>Source</th>\n",
              "      <th>SFEUI</th>\n",
              "      <th>LFEUI</th>\n",
              "      <th>Type</th>\n",
              "      <th>PrefSF</th>\n",
              "      <th>Score</th>\n",
              "      <th>Count</th>\n",
              "      <th>Frequency</th>\n",
              "      <th>UMLS.CUI</th>\n",
              "    </tr>\n",
              "  </thead>\n",
              "  <tbody>\n",
              "    <tr>\n",
              "      <th>979</th>\n",
              "      <td>NaN</td>\n",
              "      <td>NaN</td>\n",
              "      <td>q_1</td>\n",
              "      <td>NaN</td>\n",
              "      <td>NaN</td>\n",
              "      <td>22q (chromosome)</td>\n",
              "      <td>NaN</td>\n",
              "      <td>NaN</td>\n",
              "      <td>Vanderbilt Discharge Sums</td>\n",
              "      <td>NaN</td>\n",
              "      <td>NaN</td>\n",
              "      <td>NaN</td>\n",
              "      <td>NaN</td>\n",
              "      <td>NaN</td>\n",
              "      <td>NaN</td>\n",
              "      <td>0.003</td>\n",
              "      <td>c1521100</td>\n",
              "    </tr>\n",
              "    <tr>\n",
              "      <th>984</th>\n",
              "      <td>NaN</td>\n",
              "      <td>NaN</td>\n",
              "      <td>q2_4</td>\n",
              "      <td>NaN</td>\n",
              "      <td>NaN</td>\n",
              "      <td>every two hours</td>\n",
              "      <td>NaN</td>\n",
              "      <td>NaN</td>\n",
              "      <td>Vanderbilt Discharge Sums</td>\n",
              "      <td>NaN</td>\n",
              "      <td>NaN</td>\n",
              "      <td>NaN</td>\n",
              "      <td>NaN</td>\n",
              "      <td>NaN</td>\n",
              "      <td>NaN</td>\n",
              "      <td>1.000</td>\n",
              "      <td>c0585322</td>\n",
              "    </tr>\n",
              "    <tr>\n",
              "      <th>746</th>\n",
              "      <td>NaN</td>\n",
              "      <td>NaN</td>\n",
              "      <td>nabs_2|NAbs_1|NABS_16|NABS._1</td>\n",
              "      <td>NaN</td>\n",
              "      <td>NaN</td>\n",
              "      <td>normal active bowel sounds</td>\n",
              "      <td>NaN</td>\n",
              "      <td>NaN</td>\n",
              "      <td>Vanderbilt Discharge Sums</td>\n",
              "      <td>NaN</td>\n",
              "      <td>NaN</td>\n",
              "      <td>NaN</td>\n",
              "      <td>NaN</td>\n",
              "      <td>NaN</td>\n",
              "      <td>NaN</td>\n",
              "      <td>1.000</td>\n",
              "      <td>c0278005</td>\n",
              "    </tr>\n",
              "  </tbody>\n",
              "</table>\n",
              "</div>"
            ],
            "text/plain": [
              "    GroupID RecordID                             SF SFUI NormSF  \\\n",
              "979     NaN      NaN                            q_1  NaN    NaN   \n",
              "984     NaN      NaN                           q2_4  NaN    NaN   \n",
              "746     NaN      NaN  nabs_2|NAbs_1|NABS_16|NABS._1  NaN    NaN   \n",
              "\n",
              "                             LF LFUI NormLF                     Source SFEUI  \\\n",
              "979            22q (chromosome)  NaN    NaN  Vanderbilt Discharge Sums   NaN   \n",
              "984             every two hours  NaN    NaN  Vanderbilt Discharge Sums   NaN   \n",
              "746  normal active bowel sounds  NaN    NaN  Vanderbilt Discharge Sums   NaN   \n",
              "\n",
              "    LFEUI Type PrefSF Score Count  Frequency  UMLS.CUI  \n",
              "979   NaN  NaN    NaN   NaN   NaN      0.003  c1521100  \n",
              "984   NaN  NaN    NaN   NaN   NaN      1.000  c0585322  \n",
              "746   NaN  NaN    NaN   NaN   NaN      1.000  c0278005  "
            ]
          },
          "execution_count": 38,
          "metadata": {},
          "output_type": "execute_result"
        }
      ],
      "source": [
        "vdis_out.sample(3, random_state=0)"
      ]
    },
    {
      "cell_type": "code",
      "execution_count": null,
      "id": "ad5db23f",
      "metadata": {
        "id": "ad5db23f",
        "outputId": "42ecb044-22bd-4371-8d27-66b16fca81fe"
      },
      "outputs": [
        {
          "name": "stderr",
          "output_type": "stream",
          "text": [
            "C:\\Users\\Hp\\AppData\\Local\\Temp\\ipykernel_36876\\2463510676.py:1: FutureWarning: The frame.append method is deprecated and will be removed from pandas in a future version. Use pandas.concat instead.\n",
            "  vand_out = vcln_out.append(vdis_out)\n"
          ]
        },
        {
          "data": {
            "text/plain": [
              "(2827, 17)"
            ]
          },
          "execution_count": 39,
          "metadata": {},
          "output_type": "execute_result"
        }
      ],
      "source": [
        "vand_out = vcln_out.append(vdis_out)\n",
        "vand_out = vand_out.reset_index(drop=True)\n",
        "vand_out.shape"
      ]
    },
    {
      "cell_type": "code",
      "execution_count": null,
      "id": "00861c64",
      "metadata": {
        "id": "00861c64",
        "outputId": "15ef29b2-b0d1-4719-be6b-01cb11bdbb52"
      },
      "outputs": [
        {
          "data": {
            "text/html": [
              "<div>\n",
              "<style scoped>\n",
              "    .dataframe tbody tr th:only-of-type {\n",
              "        vertical-align: middle;\n",
              "    }\n",
              "\n",
              "    .dataframe tbody tr th {\n",
              "        vertical-align: top;\n",
              "    }\n",
              "\n",
              "    .dataframe thead th {\n",
              "        text-align: right;\n",
              "    }\n",
              "</style>\n",
              "<table border=\"1\" class=\"dataframe\">\n",
              "  <thead>\n",
              "    <tr style=\"text-align: right;\">\n",
              "      <th></th>\n",
              "      <th>GroupID</th>\n",
              "      <th>RecordID</th>\n",
              "      <th>SFUI</th>\n",
              "      <th>NormSF</th>\n",
              "      <th>LF</th>\n",
              "      <th>LFUI</th>\n",
              "      <th>NormLF</th>\n",
              "      <th>Source</th>\n",
              "      <th>SFEUI</th>\n",
              "      <th>LFEUI</th>\n",
              "      <th>Type</th>\n",
              "      <th>PrefSF</th>\n",
              "      <th>Score</th>\n",
              "      <th>Count</th>\n",
              "      <th>Frequency</th>\n",
              "      <th>UMLS.CUI</th>\n",
              "      <th>SF</th>\n",
              "    </tr>\n",
              "  </thead>\n",
              "  <tbody>\n",
              "    <tr>\n",
              "      <th>2023</th>\n",
              "      <td>NaN</td>\n",
              "      <td>NaN</td>\n",
              "      <td>NaN</td>\n",
              "      <td>NaN</td>\n",
              "      <td>intensive care unit</td>\n",
              "      <td>NaN</td>\n",
              "      <td>NaN</td>\n",
              "      <td>Vanderbilt Discharge Sums</td>\n",
              "      <td>NaN</td>\n",
              "      <td>NaN</td>\n",
              "      <td>NaN</td>\n",
              "      <td>NaN</td>\n",
              "      <td>NaN</td>\n",
              "      <td>NaN</td>\n",
              "      <td>1.000</td>\n",
              "      <td>c0021708</td>\n",
              "      <td>ICU_19</td>\n",
              "    </tr>\n",
              "    <tr>\n",
              "      <th>2670</th>\n",
              "      <td>NaN</td>\n",
              "      <td>NaN</td>\n",
              "      <td>NaN</td>\n",
              "      <td>NaN</td>\n",
              "      <td>total body surface area</td>\n",
              "      <td>NaN</td>\n",
              "      <td>NaN</td>\n",
              "      <td>Vanderbilt Discharge Sums</td>\n",
              "      <td>NaN</td>\n",
              "      <td>NaN</td>\n",
              "      <td>NaN</td>\n",
              "      <td>NaN</td>\n",
              "      <td>NaN</td>\n",
              "      <td>NaN</td>\n",
              "      <td>1.000</td>\n",
              "      <td>c0005902</td>\n",
              "      <td>tbsa_4</td>\n",
              "    </tr>\n",
              "    <tr>\n",
              "      <th>2464</th>\n",
              "      <td>NaN</td>\n",
              "      <td>NaN</td>\n",
              "      <td>NaN</td>\n",
              "      <td>NaN</td>\n",
              "      <td>every four</td>\n",
              "      <td>NaN</td>\n",
              "      <td>NaN</td>\n",
              "      <td>Vanderbilt Discharge Sums</td>\n",
              "      <td>NaN</td>\n",
              "      <td>NaN</td>\n",
              "      <td>NaN</td>\n",
              "      <td>NaN</td>\n",
              "      <td>NaN</td>\n",
              "      <td>NaN</td>\n",
              "      <td>0.998</td>\n",
              "      <td>c0585324</td>\n",
              "      <td>Q4_2</td>\n",
              "    </tr>\n",
              "  </tbody>\n",
              "</table>\n",
              "</div>"
            ],
            "text/plain": [
              "     GroupID RecordID SFUI NormSF                       LF LFUI NormLF  \\\n",
              "2023     NaN      NaN  NaN    NaN      intensive care unit  NaN    NaN   \n",
              "2670     NaN      NaN  NaN    NaN  total body surface area  NaN    NaN   \n",
              "2464     NaN      NaN  NaN    NaN               every four  NaN    NaN   \n",
              "\n",
              "                         Source SFEUI LFEUI Type PrefSF Score Count  \\\n",
              "2023  Vanderbilt Discharge Sums   NaN   NaN  NaN    NaN   NaN   NaN   \n",
              "2670  Vanderbilt Discharge Sums   NaN   NaN  NaN    NaN   NaN   NaN   \n",
              "2464  Vanderbilt Discharge Sums   NaN   NaN  NaN    NaN   NaN   NaN   \n",
              "\n",
              "      Frequency  UMLS.CUI      SF  \n",
              "2023      1.000  c0021708  ICU_19  \n",
              "2670      1.000  c0005902  tbsa_4  \n",
              "2464      0.998  c0585324    Q4_2  "
            ]
          },
          "execution_count": 40,
          "metadata": {},
          "output_type": "execute_result"
        }
      ],
      "source": [
        "vand_out = expand_col(vand_out, 'SF')\n",
        "vand_out.sample(3, random_state=0)"
      ]
    },
    {
      "cell_type": "code",
      "execution_count": null,
      "id": "1ee00c76",
      "metadata": {
        "id": "1ee00c76"
      },
      "outputs": [],
      "source": [
        "temp = vand_out['SF'].str.split('_', expand=True)\n",
        "vand_out['SF'] = temp[0]\n",
        "vand_out['Count'] = temp[1]\n",
        "\n",
        "# reordering columns\n",
        "vand_out = vand_out[out_db.columns]\n",
        "vand_out.sample(3, random_state=0)\n",
        "\n",
        "\n",
        "out_list.append(vand_out)"
      ]
    },
    {
      "cell_type": "markdown",
      "id": "4d2b977f",
      "metadata": {
        "id": "4d2b977f"
      },
      "source": [
        "### Source #6: Wikipedia"
      ]
    },
    {
      "cell_type": "code",
      "execution_count": null,
      "id": "0ddc410e",
      "metadata": {
        "id": "0ddc410e"
      },
      "outputs": [],
      "source": [
        "wabr_db = pd.read_csv('https://raw.githubusercontent.com/lisavirginia/clinical-abbreviations/master/sources/5-wikipedia/wikipedia_abbreviation_database.csv',\n",
        "                      sep=',',\n",
        "                      na_filter=False,\n",
        "                      index_col=False)"
      ]
    },
    {
      "cell_type": "code",
      "execution_count": null,
      "id": "afc643cf",
      "metadata": {
        "id": "afc643cf",
        "outputId": "1eb1ca59-8cd0-4bf3-aa25-bd23a26b5514"
      },
      "outputs": [
        {
          "data": {
            "text/html": [
              "<div>\n",
              "<style scoped>\n",
              "    .dataframe tbody tr th:only-of-type {\n",
              "        vertical-align: middle;\n",
              "    }\n",
              "\n",
              "    .dataframe tbody tr th {\n",
              "        vertical-align: top;\n",
              "    }\n",
              "\n",
              "    .dataframe thead th {\n",
              "        text-align: right;\n",
              "    }\n",
              "</style>\n",
              "<table border=\"1\" class=\"dataframe\">\n",
              "  <thead>\n",
              "    <tr style=\"text-align: right;\">\n",
              "      <th></th>\n",
              "      <th>abr</th>\n",
              "      <th>long_form</th>\n",
              "    </tr>\n",
              "  </thead>\n",
              "  <tbody>\n",
              "    <tr>\n",
              "      <th>346</th>\n",
              "      <td>BEP</td>\n",
              "      <td>bleomycin, etoposide, and cisplatin</td>\n",
              "    </tr>\n",
              "    <tr>\n",
              "      <th>1355</th>\n",
              "      <td>I&amp;O</td>\n",
              "      <td>inputs and outputs</td>\n",
              "    </tr>\n",
              "    <tr>\n",
              "      <th>1261</th>\n",
              "      <td>HSM</td>\n",
              "      <td>hepatosplenomegaly</td>\n",
              "    </tr>\n",
              "  </tbody>\n",
              "</table>\n",
              "</div>"
            ],
            "text/plain": [
              "      abr                            long_form\n",
              "346   BEP  bleomycin, etoposide, and cisplatin\n",
              "1355  I&O                   inputs and outputs\n",
              "1261  HSM                   hepatosplenomegaly"
            ]
          },
          "execution_count": 43,
          "metadata": {},
          "output_type": "execute_result"
        }
      ],
      "source": [
        "clean(wabr_db)\n",
        "wabr_db.sample(3, random_state=0)"
      ]
    },
    {
      "cell_type": "code",
      "execution_count": null,
      "id": "afd9b372",
      "metadata": {
        "id": "afd9b372"
      },
      "outputs": [],
      "source": [
        "wtrl_db = pd.read_csv('https://raw.githubusercontent.com/lisavirginia/clinical-abbreviations/master/sources/5-wikipedia/wikipedia_clinical_trials.txt',\n",
        "                      sep=':',\n",
        "                      header=None,\n",
        "                      names=['abr', 'long_form'],\n",
        "                      na_filter=False,\n",
        "                      index_col=False,\n",
        "                      skipinitialspace=True)"
      ]
    },
    {
      "cell_type": "code",
      "execution_count": null,
      "id": "9ad2bf50",
      "metadata": {
        "id": "9ad2bf50",
        "outputId": "7b5f738c-dfa9-4660-8b70-15473346afa5"
      },
      "outputs": [
        {
          "data": {
            "text/html": [
              "<div>\n",
              "<style scoped>\n",
              "    .dataframe tbody tr th:only-of-type {\n",
              "        vertical-align: middle;\n",
              "    }\n",
              "\n",
              "    .dataframe tbody tr th {\n",
              "        vertical-align: top;\n",
              "    }\n",
              "\n",
              "    .dataframe thead th {\n",
              "        text-align: right;\n",
              "    }\n",
              "</style>\n",
              "<table border=\"1\" class=\"dataframe\">\n",
              "  <thead>\n",
              "    <tr style=\"text-align: right;\">\n",
              "      <th></th>\n",
              "      <th>abr</th>\n",
              "      <th>long_form</th>\n",
              "    </tr>\n",
              "  </thead>\n",
              "  <tbody>\n",
              "    <tr>\n",
              "      <th>252</th>\n",
              "      <td>SURTAVI</td>\n",
              "      <td>Safety and Efficacy Study of the Medtronic Cor...</td>\n",
              "    </tr>\n",
              "    <tr>\n",
              "      <th>111</th>\n",
              "      <td>EVEREST</td>\n",
              "      <td>Efficacy of Vasopressin Antagonism in Heart Fa...</td>\n",
              "    </tr>\n",
              "    <tr>\n",
              "      <th>226</th>\n",
              "      <td>CYTO-PV</td>\n",
              "      <td>Cytoreductive Therapy in Polycythemia Vera</td>\n",
              "    </tr>\n",
              "  </tbody>\n",
              "</table>\n",
              "</div>"
            ],
            "text/plain": [
              "         abr                                          long_form\n",
              "252  SURTAVI  Safety and Efficacy Study of the Medtronic Cor...\n",
              "111  EVEREST  Efficacy of Vasopressin Antagonism in Heart Fa...\n",
              "226  CYTO-PV         Cytoreductive Therapy in Polycythemia Vera"
            ]
          },
          "execution_count": 45,
          "metadata": {},
          "output_type": "execute_result"
        }
      ],
      "source": [
        "clean(wtrl_db)\n",
        "wtrl_db.sample(3, random_state=0)"
      ]
    },
    {
      "cell_type": "code",
      "execution_count": null,
      "id": "ccc99c3b",
      "metadata": {
        "id": "ccc99c3b",
        "outputId": "25084cef-49fb-46d6-8a38-3eefe82744be"
      },
      "outputs": [
        {
          "name": "stderr",
          "output_type": "stream",
          "text": [
            "C:\\Users\\Hp\\AppData\\Local\\Temp\\ipykernel_36876\\1301970349.py:1: FutureWarning: The frame.append method is deprecated and will be removed from pandas in a future version. Use pandas.concat instead.\n",
            "  wiki_db = wabr_db.append(wtrl_db)\n"
          ]
        },
        {
          "data": {
            "text/plain": [
              "(2952, 2)"
            ]
          },
          "execution_count": 53,
          "metadata": {},
          "output_type": "execute_result"
        }
      ],
      "source": [
        "wiki_db = wabr_db.append(wtrl_db)\n",
        "wiki_db.shape"
      ]
    },
    {
      "cell_type": "code",
      "execution_count": null,
      "id": "f0782d77",
      "metadata": {
        "id": "f0782d77"
      },
      "outputs": [],
      "source": [
        "wiki_out = out_db.copy()\n",
        "wiki_out['SF'] = wiki_db['abr']\n",
        "wiki_out['LF'] = wiki_db['long_form']\n",
        "wiki_out['Source'] = 'Wikipedia'"
      ]
    },
    {
      "cell_type": "code",
      "execution_count": null,
      "id": "3d7363bf",
      "metadata": {
        "id": "3d7363bf",
        "outputId": "2c251014-2783-44f8-972c-1505cd54164d"
      },
      "outputs": [
        {
          "data": {
            "text/html": [
              "<div>\n",
              "<style scoped>\n",
              "    .dataframe tbody tr th:only-of-type {\n",
              "        vertical-align: middle;\n",
              "    }\n",
              "\n",
              "    .dataframe tbody tr th {\n",
              "        vertical-align: top;\n",
              "    }\n",
              "\n",
              "    .dataframe thead th {\n",
              "        text-align: right;\n",
              "    }\n",
              "</style>\n",
              "<table border=\"1\" class=\"dataframe\">\n",
              "  <thead>\n",
              "    <tr style=\"text-align: right;\">\n",
              "      <th></th>\n",
              "      <th>GroupID</th>\n",
              "      <th>RecordID</th>\n",
              "      <th>SF</th>\n",
              "      <th>SFUI</th>\n",
              "      <th>NormSF</th>\n",
              "      <th>LF</th>\n",
              "      <th>LFUI</th>\n",
              "      <th>NormLF</th>\n",
              "      <th>Source</th>\n",
              "      <th>SFEUI</th>\n",
              "      <th>LFEUI</th>\n",
              "      <th>Type</th>\n",
              "      <th>PrefSF</th>\n",
              "      <th>Score</th>\n",
              "      <th>Count</th>\n",
              "      <th>Frequency</th>\n",
              "      <th>UMLS.CUI</th>\n",
              "    </tr>\n",
              "  </thead>\n",
              "  <tbody>\n",
              "    <tr>\n",
              "      <th>1301</th>\n",
              "      <td>NaN</td>\n",
              "      <td>NaN</td>\n",
              "      <td>ICCU</td>\n",
              "      <td>NaN</td>\n",
              "      <td>NaN</td>\n",
              "      <td>intensive cardiac care unit</td>\n",
              "      <td>NaN</td>\n",
              "      <td>NaN</td>\n",
              "      <td>Wikipedia</td>\n",
              "      <td>NaN</td>\n",
              "      <td>NaN</td>\n",
              "      <td>NaN</td>\n",
              "      <td>NaN</td>\n",
              "      <td>NaN</td>\n",
              "      <td>NaN</td>\n",
              "      <td>NaN</td>\n",
              "      <td>NaN</td>\n",
              "    </tr>\n",
              "    <tr>\n",
              "      <th>95</th>\n",
              "      <td>NaN</td>\n",
              "      <td>NaN</td>\n",
              "      <td>TRICC</td>\n",
              "      <td>NaN</td>\n",
              "      <td>NaN</td>\n",
              "      <td>Transfusion Requirements in Critical Care</td>\n",
              "      <td>NaN</td>\n",
              "      <td>NaN</td>\n",
              "      <td>Wikipedia</td>\n",
              "      <td>NaN</td>\n",
              "      <td>NaN</td>\n",
              "      <td>NaN</td>\n",
              "      <td>NaN</td>\n",
              "      <td>NaN</td>\n",
              "      <td>NaN</td>\n",
              "      <td>NaN</td>\n",
              "      <td>NaN</td>\n",
              "    </tr>\n",
              "    <tr>\n",
              "      <th>2286</th>\n",
              "      <td>NaN</td>\n",
              "      <td>NaN</td>\n",
              "      <td>SGB</td>\n",
              "      <td>NaN</td>\n",
              "      <td>NaN</td>\n",
              "      <td>stellate ganglion block</td>\n",
              "      <td>NaN</td>\n",
              "      <td>NaN</td>\n",
              "      <td>Wikipedia</td>\n",
              "      <td>NaN</td>\n",
              "      <td>NaN</td>\n",
              "      <td>NaN</td>\n",
              "      <td>NaN</td>\n",
              "      <td>NaN</td>\n",
              "      <td>NaN</td>\n",
              "      <td>NaN</td>\n",
              "      <td>NaN</td>\n",
              "    </tr>\n",
              "  </tbody>\n",
              "</table>\n",
              "</div>"
            ],
            "text/plain": [
              "     GroupID RecordID     SF SFUI NormSF  \\\n",
              "1301     NaN      NaN   ICCU  NaN    NaN   \n",
              "95       NaN      NaN  TRICC  NaN    NaN   \n",
              "2286     NaN      NaN    SGB  NaN    NaN   \n",
              "\n",
              "                                             LF LFUI NormLF     Source SFEUI  \\\n",
              "1301                intensive cardiac care unit  NaN    NaN  Wikipedia   NaN   \n",
              "95    Transfusion Requirements in Critical Care  NaN    NaN  Wikipedia   NaN   \n",
              "2286                    stellate ganglion block  NaN    NaN  Wikipedia   NaN   \n",
              "\n",
              "     LFEUI Type PrefSF Score Count Frequency UMLS.CUI  \n",
              "1301   NaN  NaN    NaN   NaN   NaN       NaN      NaN  \n",
              "95     NaN  NaN    NaN   NaN   NaN       NaN      NaN  \n",
              "2286   NaN  NaN    NaN   NaN   NaN       NaN      NaN  "
            ]
          },
          "execution_count": 55,
          "metadata": {},
          "output_type": "execute_result"
        }
      ],
      "source": [
        "\n",
        "wiki_out.sample(3, random_state=0)"
      ]
    },
    {
      "cell_type": "code",
      "execution_count": null,
      "id": "6b4966b1",
      "metadata": {
        "id": "6b4966b1"
      },
      "outputs": [],
      "source": [
        "out_list.append(wiki_out)"
      ]
    },
    {
      "cell_type": "markdown",
      "id": "1c5af87c",
      "metadata": {
        "id": "1c5af87c"
      },
      "source": [
        "### Source #7 and #8: Stetson and Columbia"
      ]
    },
    {
      "cell_type": "code",
      "execution_count": null,
      "id": "0e86eb22",
      "metadata": {
        "id": "0e86eb22"
      },
      "outputs": [],
      "source": [
        "stet_db = pd.read_csv('https://raw.githubusercontent.com/lisavirginia/clinical-abbreviations/master/sources/6-stetson/sense_distribution_448.txt',\n",
        "                      sep='\\t',\n",
        "                      header=None,\n",
        "                      names=['SF', 'LF', 'Frequency'],\n",
        "                      na_filter=False,\n",
        "                      index_col=False)"
      ]
    },
    {
      "cell_type": "code",
      "execution_count": null,
      "id": "2cd760cf",
      "metadata": {
        "id": "2cd760cf",
        "outputId": "70f5ce6f-8db4-4364-be55-12a2bff31af9"
      },
      "outputs": [
        {
          "data": {
            "text/html": [
              "<div>\n",
              "<style scoped>\n",
              "    .dataframe tbody tr th:only-of-type {\n",
              "        vertical-align: middle;\n",
              "    }\n",
              "\n",
              "    .dataframe tbody tr th {\n",
              "        vertical-align: top;\n",
              "    }\n",
              "\n",
              "    .dataframe thead th {\n",
              "        text-align: right;\n",
              "    }\n",
              "</style>\n",
              "<table border=\"1\" class=\"dataframe\">\n",
              "  <thead>\n",
              "    <tr style=\"text-align: right;\">\n",
              "      <th></th>\n",
              "      <th>SF</th>\n",
              "      <th>LF</th>\n",
              "      <th>Frequency</th>\n",
              "    </tr>\n",
              "  </thead>\n",
              "  <tbody>\n",
              "    <tr>\n",
              "      <th>733</th>\n",
              "      <td>med</td>\n",
              "      <td>medicine</td>\n",
              "      <td>0.38600</td>\n",
              "    </tr>\n",
              "    <tr>\n",
              "      <th>122</th>\n",
              "      <td>d/c</td>\n",
              "      <td>discharge</td>\n",
              "      <td>0.88400</td>\n",
              "    </tr>\n",
              "    <tr>\n",
              "      <th>113</th>\n",
              "      <td>na</td>\n",
              "      <td>normal axis</td>\n",
              "      <td>0.02002</td>\n",
              "    </tr>\n",
              "  </tbody>\n",
              "</table>\n",
              "</div>"
            ],
            "text/plain": [
              "      SF           LF  Frequency\n",
              "733  med     medicine    0.38600\n",
              "122  d/c    discharge    0.88400\n",
              "113   na  normal axis    0.02002"
            ]
          },
          "execution_count": 49,
          "metadata": {},
          "output_type": "execute_result"
        }
      ],
      "source": [
        "clean(stet_db)\n",
        "stet_db.sample(3, random_state=0)"
      ]
    },
    {
      "cell_type": "code",
      "execution_count": null,
      "id": "2c284fd4",
      "metadata": {
        "id": "2c284fd4"
      },
      "outputs": [],
      "source": [
        "stet_out = out_db.copy()\n",
        "stet_out['SF'] = stet_db['SF']\n",
        "stet_out['LF'] = stet_db['LF']\n",
        "stet_out['Source'] = 'Stetson'\n",
        "stet_out['Frequency'] = stet_db['Frequency']"
      ]
    },
    {
      "cell_type": "code",
      "execution_count": null,
      "id": "a4fb38f5",
      "metadata": {
        "id": "a4fb38f5",
        "outputId": "e160e0e2-6aed-47b5-dd08-4d696416ef8a"
      },
      "outputs": [
        {
          "data": {
            "text/html": [
              "<div>\n",
              "<style scoped>\n",
              "    .dataframe tbody tr th:only-of-type {\n",
              "        vertical-align: middle;\n",
              "    }\n",
              "\n",
              "    .dataframe tbody tr th {\n",
              "        vertical-align: top;\n",
              "    }\n",
              "\n",
              "    .dataframe thead th {\n",
              "        text-align: right;\n",
              "    }\n",
              "</style>\n",
              "<table border=\"1\" class=\"dataframe\">\n",
              "  <thead>\n",
              "    <tr style=\"text-align: right;\">\n",
              "      <th></th>\n",
              "      <th>GroupID</th>\n",
              "      <th>RecordID</th>\n",
              "      <th>SF</th>\n",
              "      <th>SFUI</th>\n",
              "      <th>NormSF</th>\n",
              "      <th>LF</th>\n",
              "      <th>LFUI</th>\n",
              "      <th>NormLF</th>\n",
              "      <th>Source</th>\n",
              "      <th>SFEUI</th>\n",
              "      <th>LFEUI</th>\n",
              "      <th>Type</th>\n",
              "      <th>PrefSF</th>\n",
              "      <th>Score</th>\n",
              "      <th>Count</th>\n",
              "      <th>Frequency</th>\n",
              "      <th>UMLS.CUI</th>\n",
              "    </tr>\n",
              "  </thead>\n",
              "  <tbody>\n",
              "    <tr>\n",
              "      <th>733</th>\n",
              "      <td>NaN</td>\n",
              "      <td>NaN</td>\n",
              "      <td>med</td>\n",
              "      <td>NaN</td>\n",
              "      <td>NaN</td>\n",
              "      <td>medicine</td>\n",
              "      <td>NaN</td>\n",
              "      <td>NaN</td>\n",
              "      <td>Stetson</td>\n",
              "      <td>NaN</td>\n",
              "      <td>NaN</td>\n",
              "      <td>NaN</td>\n",
              "      <td>NaN</td>\n",
              "      <td>NaN</td>\n",
              "      <td>NaN</td>\n",
              "      <td>0.38600</td>\n",
              "      <td>NaN</td>\n",
              "    </tr>\n",
              "    <tr>\n",
              "      <th>122</th>\n",
              "      <td>NaN</td>\n",
              "      <td>NaN</td>\n",
              "      <td>d/c</td>\n",
              "      <td>NaN</td>\n",
              "      <td>NaN</td>\n",
              "      <td>discharge</td>\n",
              "      <td>NaN</td>\n",
              "      <td>NaN</td>\n",
              "      <td>Stetson</td>\n",
              "      <td>NaN</td>\n",
              "      <td>NaN</td>\n",
              "      <td>NaN</td>\n",
              "      <td>NaN</td>\n",
              "      <td>NaN</td>\n",
              "      <td>NaN</td>\n",
              "      <td>0.88400</td>\n",
              "      <td>NaN</td>\n",
              "    </tr>\n",
              "    <tr>\n",
              "      <th>113</th>\n",
              "      <td>NaN</td>\n",
              "      <td>NaN</td>\n",
              "      <td>na</td>\n",
              "      <td>NaN</td>\n",
              "      <td>NaN</td>\n",
              "      <td>normal axis</td>\n",
              "      <td>NaN</td>\n",
              "      <td>NaN</td>\n",
              "      <td>Stetson</td>\n",
              "      <td>NaN</td>\n",
              "      <td>NaN</td>\n",
              "      <td>NaN</td>\n",
              "      <td>NaN</td>\n",
              "      <td>NaN</td>\n",
              "      <td>NaN</td>\n",
              "      <td>0.02002</td>\n",
              "      <td>NaN</td>\n",
              "    </tr>\n",
              "  </tbody>\n",
              "</table>\n",
              "</div>"
            ],
            "text/plain": [
              "    GroupID RecordID   SF SFUI NormSF           LF LFUI NormLF   Source SFEUI  \\\n",
              "733     NaN      NaN  med  NaN    NaN     medicine  NaN    NaN  Stetson   NaN   \n",
              "122     NaN      NaN  d/c  NaN    NaN    discharge  NaN    NaN  Stetson   NaN   \n",
              "113     NaN      NaN   na  NaN    NaN  normal axis  NaN    NaN  Stetson   NaN   \n",
              "\n",
              "    LFEUI Type PrefSF Score Count  Frequency UMLS.CUI  \n",
              "733   NaN  NaN    NaN   NaN   NaN    0.38600      NaN  \n",
              "122   NaN  NaN    NaN   NaN   NaN    0.88400      NaN  \n",
              "113   NaN  NaN    NaN   NaN   NaN    0.02002      NaN  "
            ]
          },
          "execution_count": 51,
          "metadata": {},
          "output_type": "execute_result"
        }
      ],
      "source": [
        "stet_out.sample(3, random_state=0)"
      ]
    },
    {
      "cell_type": "code",
      "execution_count": null,
      "id": "01aa3f3e",
      "metadata": {
        "id": "01aa3f3e"
      },
      "outputs": [],
      "source": [
        "out_list.append(stet_out)"
      ]
    },
    {
      "cell_type": "markdown",
      "id": "239775eb",
      "metadata": {
        "id": "239775eb"
      },
      "source": [
        "### Merging all the 8 data sources (inventories )"
      ]
    },
    {
      "cell_type": "code",
      "execution_count": null,
      "id": "dadb10f3",
      "metadata": {
        "id": "dadb10f3",
        "outputId": "a4463eef-6853-4c20-fc52-6859cbdc413c"
      },
      "outputs": [
        {
          "name": "stdout",
          "output_type": "stream",
          "text": [
            "umls_out (294484, 17)\n",
            "adam_out (94657, 17)\n",
            "berm_out (12087, 17)\n",
            "vand_out (4504, 17)\n",
            "item (2952, 17)\n",
            "stet_out (765, 17)\n",
            "wiki_out (2952, 17)\n"
          ]
        }
      ],
      "source": [
        "\n",
        "for item in out_list:\n",
        "  name = [x for x in globals() if globals()[x] is item][0]\n",
        "  print(name, item.shape)"
      ]
    },
    {
      "cell_type": "code",
      "execution_count": null,
      "id": "f1336624",
      "metadata": {
        "id": "f1336624",
        "outputId": "9d99b48c-06ad-47c3-ddc6-ecd479fa764f"
      },
      "outputs": [
        {
          "data": {
            "text/plain": [
              "(412401, 17)"
            ]
          },
          "execution_count": 65,
          "metadata": {},
          "output_type": "execute_result"
        }
      ],
      "source": [
        "db = pd.concat(out_list)\n",
        "db.shape"
      ]
    },
    {
      "cell_type": "markdown",
      "id": "6e157528",
      "metadata": {
        "id": "6e157528"
      },
      "source": [
        "### Saved the main file as Step10Output.csv file"
      ]
    },
    {
      "cell_type": "code",
      "execution_count": null,
      "id": "10c2a138",
      "metadata": {
        "id": "10c2a138"
      },
      "outputs": [],
      "source": [
        "# final file is exported as Step1Output.csv file\n",
        "\n",
        "db.to_csv('Step1Output.csv',\n",
        "          index=False,\n",
        "          header=True,\n",
        "          sep='|')"
      ]
    },
    {
      "cell_type": "markdown",
      "id": "7a85769f",
      "metadata": {
        "id": "7a85769f"
      },
      "source": [
        "##  Step 2: Add Data Fields"
      ]
    },
    {
      "cell_type": "code",
      "execution_count": null,
      "id": "d43380d5",
      "metadata": {
        "id": "d43380d5"
      },
      "outputs": [],
      "source": [
        "import os\n",
        "\n",
        "#loading the Output dataset obtained from step 1 preprocessing\n",
        "df = pd.read_csv('https://raw.githubusercontent.com/lisavirginia/clinical-abbreviations/master/code/Step1Output.csv',\n",
        "                 sep='|',\n",
        "                 header=0,\n",
        "                 index_col=False,\n",
        "                 na_filter=False,\n",
        "                 dtype=object)"
      ]
    },
    {
      "cell_type": "code",
      "execution_count": null,
      "id": "ae46e8c9",
      "metadata": {
        "id": "ae46e8c9",
        "outputId": "4840e71d-6b8a-412f-9083-745a58204b17"
      },
      "outputs": [
        {
          "data": {
            "text/html": [
              "<div>\n",
              "<style scoped>\n",
              "    .dataframe tbody tr th:only-of-type {\n",
              "        vertical-align: middle;\n",
              "    }\n",
              "\n",
              "    .dataframe tbody tr th {\n",
              "        vertical-align: top;\n",
              "    }\n",
              "\n",
              "    .dataframe thead th {\n",
              "        text-align: right;\n",
              "    }\n",
              "</style>\n",
              "<table border=\"1\" class=\"dataframe\">\n",
              "  <thead>\n",
              "    <tr style=\"text-align: right;\">\n",
              "      <th></th>\n",
              "      <th>GroupID</th>\n",
              "      <th>RecordID</th>\n",
              "      <th>SF</th>\n",
              "      <th>SFUI</th>\n",
              "      <th>NormSF</th>\n",
              "      <th>LF</th>\n",
              "      <th>LFUI</th>\n",
              "      <th>NormLF</th>\n",
              "      <th>Source</th>\n",
              "      <th>SFEUI</th>\n",
              "      <th>LFEUI</th>\n",
              "      <th>Type</th>\n",
              "      <th>PrefSF</th>\n",
              "      <th>Score</th>\n",
              "      <th>Count</th>\n",
              "      <th>Frequency</th>\n",
              "      <th>UMLS.CUI</th>\n",
              "    </tr>\n",
              "  </thead>\n",
              "  <tbody>\n",
              "    <tr>\n",
              "      <th>368728</th>\n",
              "      <td></td>\n",
              "      <td></td>\n",
              "      <td>T-ALL</td>\n",
              "      <td></td>\n",
              "      <td></td>\n",
              "      <td>T cell acute lymphoblastic leukemias</td>\n",
              "      <td></td>\n",
              "      <td></td>\n",
              "      <td>ADAM</td>\n",
              "      <td></td>\n",
              "      <td></td>\n",
              "      <td></td>\n",
              "      <td>T-ALL</td>\n",
              "      <td>0.7357</td>\n",
              "      <td>193</td>\n",
              "      <td></td>\n",
              "      <td></td>\n",
              "    </tr>\n",
              "    <tr>\n",
              "      <th>320521</th>\n",
              "      <td></td>\n",
              "      <td></td>\n",
              "      <td>Emax</td>\n",
              "      <td></td>\n",
              "      <td></td>\n",
              "      <td>maximal responses</td>\n",
              "      <td></td>\n",
              "      <td></td>\n",
              "      <td>ADAM</td>\n",
              "      <td></td>\n",
              "      <td></td>\n",
              "      <td></td>\n",
              "      <td>Emax</td>\n",
              "      <td>0.2113</td>\n",
              "      <td>24</td>\n",
              "      <td></td>\n",
              "      <td></td>\n",
              "    </tr>\n",
              "    <tr>\n",
              "      <th>311671</th>\n",
              "      <td></td>\n",
              "      <td></td>\n",
              "      <td>CTG</td>\n",
              "      <td></td>\n",
              "      <td></td>\n",
              "      <td>connective tissue graft</td>\n",
              "      <td></td>\n",
              "      <td></td>\n",
              "      <td>ADAM</td>\n",
              "      <td></td>\n",
              "      <td></td>\n",
              "      <td></td>\n",
              "      <td>CTG</td>\n",
              "      <td>0.7103</td>\n",
              "      <td>10</td>\n",
              "      <td></td>\n",
              "      <td></td>\n",
              "    </tr>\n",
              "  </tbody>\n",
              "</table>\n",
              "</div>"
            ],
            "text/plain": [
              "       GroupID RecordID     SF SFUI NormSF  \\\n",
              "368728                   T-ALL               \n",
              "320521                    Emax               \n",
              "311671                     CTG               \n",
              "\n",
              "                                          LF LFUI NormLF Source SFEUI LFEUI  \\\n",
              "368728  T cell acute lymphoblastic leukemias               ADAM               \n",
              "320521                     maximal responses               ADAM               \n",
              "311671               connective tissue graft               ADAM               \n",
              "\n",
              "       Type PrefSF   Score Count Frequency UMLS.CUI  \n",
              "368728       T-ALL  0.7357   193                     \n",
              "320521        Emax  0.2113    24                     \n",
              "311671         CTG  0.7103    10                     "
            ]
          },
          "execution_count": 91,
          "metadata": {},
          "output_type": "execute_result"
        }
      ],
      "source": [
        "df.sample(3, random_state=0)"
      ]
    },
    {
      "cell_type": "markdown",
      "id": "c7b4c233",
      "metadata": {
        "id": "c7b4c233"
      },
      "source": [
        "#### Add and Assign Record Identifier"
      ]
    },
    {
      "cell_type": "code",
      "execution_count": null,
      "id": "3f7ec655",
      "metadata": {
        "id": "3f7ec655"
      },
      "outputs": [],
      "source": [
        "assignment = 1\n",
        "for index, row in df.iterrows():\n",
        "    df['RecordID'].iat[index] = assignment\n",
        "    assignment += 1"
      ]
    },
    {
      "cell_type": "markdown",
      "id": "8fe87c1a",
      "metadata": {
        "id": "8fe87c1a"
      },
      "source": [
        "#### Format Record Identifier"
      ]
    },
    {
      "cell_type": "code",
      "execution_count": null,
      "id": "5f942269",
      "metadata": {
        "id": "5f942269",
        "outputId": "8218eadb-5a73-4b43-fc65-1f08b450c435"
      },
      "outputs": [
        {
          "data": {
            "text/html": [
              "<div>\n",
              "<style scoped>\n",
              "    .dataframe tbody tr th:only-of-type {\n",
              "        vertical-align: middle;\n",
              "    }\n",
              "\n",
              "    .dataframe tbody tr th {\n",
              "        vertical-align: top;\n",
              "    }\n",
              "\n",
              "    .dataframe thead th {\n",
              "        text-align: right;\n",
              "    }\n",
              "</style>\n",
              "<table border=\"1\" class=\"dataframe\">\n",
              "  <thead>\n",
              "    <tr style=\"text-align: right;\">\n",
              "      <th></th>\n",
              "      <th>GroupID</th>\n",
              "      <th>RecordID</th>\n",
              "      <th>SF</th>\n",
              "      <th>SFUI</th>\n",
              "      <th>NormSF</th>\n",
              "      <th>LF</th>\n",
              "      <th>LFUI</th>\n",
              "      <th>NormLF</th>\n",
              "      <th>Source</th>\n",
              "      <th>SFEUI</th>\n",
              "      <th>LFEUI</th>\n",
              "      <th>Type</th>\n",
              "      <th>PrefSF</th>\n",
              "      <th>Score</th>\n",
              "      <th>Count</th>\n",
              "      <th>Frequency</th>\n",
              "      <th>UMLS.CUI</th>\n",
              "    </tr>\n",
              "  </thead>\n",
              "  <tbody>\n",
              "    <tr>\n",
              "      <th>0</th>\n",
              "      <td></td>\n",
              "      <td>R000001</td>\n",
              "      <td>AA</td>\n",
              "      <td></td>\n",
              "      <td></td>\n",
              "      <td>achievement age</td>\n",
              "      <td></td>\n",
              "      <td></td>\n",
              "      <td>UMLS</td>\n",
              "      <td>E0000048</td>\n",
              "      <td>E0006859</td>\n",
              "      <td>acronym</td>\n",
              "      <td></td>\n",
              "      <td></td>\n",
              "      <td></td>\n",
              "      <td></td>\n",
              "      <td></td>\n",
              "    </tr>\n",
              "    <tr>\n",
              "      <th>1</th>\n",
              "      <td></td>\n",
              "      <td>R000002</td>\n",
              "      <td>AA</td>\n",
              "      <td></td>\n",
              "      <td></td>\n",
              "      <td>Alcoholics Anonymous</td>\n",
              "      <td></td>\n",
              "      <td></td>\n",
              "      <td>UMLS</td>\n",
              "      <td>E0000048</td>\n",
              "      <td>E0000204</td>\n",
              "      <td>acronym</td>\n",
              "      <td></td>\n",
              "      <td></td>\n",
              "      <td></td>\n",
              "      <td></td>\n",
              "      <td></td>\n",
              "    </tr>\n",
              "    <tr>\n",
              "      <th>2</th>\n",
              "      <td></td>\n",
              "      <td>R000003</td>\n",
              "      <td>AA</td>\n",
              "      <td></td>\n",
              "      <td></td>\n",
              "      <td>alcohol abuse</td>\n",
              "      <td></td>\n",
              "      <td></td>\n",
              "      <td>UMLS</td>\n",
              "      <td>E0000048</td>\n",
              "      <td>E0356324</td>\n",
              "      <td>acronym</td>\n",
              "      <td></td>\n",
              "      <td></td>\n",
              "      <td></td>\n",
              "      <td></td>\n",
              "      <td></td>\n",
              "    </tr>\n",
              "  </tbody>\n",
              "</table>\n",
              "</div>"
            ],
            "text/plain": [
              "  GroupID RecordID  SF SFUI NormSF                    LF LFUI NormLF Source  \\\n",
              "0          R000001  AA                   achievement age               UMLS   \n",
              "1          R000002  AA              Alcoholics Anonymous               UMLS   \n",
              "2          R000003  AA                     alcohol abuse               UMLS   \n",
              "\n",
              "      SFEUI     LFEUI     Type PrefSF Score Count Frequency UMLS.CUI  \n",
              "0  E0000048  E0006859  acronym                                        \n",
              "1  E0000048  E0000204  acronym                                        \n",
              "2  E0000048  E0356324  acronym                                        "
            ]
          },
          "execution_count": 93,
          "metadata": {},
          "output_type": "execute_result"
        }
      ],
      "source": [
        "df['RecordID'] = 'R' + (df.RecordID.map('{:06}'.format))\n",
        "df.head(3)"
      ]
    },
    {
      "cell_type": "markdown",
      "id": "8c2ab34f",
      "metadata": {
        "id": "8c2ab34f"
      },
      "source": [
        "### Add Normalized Short Forms"
      ]
    },
    {
      "cell_type": "markdown",
      "id": "e90db4a1",
      "metadata": {
        "id": "e90db4a1"
      },
      "source": [
        "The normalized short form is created by:\n",
        "1. converting all text to lowercase;\n",
        "2. stripping leading and trailing whitespace;\n",
        "3. standardizing punctuation to an underscore."
      ]
    },
    {
      "cell_type": "code",
      "execution_count": null,
      "id": "8c652429",
      "metadata": {
        "id": "8c652429"
      },
      "outputs": [],
      "source": [
        "df['NormSF'] = df['SF'].apply(normalized_short_form)"
      ]
    },
    {
      "cell_type": "code",
      "execution_count": null,
      "id": "086441e8",
      "metadata": {
        "id": "086441e8",
        "outputId": "a6d8268d-98fb-4507-8fcf-fb2bdacb5c47"
      },
      "outputs": [
        {
          "data": {
            "text/html": [
              "<div>\n",
              "<style scoped>\n",
              "    .dataframe tbody tr th:only-of-type {\n",
              "        vertical-align: middle;\n",
              "    }\n",
              "\n",
              "    .dataframe tbody tr th {\n",
              "        vertical-align: top;\n",
              "    }\n",
              "\n",
              "    .dataframe thead th {\n",
              "        text-align: right;\n",
              "    }\n",
              "</style>\n",
              "<table border=\"1\" class=\"dataframe\">\n",
              "  <thead>\n",
              "    <tr style=\"text-align: right;\">\n",
              "      <th></th>\n",
              "      <th>GroupID</th>\n",
              "      <th>RecordID</th>\n",
              "      <th>SF</th>\n",
              "      <th>SFUI</th>\n",
              "      <th>NormSF</th>\n",
              "      <th>LF</th>\n",
              "      <th>LFUI</th>\n",
              "      <th>NormLF</th>\n",
              "      <th>Source</th>\n",
              "      <th>SFEUI</th>\n",
              "      <th>LFEUI</th>\n",
              "      <th>Type</th>\n",
              "      <th>PrefSF</th>\n",
              "      <th>Score</th>\n",
              "      <th>Count</th>\n",
              "      <th>Frequency</th>\n",
              "      <th>UMLS.CUI</th>\n",
              "    </tr>\n",
              "  </thead>\n",
              "  <tbody>\n",
              "    <tr>\n",
              "      <th>368728</th>\n",
              "      <td></td>\n",
              "      <td>R368729</td>\n",
              "      <td>T-ALL</td>\n",
              "      <td></td>\n",
              "      <td>t_all</td>\n",
              "      <td>T cell acute lymphoblastic leukemias</td>\n",
              "      <td></td>\n",
              "      <td></td>\n",
              "      <td>ADAM</td>\n",
              "      <td></td>\n",
              "      <td></td>\n",
              "      <td></td>\n",
              "      <td>T-ALL</td>\n",
              "      <td>0.7357</td>\n",
              "      <td>193</td>\n",
              "      <td></td>\n",
              "      <td></td>\n",
              "    </tr>\n",
              "    <tr>\n",
              "      <th>320521</th>\n",
              "      <td></td>\n",
              "      <td>R320522</td>\n",
              "      <td>Emax</td>\n",
              "      <td></td>\n",
              "      <td>emax</td>\n",
              "      <td>maximal responses</td>\n",
              "      <td></td>\n",
              "      <td></td>\n",
              "      <td>ADAM</td>\n",
              "      <td></td>\n",
              "      <td></td>\n",
              "      <td></td>\n",
              "      <td>Emax</td>\n",
              "      <td>0.2113</td>\n",
              "      <td>24</td>\n",
              "      <td></td>\n",
              "      <td></td>\n",
              "    </tr>\n",
              "    <tr>\n",
              "      <th>311671</th>\n",
              "      <td></td>\n",
              "      <td>R311672</td>\n",
              "      <td>CTG</td>\n",
              "      <td></td>\n",
              "      <td>ctg</td>\n",
              "      <td>connective tissue graft</td>\n",
              "      <td></td>\n",
              "      <td></td>\n",
              "      <td>ADAM</td>\n",
              "      <td></td>\n",
              "      <td></td>\n",
              "      <td></td>\n",
              "      <td>CTG</td>\n",
              "      <td>0.7103</td>\n",
              "      <td>10</td>\n",
              "      <td></td>\n",
              "      <td></td>\n",
              "    </tr>\n",
              "  </tbody>\n",
              "</table>\n",
              "</div>"
            ],
            "text/plain": [
              "       GroupID RecordID     SF SFUI NormSF  \\\n",
              "368728          R368729  T-ALL       t_all   \n",
              "320521          R320522   Emax        emax   \n",
              "311671          R311672    CTG         ctg   \n",
              "\n",
              "                                          LF LFUI NormLF Source SFEUI LFEUI  \\\n",
              "368728  T cell acute lymphoblastic leukemias               ADAM               \n",
              "320521                     maximal responses               ADAM               \n",
              "311671               connective tissue graft               ADAM               \n",
              "\n",
              "       Type PrefSF   Score Count Frequency UMLS.CUI  \n",
              "368728       T-ALL  0.7357   193                     \n",
              "320521        Emax  0.2113    24                     \n",
              "311671         CTG  0.7103    10                     "
            ]
          },
          "execution_count": 95,
          "metadata": {},
          "output_type": "execute_result"
        }
      ],
      "source": [
        "df.sample(3, random_state=0)"
      ]
    },
    {
      "cell_type": "markdown",
      "id": "2b8cb126",
      "metadata": {
        "id": "2b8cb126"
      },
      "source": [
        "### Add Normalized Long Forms"
      ]
    },
    {
      "cell_type": "code",
      "execution_count": null,
      "id": "c27c3944",
      "metadata": {
        "id": "c27c3944"
      },
      "outputs": [],
      "source": [
        "lvg_path = 'C:/Users/lvg2104/Documents/clinical-abbreviations/code/lvg2019/bin/lvg.bat'"
      ]
    },
    {
      "cell_type": "code",
      "execution_count": null,
      "id": "fb0b1ba6",
      "metadata": {
        "id": "fb0b1ba6"
      },
      "outputs": [],
      "source": [
        "df['ASCII'] = 'Y'\n",
        "df.loc[df.LF.str.contains('[^\\x00-\\x7F]') == True, 'ASCII'] = 'N'"
      ]
    },
    {
      "cell_type": "code",
      "execution_count": null,
      "id": "5a0bcca6",
      "metadata": {
        "id": "5a0bcca6"
      },
      "outputs": [],
      "source": [
        "uniq_LFs = pd.Series(df.loc[df['ASCII']=='Y']['LF'].unique())"
      ]
    },
    {
      "cell_type": "code",
      "execution_count": null,
      "id": "ba5feea6",
      "metadata": {
        "id": "ba5feea6"
      },
      "outputs": [],
      "source": [
        "uniq_LFs.to_csv('uniq_LFs.temp',\n",
        "                index=False,\n",
        "                header=False,\n",
        "                encoding='ascii')"
      ]
    },
    {
      "cell_type": "markdown",
      "id": "2d6895b1",
      "metadata": {
        "id": "2d6895b1"
      },
      "source": [
        "### Add Short Form Unique Identifier"
      ]
    },
    {
      "cell_type": "markdown",
      "id": "b52b0cdb",
      "metadata": {
        "id": "b52b0cdb"
      },
      "source": [
        "#### Sort by SF"
      ]
    },
    {
      "cell_type": "code",
      "execution_count": null,
      "id": "ec22109d",
      "metadata": {
        "id": "ec22109d"
      },
      "outputs": [],
      "source": [
        "df = df.sort_values(by=['SF'])\n",
        "df = df.reset_index(drop=True)"
      ]
    },
    {
      "cell_type": "markdown",
      "id": "fb0d69fe",
      "metadata": {
        "id": "fb0d69fe"
      },
      "source": [
        "#### Assign SFUI"
      ]
    },
    {
      "cell_type": "code",
      "execution_count": null,
      "id": "732ce094",
      "metadata": {
        "id": "732ce094"
      },
      "outputs": [],
      "source": [
        "assignment = 1\n",
        "for index, row in df.iterrows():\n",
        "    if index == 0:\n",
        "        df['SFUI'].iat[index] = assignment\n",
        "    elif df['SF'].at[index] == df['SF'].at[index-1]:\n",
        "        df['SFUI'].iat[index] = assignment\n",
        "    else:\n",
        "        assignment += 1\n",
        "        df['SFUI'].iat[index] = assignment"
      ]
    },
    {
      "cell_type": "markdown",
      "id": "cde1a9d2",
      "metadata": {
        "id": "cde1a9d2"
      },
      "source": [
        "#### Format SFUI"
      ]
    },
    {
      "cell_type": "code",
      "execution_count": null,
      "id": "127db34f",
      "metadata": {
        "id": "127db34f",
        "outputId": "4dd26001-c31f-4131-f9fa-85b27a30b932"
      },
      "outputs": [
        {
          "data": {
            "text/html": [
              "<div>\n",
              "<style scoped>\n",
              "    .dataframe tbody tr th:only-of-type {\n",
              "        vertical-align: middle;\n",
              "    }\n",
              "\n",
              "    .dataframe tbody tr th {\n",
              "        vertical-align: top;\n",
              "    }\n",
              "\n",
              "    .dataframe thead th {\n",
              "        text-align: right;\n",
              "    }\n",
              "</style>\n",
              "<table border=\"1\" class=\"dataframe\">\n",
              "  <thead>\n",
              "    <tr style=\"text-align: right;\">\n",
              "      <th></th>\n",
              "      <th>GroupID</th>\n",
              "      <th>RecordID</th>\n",
              "      <th>SF</th>\n",
              "      <th>SFUI</th>\n",
              "      <th>NormSF</th>\n",
              "      <th>LF</th>\n",
              "      <th>LFUI</th>\n",
              "      <th>NormLF</th>\n",
              "      <th>Source</th>\n",
              "      <th>SFEUI</th>\n",
              "      <th>LFEUI</th>\n",
              "      <th>Type</th>\n",
              "      <th>PrefSF</th>\n",
              "      <th>Score</th>\n",
              "      <th>Count</th>\n",
              "      <th>Frequency</th>\n",
              "      <th>UMLS.CUI</th>\n",
              "      <th>ASCII</th>\n",
              "    </tr>\n",
              "  </thead>\n",
              "  <tbody>\n",
              "    <tr>\n",
              "      <th>0</th>\n",
              "      <td></td>\n",
              "      <td>R294485</td>\n",
              "      <td>$Can</td>\n",
              "      <td>S000001</td>\n",
              "      <td>_can</td>\n",
              "      <td>Canadian dollars</td>\n",
              "      <td></td>\n",
              "      <td></td>\n",
              "      <td>ADAM</td>\n",
              "      <td></td>\n",
              "      <td></td>\n",
              "      <td></td>\n",
              "      <td>$Can</td>\n",
              "      <td>0.8365</td>\n",
              "      <td>18</td>\n",
              "      <td></td>\n",
              "      <td></td>\n",
              "      <td>Y</td>\n",
              "    </tr>\n",
              "    <tr>\n",
              "      <th>1</th>\n",
              "      <td></td>\n",
              "      <td>R389142</td>\n",
              "      <td>%</td>\n",
              "      <td>S000002</td>\n",
              "      <td>_</td>\n",
              "      <td>percent</td>\n",
              "      <td></td>\n",
              "      <td></td>\n",
              "      <td>Berman</td>\n",
              "      <td></td>\n",
              "      <td></td>\n",
              "      <td></td>\n",
              "      <td></td>\n",
              "      <td></td>\n",
              "      <td></td>\n",
              "      <td></td>\n",
              "      <td></td>\n",
              "      <td>Y</td>\n",
              "    </tr>\n",
              "    <tr>\n",
              "      <th>2</th>\n",
              "      <td></td>\n",
              "      <td>R126776</td>\n",
              "      <td>%LN</td>\n",
              "      <td>S000003</td>\n",
              "      <td>_ln</td>\n",
              "      <td>percent lumenal narrowing</td>\n",
              "      <td></td>\n",
              "      <td></td>\n",
              "      <td>UMLS</td>\n",
              "      <td>E0665149</td>\n",
              "      <td>E0665148</td>\n",
              "      <td>abbreviation</td>\n",
              "      <td></td>\n",
              "      <td></td>\n",
              "      <td></td>\n",
              "      <td></td>\n",
              "      <td></td>\n",
              "      <td>Y</td>\n",
              "    </tr>\n",
              "    <tr>\n",
              "      <th>3</th>\n",
              "      <td></td>\n",
              "      <td>R126777</td>\n",
              "      <td>%LN</td>\n",
              "      <td>S000003</td>\n",
              "      <td>_ln</td>\n",
              "      <td>percent luminal narrowing</td>\n",
              "      <td></td>\n",
              "      <td></td>\n",
              "      <td>UMLS</td>\n",
              "      <td>E0665149</td>\n",
              "      <td>E0665148</td>\n",
              "      <td>abbreviation</td>\n",
              "      <td></td>\n",
              "      <td></td>\n",
              "      <td></td>\n",
              "      <td></td>\n",
              "      <td></td>\n",
              "      <td>Y</td>\n",
              "    </tr>\n",
              "    <tr>\n",
              "      <th>4</th>\n",
              "      <td></td>\n",
              "      <td>R126778</td>\n",
              "      <td>%LN</td>\n",
              "      <td>S000003</td>\n",
              "      <td>_ln</td>\n",
              "      <td>per cent lumenal narrowing</td>\n",
              "      <td></td>\n",
              "      <td></td>\n",
              "      <td>UMLS</td>\n",
              "      <td>E0665149</td>\n",
              "      <td>E0665148</td>\n",
              "      <td>abbreviation</td>\n",
              "      <td></td>\n",
              "      <td></td>\n",
              "      <td></td>\n",
              "      <td></td>\n",
              "      <td></td>\n",
              "      <td>Y</td>\n",
              "    </tr>\n",
              "  </tbody>\n",
              "</table>\n",
              "</div>"
            ],
            "text/plain": [
              "  GroupID RecordID    SF     SFUI NormSF                          LF LFUI  \\\n",
              "0          R294485  $Can  S000001   _can            Canadian dollars        \n",
              "1          R389142     %  S000002      _                     percent        \n",
              "2          R126776   %LN  S000003    _ln   percent lumenal narrowing        \n",
              "3          R126777   %LN  S000003    _ln   percent luminal narrowing        \n",
              "4          R126778   %LN  S000003    _ln  per cent lumenal narrowing        \n",
              "\n",
              "  NormLF  Source     SFEUI     LFEUI          Type PrefSF   Score Count  \\\n",
              "0           ADAM                                     $Can  0.8365    18   \n",
              "1         Berman                                                          \n",
              "2           UMLS  E0665149  E0665148  abbreviation                        \n",
              "3           UMLS  E0665149  E0665148  abbreviation                        \n",
              "4           UMLS  E0665149  E0665148  abbreviation                        \n",
              "\n",
              "  Frequency UMLS.CUI ASCII  \n",
              "0                        Y  \n",
              "1                        Y  \n",
              "2                        Y  \n",
              "3                        Y  \n",
              "4                        Y  "
            ]
          },
          "execution_count": 102,
          "metadata": {},
          "output_type": "execute_result"
        }
      ],
      "source": [
        "df['SFUI'] = 'S' + (df.SFUI.map('{:06}'.format))\n",
        "df.head(5)"
      ]
    },
    {
      "cell_type": "markdown",
      "id": "805030e0",
      "metadata": {
        "id": "805030e0"
      },
      "source": [
        "### Add Long Form Unique Identifier"
      ]
    },
    {
      "cell_type": "markdown",
      "id": "ec33f413",
      "metadata": {
        "id": "ec33f413"
      },
      "source": [
        "#### Sort by LF"
      ]
    },
    {
      "cell_type": "code",
      "execution_count": null,
      "id": "d18167ce",
      "metadata": {
        "id": "d18167ce"
      },
      "outputs": [],
      "source": [
        "df = df.sort_values(by=['LF'])\n",
        "df = df.reset_index(drop=True)"
      ]
    },
    {
      "cell_type": "markdown",
      "id": "ca44905e",
      "metadata": {
        "id": "ca44905e"
      },
      "source": [
        "#### Assign LFUI"
      ]
    },
    {
      "cell_type": "code",
      "execution_count": null,
      "id": "8b65cbdc",
      "metadata": {
        "id": "8b65cbdc"
      },
      "outputs": [],
      "source": [
        "assignment = 1\n",
        "for index, row in df.iterrows():\n",
        "    if index == 0:\n",
        "        df['LFUI'].iat[index] = assignment\n",
        "    elif df['LF'].at[index] == df['LF'].at[index-1]:\n",
        "        df['LFUI'].iat[index] = assignment\n",
        "    else:\n",
        "        assignment += 1\n",
        "        df['LFUI'].iat[index] = assignment"
      ]
    },
    {
      "cell_type": "markdown",
      "id": "0ebd612d",
      "metadata": {
        "id": "0ebd612d"
      },
      "source": [
        "#### Format LFUI"
      ]
    },
    {
      "cell_type": "code",
      "execution_count": null,
      "id": "d2ebbe8d",
      "metadata": {
        "id": "d2ebbe8d",
        "outputId": "68c7a26d-cf6c-43ef-da72-807cc0b5f2da"
      },
      "outputs": [
        {
          "data": {
            "text/html": [
              "<div>\n",
              "<style scoped>\n",
              "    .dataframe tbody tr th:only-of-type {\n",
              "        vertical-align: middle;\n",
              "    }\n",
              "\n",
              "    .dataframe tbody tr th {\n",
              "        vertical-align: top;\n",
              "    }\n",
              "\n",
              "    .dataframe thead th {\n",
              "        text-align: right;\n",
              "    }\n",
              "</style>\n",
              "<table border=\"1\" class=\"dataframe\">\n",
              "  <thead>\n",
              "    <tr style=\"text-align: right;\">\n",
              "      <th></th>\n",
              "      <th>GroupID</th>\n",
              "      <th>RecordID</th>\n",
              "      <th>SF</th>\n",
              "      <th>SFUI</th>\n",
              "      <th>NormSF</th>\n",
              "      <th>LF</th>\n",
              "      <th>LFUI</th>\n",
              "      <th>NormLF</th>\n",
              "      <th>Source</th>\n",
              "      <th>SFEUI</th>\n",
              "      <th>LFEUI</th>\n",
              "      <th>Type</th>\n",
              "      <th>PrefSF</th>\n",
              "      <th>Score</th>\n",
              "      <th>Count</th>\n",
              "      <th>Frequency</th>\n",
              "      <th>UMLS.CUI</th>\n",
              "      <th>ASCII</th>\n",
              "    </tr>\n",
              "  </thead>\n",
              "  <tbody>\n",
              "    <tr>\n",
              "      <th>0</th>\n",
              "      <td></td>\n",
              "      <td>R315532</td>\n",
              "      <td>DNIC</td>\n",
              "      <td>S019528</td>\n",
              "      <td>dnic</td>\n",
              "      <td>'diffuse noxious inhibitory controls'</td>\n",
              "      <td>L000001</td>\n",
              "      <td></td>\n",
              "      <td>ADAM</td>\n",
              "      <td></td>\n",
              "      <td></td>\n",
              "      <td></td>\n",
              "      <td>DNIC</td>\n",
              "      <td>0.7571</td>\n",
              "      <td>95</td>\n",
              "      <td></td>\n",
              "      <td></td>\n",
              "      <td>Y</td>\n",
              "    </tr>\n",
              "    <tr>\n",
              "      <th>1</th>\n",
              "      <td></td>\n",
              "      <td>R315587</td>\n",
              "      <td>DNR</td>\n",
              "      <td>S019572</td>\n",
              "      <td>dnr</td>\n",
              "      <td>'do not resuscitate'</td>\n",
              "      <td>L000002</td>\n",
              "      <td></td>\n",
              "      <td>ADAM</td>\n",
              "      <td></td>\n",
              "      <td></td>\n",
              "      <td></td>\n",
              "      <td>DNR</td>\n",
              "      <td>0.5856</td>\n",
              "      <td>196</td>\n",
              "      <td></td>\n",
              "      <td></td>\n",
              "      <td>Y</td>\n",
              "    </tr>\n",
              "    <tr>\n",
              "      <th>2</th>\n",
              "      <td></td>\n",
              "      <td>R135924</td>\n",
              "      <td>PHNO</td>\n",
              "      <td>S054985</td>\n",
              "      <td>phno</td>\n",
              "      <td>(+)-4-propyl-9-hydroxynaphthoxazine</td>\n",
              "      <td>L000003</td>\n",
              "      <td></td>\n",
              "      <td>UMLS</td>\n",
              "      <td>E0672582</td>\n",
              "      <td></td>\n",
              "      <td>acronym</td>\n",
              "      <td></td>\n",
              "      <td></td>\n",
              "      <td></td>\n",
              "      <td></td>\n",
              "      <td></td>\n",
              "      <td>Y</td>\n",
              "    </tr>\n",
              "    <tr>\n",
              "      <th>3</th>\n",
              "      <td></td>\n",
              "      <td>R354603</td>\n",
              "      <td>PHNO</td>\n",
              "      <td>S054985</td>\n",
              "      <td>phno</td>\n",
              "      <td>(+)-4-propyl-9-hydroxynaphthoxazine</td>\n",
              "      <td>L000003</td>\n",
              "      <td></td>\n",
              "      <td>ADAM</td>\n",
              "      <td></td>\n",
              "      <td></td>\n",
              "      <td></td>\n",
              "      <td>PHNO</td>\n",
              "      <td>0.5417</td>\n",
              "      <td>14</td>\n",
              "      <td></td>\n",
              "      <td></td>\n",
              "      <td>Y</td>\n",
              "    </tr>\n",
              "    <tr>\n",
              "      <th>4</th>\n",
              "      <td></td>\n",
              "      <td>R342751</td>\n",
              "      <td>MK-801</td>\n",
              "      <td>S044572</td>\n",
              "      <td>mk_801</td>\n",
              "      <td>(+)-5-methyl-10,11-dihydro-5H-dibenzo[a,d]cycl...</td>\n",
              "      <td>L000004</td>\n",
              "      <td></td>\n",
              "      <td>ADAM</td>\n",
              "      <td></td>\n",
              "      <td></td>\n",
              "      <td></td>\n",
              "      <td>MK-801</td>\n",
              "      <td>0.0146</td>\n",
              "      <td>15</td>\n",
              "      <td></td>\n",
              "      <td></td>\n",
              "      <td>Y</td>\n",
              "    </tr>\n",
              "  </tbody>\n",
              "</table>\n",
              "</div>"
            ],
            "text/plain": [
              "  GroupID RecordID      SF     SFUI  NormSF  \\\n",
              "0          R315532    DNIC  S019528    dnic   \n",
              "1          R315587     DNR  S019572     dnr   \n",
              "2          R135924    PHNO  S054985    phno   \n",
              "3          R354603    PHNO  S054985    phno   \n",
              "4          R342751  MK-801  S044572  mk_801   \n",
              "\n",
              "                                                  LF     LFUI NormLF Source  \\\n",
              "0              'diffuse noxious inhibitory controls'  L000001          ADAM   \n",
              "1                               'do not resuscitate'  L000002          ADAM   \n",
              "2                (+)-4-propyl-9-hydroxynaphthoxazine  L000003          UMLS   \n",
              "3                (+)-4-propyl-9-hydroxynaphthoxazine  L000003          ADAM   \n",
              "4  (+)-5-methyl-10,11-dihydro-5H-dibenzo[a,d]cycl...  L000004          ADAM   \n",
              "\n",
              "      SFEUI LFEUI     Type  PrefSF   Score Count Frequency UMLS.CUI ASCII  \n",
              "0                             DNIC  0.7571    95                        Y  \n",
              "1                              DNR  0.5856   196                        Y  \n",
              "2  E0672582        acronym                                              Y  \n",
              "3                             PHNO  0.5417    14                        Y  \n",
              "4                           MK-801  0.0146    15                        Y  "
            ]
          },
          "execution_count": 105,
          "metadata": {},
          "output_type": "execute_result"
        }
      ],
      "source": [
        "df['LFUI'] = 'L' + (df.LFUI.map('{:06}'.format))\n",
        "df.head(5)"
      ]
    },
    {
      "cell_type": "code",
      "execution_count": null,
      "id": "719432e3",
      "metadata": {
        "id": "719432e3",
        "outputId": "1ba8a605-9ba5-42b1-ce22-b927150cc4fd"
      },
      "outputs": [
        {
          "data": {
            "text/html": [
              "<div>\n",
              "<style scoped>\n",
              "    .dataframe tbody tr th:only-of-type {\n",
              "        vertical-align: middle;\n",
              "    }\n",
              "\n",
              "    .dataframe tbody tr th {\n",
              "        vertical-align: top;\n",
              "    }\n",
              "\n",
              "    .dataframe thead th {\n",
              "        text-align: right;\n",
              "    }\n",
              "</style>\n",
              "<table border=\"1\" class=\"dataframe\">\n",
              "  <thead>\n",
              "    <tr style=\"text-align: right;\">\n",
              "      <th></th>\n",
              "      <th>GroupID</th>\n",
              "      <th>RecordID</th>\n",
              "      <th>SF</th>\n",
              "      <th>SFUI</th>\n",
              "      <th>NormSF</th>\n",
              "      <th>LF</th>\n",
              "      <th>LFUI</th>\n",
              "      <th>Source</th>\n",
              "      <th>SFEUI</th>\n",
              "      <th>PrefSF</th>\n",
              "      <th>Score</th>\n",
              "      <th>Count</th>\n",
              "      <th>ASCII</th>\n",
              "    </tr>\n",
              "  </thead>\n",
              "  <tbody>\n",
              "    <tr>\n",
              "      <th>0</th>\n",
              "      <td></td>\n",
              "      <td>R315532</td>\n",
              "      <td>DNIC</td>\n",
              "      <td>S019528</td>\n",
              "      <td>dnic</td>\n",
              "      <td>'diffuse noxious inhibitory controls'</td>\n",
              "      <td>L000001</td>\n",
              "      <td>ADAM</td>\n",
              "      <td></td>\n",
              "      <td>DNIC</td>\n",
              "      <td>0.7571</td>\n",
              "      <td>95</td>\n",
              "      <td>Y</td>\n",
              "    </tr>\n",
              "    <tr>\n",
              "      <th>1</th>\n",
              "      <td></td>\n",
              "      <td>R315587</td>\n",
              "      <td>DNR</td>\n",
              "      <td>S019572</td>\n",
              "      <td>dnr</td>\n",
              "      <td>'do not resuscitate'</td>\n",
              "      <td>L000002</td>\n",
              "      <td>ADAM</td>\n",
              "      <td></td>\n",
              "      <td>DNR</td>\n",
              "      <td>0.5856</td>\n",
              "      <td>196</td>\n",
              "      <td>Y</td>\n",
              "    </tr>\n",
              "    <tr>\n",
              "      <th>2</th>\n",
              "      <td></td>\n",
              "      <td>R135924</td>\n",
              "      <td>PHNO</td>\n",
              "      <td>S054985</td>\n",
              "      <td>phno</td>\n",
              "      <td>(+)-4-propyl-9-hydroxynaphthoxazine</td>\n",
              "      <td>L000003</td>\n",
              "      <td>UMLS</td>\n",
              "      <td>E0672582</td>\n",
              "      <td></td>\n",
              "      <td></td>\n",
              "      <td></td>\n",
              "      <td>Y</td>\n",
              "    </tr>\n",
              "    <tr>\n",
              "      <th>3</th>\n",
              "      <td></td>\n",
              "      <td>R354603</td>\n",
              "      <td>PHNO</td>\n",
              "      <td>S054985</td>\n",
              "      <td>phno</td>\n",
              "      <td>(+)-4-propyl-9-hydroxynaphthoxazine</td>\n",
              "      <td>L000003</td>\n",
              "      <td>ADAM</td>\n",
              "      <td></td>\n",
              "      <td>PHNO</td>\n",
              "      <td>0.5417</td>\n",
              "      <td>14</td>\n",
              "      <td>Y</td>\n",
              "    </tr>\n",
              "    <tr>\n",
              "      <th>4</th>\n",
              "      <td></td>\n",
              "      <td>R342751</td>\n",
              "      <td>MK-801</td>\n",
              "      <td>S044572</td>\n",
              "      <td>mk_801</td>\n",
              "      <td>(+)-5-methyl-10,11-dihydro-5H-dibenzo[a,d]cycl...</td>\n",
              "      <td>L000004</td>\n",
              "      <td>ADAM</td>\n",
              "      <td></td>\n",
              "      <td>MK-801</td>\n",
              "      <td>0.0146</td>\n",
              "      <td>15</td>\n",
              "      <td>Y</td>\n",
              "    </tr>\n",
              "  </tbody>\n",
              "</table>\n",
              "</div>"
            ],
            "text/plain": [
              "  GroupID RecordID      SF     SFUI  NormSF  \\\n",
              "0          R315532    DNIC  S019528    dnic   \n",
              "1          R315587     DNR  S019572     dnr   \n",
              "2          R135924    PHNO  S054985    phno   \n",
              "3          R354603    PHNO  S054985    phno   \n",
              "4          R342751  MK-801  S044572  mk_801   \n",
              "\n",
              "                                                  LF     LFUI Source  \\\n",
              "0              'diffuse noxious inhibitory controls'  L000001   ADAM   \n",
              "1                               'do not resuscitate'  L000002   ADAM   \n",
              "2                (+)-4-propyl-9-hydroxynaphthoxazine  L000003   UMLS   \n",
              "3                (+)-4-propyl-9-hydroxynaphthoxazine  L000003   ADAM   \n",
              "4  (+)-5-methyl-10,11-dihydro-5H-dibenzo[a,d]cycl...  L000004   ADAM   \n",
              "\n",
              "      SFEUI  PrefSF   Score Count ASCII  \n",
              "0              DNIC  0.7571    95     Y  \n",
              "1               DNR  0.5856   196     Y  \n",
              "2  E0672582                           Y  \n",
              "3              PHNO  0.5417    14     Y  \n",
              "4            MK-801  0.0146    15     Y  "
            ]
          },
          "execution_count": 106,
          "metadata": {},
          "output_type": "execute_result"
        }
      ],
      "source": [
        "#discarding irrelevant columns\n",
        "\n",
        "columns_to_drop = ['NormLF', 'LFEUI','Type','Frequency','UMLS.CUI']\n",
        "df = df.drop(columns=columns_to_drop)\n",
        "df.head(5)"
      ]
    },
    {
      "cell_type": "markdown",
      "id": "929d522f",
      "metadata": {
        "id": "929d522f"
      },
      "source": [
        "### Export"
      ]
    },
    {
      "cell_type": "code",
      "execution_count": null,
      "id": "35831ec2",
      "metadata": {
        "id": "35831ec2"
      },
      "outputs": [],
      "source": [
        "df = df.sort_values(by=['RecordID'])\n",
        "df = df.reset_index(drop=True)"
      ]
    },
    {
      "cell_type": "code",
      "execution_count": null,
      "id": "8a4deef5",
      "metadata": {
        "id": "8a4deef5"
      },
      "outputs": [],
      "source": [
        "df.to_csv('Step2Output.csv',\n",
        "          index=False,\n",
        "          header=True,\n",
        "          sep='|')"
      ]
    },
    {
      "cell_type": "markdown",
      "id": "a547e7c1",
      "metadata": {
        "id": "a547e7c1"
      },
      "source": [
        "## Step 3: Quality Control"
      ]
    },
    {
      "cell_type": "code",
      "execution_count": null,
      "id": "db948af1",
      "metadata": {
        "id": "db948af1",
        "outputId": "ba74273f-bde0-4c81-eb9c-0ca038a0c239"
      },
      "outputs": [
        {
          "name": "stdout",
          "output_type": "stream",
          "text": [
            "Requirement already satisfied: spellchecker in c:\\users\\hp\\anaconda3\\lib\\site-packages (0.4)\n",
            "Requirement already satisfied: setuptools in c:\\users\\hp\\anaconda3\\lib\\site-packages (from spellchecker) (63.4.1)\n",
            "Requirement already satisfied: inexactsearch in c:\\users\\hp\\anaconda3\\lib\\site-packages (from spellchecker) (1.0.2)\n",
            "Requirement already satisfied: soundex>=1.0 in c:\\users\\hp\\anaconda3\\lib\\site-packages (from inexactsearch->spellchecker) (1.1.3)\n",
            "Requirement already satisfied: silpa-common>=0.3 in c:\\users\\hp\\anaconda3\\lib\\site-packages (from inexactsearch->spellchecker) (0.3)\n"
          ]
        }
      ],
      "source": [
        "!pip install spellchecker"
      ]
    },
    {
      "cell_type": "code",
      "execution_count": null,
      "id": "93b4e1a9",
      "metadata": {
        "id": "93b4e1a9"
      },
      "outputs": [],
      "source": [
        "\n",
        "import re\n",
        "import pandas as pd\n",
        "import numpy as np\n",
        "\n"
      ]
    },
    {
      "cell_type": "code",
      "execution_count": null,
      "id": "1a94f25a",
      "metadata": {
        "id": "1a94f25a"
      },
      "outputs": [],
      "source": [
        "# Suppress false positive warnings\n",
        "import warnings\n",
        "warnings.filterwarnings(\"ignore\")"
      ]
    },
    {
      "cell_type": "code",
      "execution_count": null,
      "id": "f8f4fa47",
      "metadata": {
        "id": "f8f4fa47"
      },
      "outputs": [],
      "source": [
        "df = pd.read_csv('https://raw.githubusercontent.com/lisavirginia/clinical-abbreviations/master/code/Step2Output.csv',\n",
        "                 sep='|',\n",
        "                 header=0,\n",
        "                 index_col=False,\n",
        "                 na_filter=False,\n",
        "                 dtype=object)"
      ]
    },
    {
      "cell_type": "code",
      "execution_count": null,
      "id": "691bd848",
      "metadata": {
        "id": "691bd848",
        "outputId": "d17b5df1-1c4d-4983-c01b-68ab699fb140"
      },
      "outputs": [
        {
          "data": {
            "text/html": [
              "<div>\n",
              "<style scoped>\n",
              "    .dataframe tbody tr th:only-of-type {\n",
              "        vertical-align: middle;\n",
              "    }\n",
              "\n",
              "    .dataframe tbody tr th {\n",
              "        vertical-align: top;\n",
              "    }\n",
              "\n",
              "    .dataframe thead th {\n",
              "        text-align: right;\n",
              "    }\n",
              "</style>\n",
              "<table border=\"1\" class=\"dataframe\">\n",
              "  <thead>\n",
              "    <tr style=\"text-align: right;\">\n",
              "      <th></th>\n",
              "      <th>GroupID</th>\n",
              "      <th>RecordID</th>\n",
              "      <th>SF</th>\n",
              "      <th>SFUI</th>\n",
              "      <th>NormSF</th>\n",
              "      <th>LF</th>\n",
              "      <th>LFUI</th>\n",
              "      <th>NormLF</th>\n",
              "      <th>Source</th>\n",
              "      <th>SFEUI</th>\n",
              "      <th>LFEUI</th>\n",
              "      <th>Type</th>\n",
              "      <th>PrefSF</th>\n",
              "      <th>Score</th>\n",
              "      <th>Count</th>\n",
              "      <th>Frequency</th>\n",
              "      <th>UMLS.CUI</th>\n",
              "    </tr>\n",
              "  </thead>\n",
              "  <tbody>\n",
              "    <tr>\n",
              "      <th>368728</th>\n",
              "      <td></td>\n",
              "      <td>R368729</td>\n",
              "      <td>T-ALL</td>\n",
              "      <td>S068102</td>\n",
              "      <td>t_all</td>\n",
              "      <td>T cell acute lymphoblastic leukemias</td>\n",
              "      <td>L032523</td>\n",
              "      <td>T cell acute lymphoblastic leukemia</td>\n",
              "      <td>ADAM</td>\n",
              "      <td></td>\n",
              "      <td></td>\n",
              "      <td></td>\n",
              "      <td>T-ALL</td>\n",
              "      <td>0.7357</td>\n",
              "      <td>193</td>\n",
              "      <td></td>\n",
              "      <td></td>\n",
              "    </tr>\n",
              "    <tr>\n",
              "      <th>320521</th>\n",
              "      <td></td>\n",
              "      <td>R320522</td>\n",
              "      <td>Emax</td>\n",
              "      <td>S023535</td>\n",
              "      <td>emax</td>\n",
              "      <td>maximal responses</td>\n",
              "      <td>L107849</td>\n",
              "      <td></td>\n",
              "      <td>ADAM</td>\n",
              "      <td></td>\n",
              "      <td></td>\n",
              "      <td></td>\n",
              "      <td>Emax</td>\n",
              "      <td>0.2113</td>\n",
              "      <td>24</td>\n",
              "      <td></td>\n",
              "      <td></td>\n",
              "    </tr>\n",
              "    <tr>\n",
              "      <th>311671</th>\n",
              "      <td></td>\n",
              "      <td>R311672</td>\n",
              "      <td>CTG</td>\n",
              "      <td>S015579</td>\n",
              "      <td>ctg</td>\n",
              "      <td>connective tissue graft</td>\n",
              "      <td>L060880</td>\n",
              "      <td>connective tissue graft</td>\n",
              "      <td>ADAM</td>\n",
              "      <td></td>\n",
              "      <td></td>\n",
              "      <td></td>\n",
              "      <td>CTG</td>\n",
              "      <td>0.7103</td>\n",
              "      <td>10</td>\n",
              "      <td></td>\n",
              "      <td></td>\n",
              "    </tr>\n",
              "  </tbody>\n",
              "</table>\n",
              "</div>"
            ],
            "text/plain": [
              "       GroupID RecordID     SF     SFUI NormSF  \\\n",
              "368728          R368729  T-ALL  S068102  t_all   \n",
              "320521          R320522   Emax  S023535   emax   \n",
              "311671          R311672    CTG  S015579    ctg   \n",
              "\n",
              "                                          LF     LFUI  \\\n",
              "368728  T cell acute lymphoblastic leukemias  L032523   \n",
              "320521                     maximal responses  L107849   \n",
              "311671               connective tissue graft  L060880   \n",
              "\n",
              "                                     NormLF Source SFEUI LFEUI Type PrefSF  \\\n",
              "368728  T cell acute lymphoblastic leukemia   ADAM                   T-ALL   \n",
              "320521                                        ADAM                    Emax   \n",
              "311671              connective tissue graft   ADAM                     CTG   \n",
              "\n",
              "         Score Count Frequency UMLS.CUI  \n",
              "368728  0.7357   193                     \n",
              "320521  0.2113    24                     \n",
              "311671  0.7103    10                     "
            ]
          },
          "execution_count": 122,
          "metadata": {},
          "output_type": "execute_result"
        }
      ],
      "source": [
        "df.sample(3, random_state=0)"
      ]
    },
    {
      "cell_type": "code",
      "execution_count": null,
      "id": "74df68d0",
      "metadata": {
        "id": "74df68d0",
        "outputId": "34eb2968-07e4-4475-f8f4-f8649c6b3825"
      },
      "outputs": [
        {
          "data": {
            "text/plain": [
              "(409668, 17)"
            ]
          },
          "execution_count": 123,
          "metadata": {},
          "output_type": "execute_result"
        }
      ],
      "source": [
        "df.shape"
      ]
    },
    {
      "cell_type": "markdown",
      "id": "5a5c4099",
      "metadata": {
        "id": "5a5c4099"
      },
      "source": [
        "### Identify Errors"
      ]
    },
    {
      "cell_type": "markdown",
      "id": "fe7f220d",
      "metadata": {
        "id": "fe7f220d"
      },
      "source": [
        "#### Heuristic 1: Duplicates"
      ]
    },
    {
      "cell_type": "markdown",
      "id": "c6730e05",
      "metadata": {
        "id": "c6730e05"
      },
      "source": [
        "Identify which records exactly duplicate another record from the same source."
      ]
    },
    {
      "cell_type": "code",
      "execution_count": null,
      "id": "b9237309",
      "metadata": {
        "id": "b9237309",
        "outputId": "ad6712f8-23ea-4800-fac1-0bb2c483e7e1"
      },
      "outputs": [
        {
          "data": {
            "text/plain": [
              "(3933, 17)"
            ]
          },
          "execution_count": 124,
          "metadata": {},
          "output_type": "execute_result"
        }
      ],
      "source": [
        "Extract1 = df[df.duplicated(['SF', 'LF', 'Source']) == True]\n",
        "Extract1.shape"
      ]
    },
    {
      "cell_type": "markdown",
      "id": "f6a5069b",
      "metadata": {
        "id": "f6a5069b"
      },
      "source": [
        "#### Heuristic 2: Punctuation"
      ]
    },
    {
      "cell_type": "markdown",
      "id": "6f9398b3",
      "metadata": {
        "id": "6f9398b3"
      },
      "source": [
        "Identify excess punctuation in the long form (e.g. \"nitric oxide;\")."
      ]
    },
    {
      "cell_type": "code",
      "execution_count": null,
      "id": "25fe3f74",
      "metadata": {
        "id": "25fe3f74",
        "outputId": "d68a187b-dc30-4399-d798-d04ae3ba141b"
      },
      "outputs": [
        {
          "data": {
            "text/plain": [
              "(55, 17)"
            ]
          },
          "execution_count": 125,
          "metadata": {},
          "output_type": "execute_result"
        }
      ],
      "source": [
        "# Punctuation after LF (excludes .+%()[])\n",
        "Extract2_1 = df[df['LF'].str.contains('.*[,\\/#!\\$\\^&@\\?<>\\*:;{}=\\-_\\'~\\\"]$') == True]\n",
        "Extract2_1.shape"
      ]
    },
    {
      "cell_type": "code",
      "execution_count": null,
      "id": "56ead2bb",
      "metadata": {
        "id": "56ead2bb",
        "outputId": "40c6bd36-e191-4e6e-d189-cc5934b809db"
      },
      "outputs": [
        {
          "data": {
            "text/plain": [
              "(7, 17)"
            ]
          },
          "execution_count": 126,
          "metadata": {},
          "output_type": "execute_result"
        }
      ],
      "source": [
        "# Punctuation before LF (excludes .+%()[])\n",
        "Extract2_2 = df[df['LF'].str.contains('^[,\\/#!\\$\\^&@\\?<>\\*:;{}=\\-_\\'~\\\"].*') == True]\n",
        "Extract2_2.shape"
      ]
    },
    {
      "cell_type": "code",
      "execution_count": null,
      "id": "23f22378",
      "metadata": {
        "id": "23f22378",
        "outputId": "a7458a9a-3e61-4d09-a737-0b972238b162"
      },
      "outputs": [
        {
          "data": {
            "text/plain": [
              "(76, 17)"
            ]
          },
          "execution_count": 127,
          "metadata": {},
          "output_type": "execute_result"
        }
      ],
      "source": [
        "# Excess periods before SF\n",
        "Extract2_3 = df[df['SF'].str.contains('^[\\.]+.*') == True]\n",
        "Extract2_3.shape"
      ]
    },
    {
      "cell_type": "markdown",
      "id": "c2636453",
      "metadata": {
        "id": "c2636453"
      },
      "source": [
        "#### Heuristic 4: Content"
      ]
    },
    {
      "cell_type": "markdown",
      "id": "474e3b02",
      "metadata": {
        "id": "474e3b02"
      },
      "source": [
        "The alphabetic characters in the short form don't occur anywhere in the long form."
      ]
    },
    {
      "cell_type": "code",
      "execution_count": null,
      "id": "feadd028",
      "metadata": {
        "id": "feadd028"
      },
      "outputs": [],
      "source": [
        "# Include problematic sources\n",
        "subset = df[(df['Source'] == 'Vanderbilt Clinic Notes') |\n",
        "            (df['Source'] == 'Vanderbilt Discharge Sums')]\n",
        "\n",
        "# Instantiate output\n",
        "missing_character = []\n",
        "missing_char_data = []"
      ]
    },
    {
      "cell_type": "code",
      "execution_count": null,
      "id": "7f8c9b05",
      "metadata": {
        "id": "7f8c9b05"
      },
      "outputs": [],
      "source": [
        "# Iterate over dataframe\n",
        "for index, row in subset.iterrows():\n",
        "\n",
        "    # Extract alphabetic characters\n",
        "    alph_SF = set(re.sub('[^A-Za-z]+', '', row['SF']).lower())\n",
        "    alph_LF = set(re.sub('[^A-Za-z]+', '', row['LF']).lower())\n",
        "\n",
        "    if alph_SF.issubset(alph_LF) == False:\n",
        "        if (alph_SF - alph_LF) != {'x'}:\n",
        "            missing_character.append(row['RecordID'])\n",
        "            missing_char_data.append(alph_SF - alph_LF)"
      ]
    },
    {
      "cell_type": "code",
      "execution_count": null,
      "id": "557d0111",
      "metadata": {
        "id": "557d0111",
        "outputId": "b23cef5e-b17b-4f77-d2d6-0f7d2b030554"
      },
      "outputs": [
        {
          "data": {
            "text/plain": [
              "(217, 17)"
            ]
          },
          "execution_count": 135,
          "metadata": {},
          "output_type": "execute_result"
        }
      ],
      "source": [
        "# Extract LFs missing characters\n",
        "Extract4 = df[df['RecordID'].isin(missing_character)]\n",
        "Extract4.shape"
      ]
    },
    {
      "cell_type": "markdown",
      "id": "8bb352ec",
      "metadata": {
        "id": "8bb352ec"
      },
      "source": [
        "#### Heuristic 5: User-Identified"
      ]
    },
    {
      "cell_type": "code",
      "execution_count": null,
      "id": "add0240d",
      "metadata": {
        "id": "add0240d",
        "outputId": "ea0ee0a9-8e93-4f81-d495-30965e80cecf"
      },
      "outputs": [
        {
          "data": {
            "text/plain": [
              "(49, 17)"
            ]
          },
          "execution_count": 136,
          "metadata": {},
          "output_type": "execute_result"
        }
      ],
      "source": [
        "Extract5 = df[(df['LF'].str.contains(\"#000066\") |\n",
        "              df['LF'].str.contains(\"typo\") |\n",
        "              df['LF'].str.contains(\"not an abbreviation\") |\n",
        "              df['LF'].str.contains(\"not an acronym\"))]\n",
        "Extract5.shape"
      ]
    },
    {
      "cell_type": "markdown",
      "id": "4bb5a77f",
      "metadata": {
        "id": "4bb5a77f"
      },
      "source": [
        "### Format"
      ]
    },
    {
      "cell_type": "markdown",
      "id": "c8c585ed",
      "metadata": {
        "id": "c8c585ed"
      },
      "source": [
        "#### Add Columns"
      ]
    },
    {
      "cell_type": "code",
      "execution_count": null,
      "id": "63738dd8",
      "metadata": {
        "id": "63738dd8"
      },
      "outputs": [],
      "source": [
        "# Error type, decision, modification\n",
        "Extract1['error'], Extract1['action'] = [\"duplicate\", \"retire\"]\n",
        "Extract2_1['error'], Extract2_1['action'] = [\"punctuation after LF\", \"modify\"]\n",
        "Extract2_2['error'], Extract2_2['action'] = [\"punctuation before LF\", \"modify\"]\n",
        "Extract2_3['error'], Extract2_3['action'] = [\"punctuation before SF\", \"modify\"]\n",
        "Extract4['error'], Extract4['action'] = [missing_char_data, \"modify\"]\n",
        "Extract5['error'], Extract5['action'] = [\"user identified\", \"retire\"]"
      ]
    },
    {
      "cell_type": "markdown",
      "id": "4bf98121",
      "metadata": {
        "id": "4bf98121"
      },
      "source": [
        "### Merge"
      ]
    },
    {
      "cell_type": "code",
      "execution_count": null,
      "id": "e5bb3bc2",
      "metadata": {
        "id": "e5bb3bc2",
        "outputId": "e55fc587-bb73-40c8-c48c-1dc89633c46a"
      },
      "outputs": [
        {
          "data": {
            "text/plain": [
              "(4337, 19)"
            ]
          },
          "execution_count": 140,
          "metadata": {},
          "output_type": "execute_result"
        }
      ],
      "source": [
        "errors = pd.concat([Extract1, Extract2_1, Extract2_2, Extract2_3, Extract4, Extract5])\n",
        "errors.shape"
      ]
    },
    {
      "cell_type": "code",
      "execution_count": null,
      "id": "331f33d7",
      "metadata": {
        "id": "331f33d7",
        "outputId": "04c7d74b-67d9-42a5-ed48-8d36e4b61ead"
      },
      "outputs": [
        {
          "data": {
            "text/plain": [
              "(4331, 19)"
            ]
          },
          "execution_count": 141,
          "metadata": {},
          "output_type": "execute_result"
        }
      ],
      "source": [
        "errors = errors.drop_duplicates(subset=\"RecordID\")\n",
        "errors.shape"
      ]
    },
    {
      "cell_type": "markdown",
      "id": "d7510a6b",
      "metadata": {
        "id": "d7510a6b"
      },
      "source": [
        "### Export"
      ]
    },
    {
      "cell_type": "code",
      "execution_count": null,
      "id": "d2906cdb",
      "metadata": {
        "id": "d2906cdb"
      },
      "outputs": [],
      "source": [
        "errors.to_csv('Step3Output.csv',\n",
        "              index=False,\n",
        "              header=True,\n",
        "              sep='|')"
      ]
    },
    {
      "cell_type": "markdown",
      "id": "1f13988d",
      "metadata": {
        "id": "1f13988d"
      },
      "source": [
        "### import Errors"
      ]
    },
    {
      "cell_type": "markdown",
      "id": "83c20ccb",
      "metadata": {
        "id": "83c20ccb"
      },
      "source": [
        "#### Import Annotated"
      ]
    },
    {
      "cell_type": "code",
      "execution_count": null,
      "id": "df34acfe",
      "metadata": {
        "id": "df34acfe"
      },
      "outputs": [],
      "source": [
        "errors = pd.read_csv('Step3Output.csv',\n",
        "                     sep='|',\n",
        "                     header=0,\n",
        "                     index_col=False,\n",
        "                     na_filter=False,\n",
        "                     dtype=object)"
      ]
    },
    {
      "cell_type": "code",
      "execution_count": null,
      "id": "949f2528",
      "metadata": {
        "id": "949f2528",
        "outputId": "f2b2e0e1-22d3-45c4-f953-c60be5b8b940"
      },
      "outputs": [
        {
          "data": {
            "text/html": [
              "<div>\n",
              "<style scoped>\n",
              "    .dataframe tbody tr th:only-of-type {\n",
              "        vertical-align: middle;\n",
              "    }\n",
              "\n",
              "    .dataframe tbody tr th {\n",
              "        vertical-align: top;\n",
              "    }\n",
              "\n",
              "    .dataframe thead th {\n",
              "        text-align: right;\n",
              "    }\n",
              "</style>\n",
              "<table border=\"1\" class=\"dataframe\">\n",
              "  <thead>\n",
              "    <tr style=\"text-align: right;\">\n",
              "      <th></th>\n",
              "      <th>GroupID</th>\n",
              "      <th>RecordID</th>\n",
              "      <th>SF</th>\n",
              "      <th>SFUI</th>\n",
              "      <th>NormSF</th>\n",
              "      <th>LF</th>\n",
              "      <th>LFUI</th>\n",
              "      <th>NormLF</th>\n",
              "      <th>Source</th>\n",
              "      <th>SFEUI</th>\n",
              "      <th>LFEUI</th>\n",
              "      <th>Type</th>\n",
              "      <th>PrefSF</th>\n",
              "      <th>Score</th>\n",
              "      <th>Count</th>\n",
              "      <th>Frequency</th>\n",
              "      <th>UMLS.CUI</th>\n",
              "      <th>error</th>\n",
              "      <th>action</th>\n",
              "    </tr>\n",
              "  </thead>\n",
              "  <tbody>\n",
              "    <tr>\n",
              "      <th>4223</th>\n",
              "      <td></td>\n",
              "      <td>R405161</td>\n",
              "      <td>q12</td>\n",
              "      <td>S097317</td>\n",
              "      <td>q12</td>\n",
              "      <td>every twelve</td>\n",
              "      <td>L074790</td>\n",
              "      <td></td>\n",
              "      <td>Vanderbilt Discharge Sums</td>\n",
              "      <td></td>\n",
              "      <td></td>\n",
              "      <td></td>\n",
              "      <td></td>\n",
              "      <td></td>\n",
              "      <td>6</td>\n",
              "      <td>1.0</td>\n",
              "      <td>c0585327</td>\n",
              "      <td>{'q'}</td>\n",
              "      <td>modify</td>\n",
              "    </tr>\n",
              "    <tr>\n",
              "      <th>3431</th>\n",
              "      <td></td>\n",
              "      <td>R253676</td>\n",
              "      <td>CCO</td>\n",
              "      <td>S012752</td>\n",
              "      <td>cco</td>\n",
              "      <td>cytochrom-c-oxidase</td>\n",
              "      <td>L063951</td>\n",
              "      <td>cytochrom c oxidase</td>\n",
              "      <td>UMLS</td>\n",
              "      <td>E0744336</td>\n",
              "      <td>E0020556</td>\n",
              "      <td>acronym</td>\n",
              "      <td></td>\n",
              "      <td></td>\n",
              "      <td></td>\n",
              "      <td></td>\n",
              "      <td></td>\n",
              "      <td>duplicate</td>\n",
              "      <td>retire</td>\n",
              "    </tr>\n",
              "    <tr>\n",
              "      <th>2134</th>\n",
              "      <td></td>\n",
              "      <td>R184147</td>\n",
              "      <td>OCC</td>\n",
              "      <td>S050915</td>\n",
              "      <td>occ</td>\n",
              "      <td>occiput</td>\n",
              "      <td>L120684</td>\n",
              "      <td>occiput</td>\n",
              "      <td>UMLS</td>\n",
              "      <td>E0698129</td>\n",
              "      <td>E0043489</td>\n",
              "      <td>abbreviation</td>\n",
              "      <td></td>\n",
              "      <td></td>\n",
              "      <td></td>\n",
              "      <td></td>\n",
              "      <td></td>\n",
              "      <td>duplicate</td>\n",
              "      <td>retire</td>\n",
              "    </tr>\n",
              "  </tbody>\n",
              "</table>\n",
              "</div>"
            ],
            "text/plain": [
              "     GroupID RecordID   SF     SFUI NormSF                   LF     LFUI  \\\n",
              "4223          R405161  q12  S097317    q12         every twelve  L074790   \n",
              "3431          R253676  CCO  S012752    cco  cytochrom-c-oxidase  L063951   \n",
              "2134          R184147  OCC  S050915    occ              occiput  L120684   \n",
              "\n",
              "                   NormLF                     Source     SFEUI     LFEUI  \\\n",
              "4223                       Vanderbilt Discharge Sums                       \n",
              "3431  cytochrom c oxidase                       UMLS  E0744336  E0020556   \n",
              "2134              occiput                       UMLS  E0698129  E0043489   \n",
              "\n",
              "              Type PrefSF Score Count Frequency  UMLS.CUI      error  action  \n",
              "4223                                6       1.0  c0585327      {'q'}  modify  \n",
              "3431       acronym                                         duplicate  retire  \n",
              "2134  abbreviation                                         duplicate  retire  "
            ]
          },
          "execution_count": 145,
          "metadata": {},
          "output_type": "execute_result"
        }
      ],
      "source": [
        "errors.sample(3, random_state=0)"
      ]
    },
    {
      "cell_type": "code",
      "execution_count": null,
      "id": "97572167",
      "metadata": {
        "id": "97572167",
        "outputId": "b59582f9-16ee-4729-9f7f-d8734c49ed09"
      },
      "outputs": [
        {
          "data": {
            "text/plain": [
              "(4331, 19)"
            ]
          },
          "execution_count": 146,
          "metadata": {},
          "output_type": "execute_result"
        }
      ],
      "source": [
        "errors.shape"
      ]
    },
    {
      "cell_type": "code",
      "execution_count": null,
      "id": "c5d3865a",
      "metadata": {
        "id": "c5d3865a",
        "outputId": "9ba34be0-3f60-4b0e-ace0-3f703e3c52b5"
      },
      "outputs": [
        {
          "data": {
            "text/plain": [
              "retire    3979\n",
              "modify     352\n",
              "Name: action, dtype: int64"
            ]
          },
          "execution_count": 147,
          "metadata": {},
          "output_type": "execute_result"
        }
      ],
      "source": [
        "errors['action'].value_counts()"
      ]
    },
    {
      "cell_type": "markdown",
      "id": "7e2ec375",
      "metadata": {
        "id": "7e2ec375"
      },
      "source": [
        "### Remove None"
      ]
    },
    {
      "cell_type": "code",
      "execution_count": null,
      "id": "1753881e",
      "metadata": {
        "id": "1753881e",
        "outputId": "2b211bcf-9754-4876-dc84-0d2f2d2f13c4"
      },
      "outputs": [
        {
          "data": {
            "text/plain": [
              "(4331, 19)"
            ]
          },
          "execution_count": 148,
          "metadata": {},
          "output_type": "execute_result"
        }
      ],
      "source": [
        "errors = errors[(errors['action'] != 'none')]\n",
        "errors.shape"
      ]
    },
    {
      "cell_type": "markdown",
      "id": "cb96062b",
      "metadata": {
        "id": "cb96062b"
      },
      "source": [
        "### Subset Crosswalk"
      ]
    },
    {
      "cell_type": "code",
      "execution_count": null,
      "id": "27f13327",
      "metadata": {
        "id": "27f13327",
        "outputId": "ce26ba23-c799-4a52-9b6c-4938811322d9"
      },
      "outputs": [
        {
          "data": {
            "text/plain": [
              "(405337, 17)"
            ]
          },
          "execution_count": 149,
          "metadata": {},
          "output_type": "execute_result"
        }
      ],
      "source": [
        "df_all = df # Keep unsubsetted version\n",
        "df = df[~df['RecordID'].isin(errors['RecordID'])]\n",
        "df.shape"
      ]
    },
    {
      "cell_type": "markdown",
      "id": "acbfb984",
      "metadata": {
        "id": "acbfb984"
      },
      "source": [
        "### Subset Errors"
      ]
    },
    {
      "cell_type": "code",
      "execution_count": null,
      "id": "dae818c3",
      "metadata": {
        "id": "dae818c3",
        "outputId": "939f7a5f-7d9e-4bae-a1e1-1c368b2a4485"
      },
      "outputs": [
        {
          "data": {
            "text/plain": [
              "(3979, 17)"
            ]
          },
          "execution_count": 150,
          "metadata": {},
          "output_type": "execute_result"
        }
      ],
      "source": [
        "retire = df_all[df_all['RecordID'].isin(errors[(errors['action'] == 'retire')]['RecordID'])]\n",
        "retire.shape"
      ]
    },
    {
      "cell_type": "code",
      "execution_count": null,
      "id": "865e2964",
      "metadata": {
        "id": "865e2964",
        "outputId": "f539a8ae-2701-4870-9d1a-02420059f39f"
      },
      "outputs": [
        {
          "data": {
            "text/plain": [
              "(352, 19)"
            ]
          },
          "execution_count": 151,
          "metadata": {},
          "output_type": "execute_result"
        }
      ],
      "source": [
        "modify = errors[(errors['action'] == 'modify')].iloc[:, 0:19]\n",
        "modify.shape"
      ]
    },
    {
      "cell_type": "markdown",
      "id": "f53a6a0b",
      "metadata": {
        "id": "f53a6a0b"
      },
      "source": [
        "### Modify"
      ]
    },
    {
      "cell_type": "markdown",
      "id": "c58aaa5e",
      "metadata": {
        "id": "c58aaa5e"
      },
      "source": [
        "#### Retire Duplicates"
      ]
    },
    {
      "cell_type": "code",
      "execution_count": null,
      "id": "2bd92fd9",
      "metadata": {
        "id": "2bd92fd9",
        "outputId": "512b2028-1e19-4b24-e022-483b760e2ab5"
      },
      "outputs": [
        {
          "data": {
            "text/plain": [
              "(0, 19)"
            ]
          },
          "execution_count": 152,
          "metadata": {},
          "output_type": "execute_result"
        }
      ],
      "source": [
        "# Identify duplicates\n",
        "dups = pd.concat([df, modify])\n",
        "dups = dups[dups.duplicated(['SF', 'LF', 'Source']) == True]\n",
        "dups.shape"
      ]
    },
    {
      "cell_type": "code",
      "execution_count": null,
      "id": "b6b45367",
      "metadata": {
        "id": "b6b45367",
        "outputId": "ee5348a1-b200-40d1-ed2f-b1a7ad32224e"
      },
      "outputs": [
        {
          "data": {
            "text/plain": [
              "(352, 19)"
            ]
          },
          "execution_count": 153,
          "metadata": {},
          "output_type": "execute_result"
        }
      ],
      "source": [
        "# Remove from modify\n",
        "modify = modify[~modify['RecordID'].isin(dups['RecordID'])]\n",
        "modify = modify.reset_index(drop=True)\n",
        "modify.shape"
      ]
    },
    {
      "cell_type": "code",
      "execution_count": null,
      "id": "845303ce",
      "metadata": {
        "id": "845303ce",
        "outputId": "d917fbd5-64f9-4ee1-9fb5-1fcc87c7bae6"
      },
      "outputs": [
        {
          "data": {
            "text/plain": [
              "(3979, 17)"
            ]
          },
          "execution_count": 154,
          "metadata": {},
          "output_type": "execute_result"
        }
      ],
      "source": [
        "# Add to retire\n",
        "retire = pd.concat([retire, df_all[df_all['RecordID'].isin(dups['RecordID'])]])\n",
        "retire = retire.reset_index(drop=True)\n",
        "retire.shape"
      ]
    },
    {
      "cell_type": "markdown",
      "id": "91f013d7",
      "metadata": {
        "id": "91f013d7"
      },
      "source": [
        "### Strip Source Data"
      ]
    },
    {
      "cell_type": "markdown",
      "id": "d0753527",
      "metadata": {
        "id": "d0753527"
      },
      "source": [
        "This is done as the source data is potentially no longer valid."
      ]
    },
    {
      "cell_type": "code",
      "execution_count": null,
      "id": "c9fe1f53",
      "metadata": {
        "id": "c9fe1f53"
      },
      "outputs": [],
      "source": [
        "modify['SFUI'], modify['NormSF'], modify['NSFUI'], modify['PrefSF'] = ['', '', '', '']\n",
        "modify['LFUI'], modify['NormLF'], modify['PrefLF'], modify['SFEUI'] = ['', '', '', '']\n",
        "modify['LFEUI'], modify['Type'], modify['Score'], modify['Count'] = ['', '', '', '']\n",
        "modify['Frequency'], modify['UMLS.CUI'] = ['', '']"
      ]
    },
    {
      "cell_type": "code",
      "execution_count": null,
      "id": "f1bf2fc0",
      "metadata": {
        "id": "f1bf2fc0",
        "outputId": "bbc0baef-68fb-4175-9851-242d4b0ed46b"
      },
      "outputs": [
        {
          "data": {
            "text/html": [
              "<div>\n",
              "<style scoped>\n",
              "    .dataframe tbody tr th:only-of-type {\n",
              "        vertical-align: middle;\n",
              "    }\n",
              "\n",
              "    .dataframe tbody tr th {\n",
              "        vertical-align: top;\n",
              "    }\n",
              "\n",
              "    .dataframe thead th {\n",
              "        text-align: right;\n",
              "    }\n",
              "</style>\n",
              "<table border=\"1\" class=\"dataframe\">\n",
              "  <thead>\n",
              "    <tr style=\"text-align: right;\">\n",
              "      <th></th>\n",
              "      <th>GroupID</th>\n",
              "      <th>RecordID</th>\n",
              "      <th>SF</th>\n",
              "      <th>SFUI</th>\n",
              "      <th>NormSF</th>\n",
              "      <th>LF</th>\n",
              "      <th>LFUI</th>\n",
              "      <th>NormLF</th>\n",
              "      <th>Source</th>\n",
              "      <th>SFEUI</th>\n",
              "      <th>...</th>\n",
              "      <th>Type</th>\n",
              "      <th>PrefSF</th>\n",
              "      <th>Score</th>\n",
              "      <th>Count</th>\n",
              "      <th>Frequency</th>\n",
              "      <th>UMLS.CUI</th>\n",
              "      <th>error</th>\n",
              "      <th>action</th>\n",
              "      <th>NSFUI</th>\n",
              "      <th>PrefLF</th>\n",
              "    </tr>\n",
              "  </thead>\n",
              "  <tbody>\n",
              "    <tr>\n",
              "      <th>6</th>\n",
              "      <td></td>\n",
              "      <td>R296152</td>\n",
              "      <td>99mTc</td>\n",
              "      <td></td>\n",
              "      <td></td>\n",
              "      <td>technetium-99m-</td>\n",
              "      <td></td>\n",
              "      <td></td>\n",
              "      <td>ADAM</td>\n",
              "      <td></td>\n",
              "      <td>...</td>\n",
              "      <td></td>\n",
              "      <td></td>\n",
              "      <td></td>\n",
              "      <td></td>\n",
              "      <td></td>\n",
              "      <td></td>\n",
              "      <td>punctuation after LF</td>\n",
              "      <td>modify</td>\n",
              "      <td></td>\n",
              "      <td></td>\n",
              "    </tr>\n",
              "    <tr>\n",
              "      <th>52</th>\n",
              "      <td></td>\n",
              "      <td>R391364</td>\n",
              "      <td>gugals</td>\n",
              "      <td></td>\n",
              "      <td></td>\n",
              "      <td>combined term for \"guys and gals\"</td>\n",
              "      <td></td>\n",
              "      <td></td>\n",
              "      <td>Berman</td>\n",
              "      <td></td>\n",
              "      <td>...</td>\n",
              "      <td></td>\n",
              "      <td></td>\n",
              "      <td></td>\n",
              "      <td></td>\n",
              "      <td></td>\n",
              "      <td></td>\n",
              "      <td>punctuation after LF</td>\n",
              "      <td>modify</td>\n",
              "      <td></td>\n",
              "      <td></td>\n",
              "    </tr>\n",
              "    <tr>\n",
              "      <th>259</th>\n",
              "      <td></td>\n",
              "      <td>R404476</td>\n",
              "      <td>I</td>\n",
              "      <td></td>\n",
              "      <td></td>\n",
              "      <td>one (1)</td>\n",
              "      <td></td>\n",
              "      <td></td>\n",
              "      <td>Vanderbilt Discharge Sums</td>\n",
              "      <td></td>\n",
              "      <td>...</td>\n",
              "      <td></td>\n",
              "      <td></td>\n",
              "      <td></td>\n",
              "      <td></td>\n",
              "      <td></td>\n",
              "      <td></td>\n",
              "      <td>{'i'}</td>\n",
              "      <td>modify</td>\n",
              "      <td></td>\n",
              "      <td></td>\n",
              "    </tr>\n",
              "  </tbody>\n",
              "</table>\n",
              "<p>3 rows × 21 columns</p>\n",
              "</div>"
            ],
            "text/plain": [
              "    GroupID RecordID      SF SFUI NormSF                                 LF  \\\n",
              "6            R296152   99mTc                                technetium-99m-   \n",
              "52           R391364  gugals              combined term for \"guys and gals\"   \n",
              "259          R404476       I                                        one (1)   \n",
              "\n",
              "    LFUI NormLF                     Source SFEUI  ... Type PrefSF Score Count  \\\n",
              "6                                     ADAM        ...                           \n",
              "52                                  Berman        ...                           \n",
              "259              Vanderbilt Discharge Sums        ...                           \n",
              "\n",
              "    Frequency UMLS.CUI                 error  action NSFUI PrefLF  \n",
              "6                       punctuation after LF  modify               \n",
              "52                      punctuation after LF  modify               \n",
              "259                                    {'i'}  modify               \n",
              "\n",
              "[3 rows x 21 columns]"
            ]
          },
          "execution_count": 156,
          "metadata": {},
          "output_type": "execute_result"
        }
      ],
      "source": [
        "modify.sample(3, random_state=0)"
      ]
    },
    {
      "cell_type": "markdown",
      "id": "6e473617",
      "metadata": {
        "id": "6e473617"
      },
      "source": [
        "### Reassign Normalized Short Form"
      ]
    },
    {
      "cell_type": "code",
      "execution_count": null,
      "id": "0f1fa994",
      "metadata": {
        "id": "0f1fa994"
      },
      "outputs": [],
      "source": [
        "modify['NormSF'] = modify['SF'].apply(normalized_short_form)"
      ]
    },
    {
      "cell_type": "code",
      "execution_count": null,
      "id": "b6ca0c5d",
      "metadata": {
        "id": "b6ca0c5d",
        "outputId": "8d2d4a6f-9563-4dcc-dbeb-9414e180cc7d"
      },
      "outputs": [
        {
          "data": {
            "text/html": [
              "<div>\n",
              "<style scoped>\n",
              "    .dataframe tbody tr th:only-of-type {\n",
              "        vertical-align: middle;\n",
              "    }\n",
              "\n",
              "    .dataframe tbody tr th {\n",
              "        vertical-align: top;\n",
              "    }\n",
              "\n",
              "    .dataframe thead th {\n",
              "        text-align: right;\n",
              "    }\n",
              "</style>\n",
              "<table border=\"1\" class=\"dataframe\">\n",
              "  <thead>\n",
              "    <tr style=\"text-align: right;\">\n",
              "      <th></th>\n",
              "      <th>GroupID</th>\n",
              "      <th>RecordID</th>\n",
              "      <th>SF</th>\n",
              "      <th>SFUI</th>\n",
              "      <th>NormSF</th>\n",
              "      <th>LF</th>\n",
              "      <th>LFUI</th>\n",
              "      <th>NormLF</th>\n",
              "      <th>Source</th>\n",
              "      <th>SFEUI</th>\n",
              "      <th>...</th>\n",
              "      <th>Type</th>\n",
              "      <th>PrefSF</th>\n",
              "      <th>Score</th>\n",
              "      <th>Count</th>\n",
              "      <th>Frequency</th>\n",
              "      <th>UMLS.CUI</th>\n",
              "      <th>error</th>\n",
              "      <th>action</th>\n",
              "      <th>NSFUI</th>\n",
              "      <th>PrefLF</th>\n",
              "    </tr>\n",
              "  </thead>\n",
              "  <tbody>\n",
              "    <tr>\n",
              "      <th>6</th>\n",
              "      <td></td>\n",
              "      <td>R296152</td>\n",
              "      <td>99mTc</td>\n",
              "      <td></td>\n",
              "      <td>99mtc</td>\n",
              "      <td>technetium-99m-</td>\n",
              "      <td></td>\n",
              "      <td></td>\n",
              "      <td>ADAM</td>\n",
              "      <td></td>\n",
              "      <td>...</td>\n",
              "      <td></td>\n",
              "      <td></td>\n",
              "      <td></td>\n",
              "      <td></td>\n",
              "      <td></td>\n",
              "      <td></td>\n",
              "      <td>punctuation after LF</td>\n",
              "      <td>modify</td>\n",
              "      <td></td>\n",
              "      <td></td>\n",
              "    </tr>\n",
              "    <tr>\n",
              "      <th>52</th>\n",
              "      <td></td>\n",
              "      <td>R391364</td>\n",
              "      <td>gugals</td>\n",
              "      <td></td>\n",
              "      <td>gugals</td>\n",
              "      <td>combined term for \"guys and gals\"</td>\n",
              "      <td></td>\n",
              "      <td></td>\n",
              "      <td>Berman</td>\n",
              "      <td></td>\n",
              "      <td>...</td>\n",
              "      <td></td>\n",
              "      <td></td>\n",
              "      <td></td>\n",
              "      <td></td>\n",
              "      <td></td>\n",
              "      <td></td>\n",
              "      <td>punctuation after LF</td>\n",
              "      <td>modify</td>\n",
              "      <td></td>\n",
              "      <td></td>\n",
              "    </tr>\n",
              "    <tr>\n",
              "      <th>259</th>\n",
              "      <td></td>\n",
              "      <td>R404476</td>\n",
              "      <td>I</td>\n",
              "      <td></td>\n",
              "      <td>i</td>\n",
              "      <td>one (1)</td>\n",
              "      <td></td>\n",
              "      <td></td>\n",
              "      <td>Vanderbilt Discharge Sums</td>\n",
              "      <td></td>\n",
              "      <td>...</td>\n",
              "      <td></td>\n",
              "      <td></td>\n",
              "      <td></td>\n",
              "      <td></td>\n",
              "      <td></td>\n",
              "      <td></td>\n",
              "      <td>{'i'}</td>\n",
              "      <td>modify</td>\n",
              "      <td></td>\n",
              "      <td></td>\n",
              "    </tr>\n",
              "  </tbody>\n",
              "</table>\n",
              "<p>3 rows × 21 columns</p>\n",
              "</div>"
            ],
            "text/plain": [
              "    GroupID RecordID      SF SFUI  NormSF                                 LF  \\\n",
              "6            R296152   99mTc        99mtc                    technetium-99m-   \n",
              "52           R391364  gugals       gugals  combined term for \"guys and gals\"   \n",
              "259          R404476       I            i                            one (1)   \n",
              "\n",
              "    LFUI NormLF                     Source SFEUI  ... Type PrefSF Score Count  \\\n",
              "6                                     ADAM        ...                           \n",
              "52                                  Berman        ...                           \n",
              "259              Vanderbilt Discharge Sums        ...                           \n",
              "\n",
              "    Frequency UMLS.CUI                 error  action NSFUI PrefLF  \n",
              "6                       punctuation after LF  modify               \n",
              "52                      punctuation after LF  modify               \n",
              "259                                    {'i'}  modify               \n",
              "\n",
              "[3 rows x 21 columns]"
            ]
          },
          "execution_count": 158,
          "metadata": {},
          "output_type": "execute_result"
        }
      ],
      "source": [
        "modify.sample(3, random_state=0)"
      ]
    },
    {
      "cell_type": "markdown",
      "id": "716f2920",
      "metadata": {
        "id": "716f2920"
      },
      "source": [
        "### Reassign LFUI"
      ]
    },
    {
      "cell_type": "code",
      "execution_count": null,
      "id": "52b9d9f2",
      "metadata": {
        "id": "52b9d9f2"
      },
      "outputs": [],
      "source": [
        "# Search existing LFUIs\n",
        "for index, row in modify.iterrows():\n",
        "    temp = df_all[(df_all['LF'] == modify['LF'].iat[index])]\n",
        "    if temp.empty:\n",
        "        modify['LFUI'].iat[index] = ''\n",
        "    else:\n",
        "        modify['LFUI'].iat[index] = temp.iloc[0]['LFUI']"
      ]
    },
    {
      "cell_type": "markdown",
      "id": "dc3bd795",
      "metadata": {
        "id": "dc3bd795"
      },
      "source": [
        "### Add \"Modified\" Column"
      ]
    },
    {
      "cell_type": "code",
      "execution_count": null,
      "id": "b88badc9",
      "metadata": {
        "id": "b88badc9"
      },
      "outputs": [],
      "source": [
        "modify[\"Modified\"] = \"modified\"\n",
        "df[\"Modified\"] = \"\""
      ]
    },
    {
      "cell_type": "markdown",
      "id": "9cc266a2",
      "metadata": {
        "id": "9cc266a2"
      },
      "source": [
        "### Append to Crosswalk"
      ]
    },
    {
      "cell_type": "code",
      "execution_count": null,
      "id": "69a79c3c",
      "metadata": {
        "id": "69a79c3c",
        "outputId": "eac4febb-1e72-4684-f68b-f0a398b51c6b"
      },
      "outputs": [
        {
          "data": {
            "text/plain": [
              "(405689, 22)"
            ]
          },
          "execution_count": 165,
          "metadata": {},
          "output_type": "execute_result"
        }
      ],
      "source": [
        "df = pd.concat([df, modify])\n",
        "df = df.sort_values(by=['RecordID'])\n",
        "df = df.reset_index(drop=True)\n",
        "df.shape"
      ]
    },
    {
      "cell_type": "markdown",
      "id": "0f7da1cc",
      "metadata": {
        "id": "0f7da1cc"
      },
      "source": [
        "### Export"
      ]
    },
    {
      "cell_type": "markdown",
      "id": "1e88a80e",
      "metadata": {
        "id": "1e88a80e"
      },
      "source": [
        "#### Export Modify"
      ]
    },
    {
      "cell_type": "code",
      "execution_count": null,
      "id": "b080eda2",
      "metadata": {
        "id": "b080eda2",
        "outputId": "d4d96e7e-f980-4cf3-cf9b-c3a6ee2ecf7a"
      },
      "outputs": [
        {
          "data": {
            "text/plain": [
              "(352, 17)"
            ]
          },
          "execution_count": 166,
          "metadata": {},
          "output_type": "execute_result"
        }
      ],
      "source": [
        "# Get original rows\n",
        "modify = df_all[df_all['RecordID'].isin(modify['RecordID'])]\n",
        "modify.shape"
      ]
    },
    {
      "cell_type": "code",
      "execution_count": null,
      "id": "2bd7ac67",
      "metadata": {
        "id": "2bd7ac67"
      },
      "outputs": [],
      "source": [
        "modify.to_csv('ModifiedRecords.csv',\n",
        "              index=False,\n",
        "              header=True,\n",
        "              sep='|')"
      ]
    },
    {
      "cell_type": "markdown",
      "id": "a3097d20",
      "metadata": {
        "id": "a3097d20"
      },
      "source": [
        "### Export Retire"
      ]
    },
    {
      "cell_type": "code",
      "execution_count": null,
      "id": "9d48a7c3",
      "metadata": {
        "id": "9d48a7c3"
      },
      "outputs": [],
      "source": [
        "\n",
        "retire.to_csv('RetiredRecords.csv',\n",
        "              index=False,\n",
        "              header=True,\n",
        "              sep='|')\n"
      ]
    },
    {
      "cell_type": "markdown",
      "id": "0f6ba4d6",
      "metadata": {
        "id": "0f6ba4d6"
      },
      "source": [
        "### Export Crosswalk"
      ]
    },
    {
      "cell_type": "code",
      "execution_count": null,
      "id": "7fbe8020",
      "metadata": {
        "id": "7fbe8020"
      },
      "outputs": [],
      "source": [
        "df.to_csv('Step3aOutput.csv',\n",
        "          index=False,\n",
        "          header=True,\n",
        "          sep='|')"
      ]
    },
    {
      "cell_type": "markdown",
      "id": "f03f844a",
      "metadata": {
        "id": "f03f844a"
      },
      "source": [
        "### This is the final crosswalk file developed and exported as Step3aOutput.csv file"
      ]
    },
    {
      "cell_type": "markdown",
      "id": "4e201979",
      "metadata": {
        "id": "4e201979"
      },
      "source": [
        "# <u> Keyword Extraction Implementation"
      ]
    },
    {
      "cell_type": "code",
      "execution_count": null,
      "id": "746dc382",
      "metadata": {
        "id": "746dc382",
        "outputId": "cea0a131-2443-41c8-909b-393e725aae34"
      },
      "outputs": [
        {
          "name": "stderr",
          "output_type": "stream",
          "text": [
            "[nltk_data] Downloading package punkt to\n",
            "[nltk_data]     C:\\Users\\Hp\\AppData\\Roaming\\nltk_data...\n",
            "[nltk_data]   Unzipping tokenizers\\punkt.zip.\n",
            "[nltk_data] Downloading package stopwords to\n",
            "[nltk_data]     C:\\Users\\Hp\\AppData\\Roaming\\nltk_data...\n",
            "[nltk_data]   Unzipping corpora\\stopwords.zip.\n"
          ]
        },
        {
          "data": {
            "text/plain": [
              "True"
            ]
          },
          "execution_count": 230,
          "metadata": {},
          "output_type": "execute_result"
        }
      ],
      "source": [
        "import nltk\n",
        "from nltk.corpus import stopwords\n",
        "from nltk.tokenize import word_tokenize, sent_tokenize\n",
        "from nltk.probability import FreqDist\n",
        "nltk.download('punkt')\n",
        "nltk.download('stopwords')"
      ]
    },
    {
      "cell_type": "code",
      "execution_count": null,
      "id": "dfdcc97c",
      "metadata": {
        "id": "dfdcc97c"
      },
      "outputs": [],
      "source": [
        "def extract_keywords(df):\n",
        "    # Tokenize the text into sentences\n",
        "    sentences = sent_tokenize(df)\n",
        "    stop_words = set(stopwords.words('english')) #Tokenizing each sentence into words\n",
        "    words = [word.lower() for sentence in sentences for word in word_tokenize(sentence) if word.isalnum() and word.lower() not in stop_words]\n",
        "    word_freq = FreqDist(words) #This calculates the Frequency distribution on the words\n",
        "    keywords = [word for word, freq in word_freq.items() if freq > 1]\n",
        "\n",
        "    return keywords"
      ]
    },
    {
      "cell_type": "code",
      "execution_count": null,
      "id": "8505f181",
      "metadata": {
        "id": "8505f181",
        "outputId": "578090cc-b932-46d0-a91f-42f03e88a832"
      },
      "outputs": [
        {
          "name": "stdout",
          "output_type": "stream",
          "text": [
            "Keywords: ['language', 'nlp', 'computers', 'important']\n"
          ]
        }
      ],
      "source": [
        "if __name__ == \"__main__\":\n",
        "    # Example text (replace this with your actual text)\n",
        "    text = \"\"\"\n",
        "    Hey there! I've been diving into Natural Language Processing (NLP), which is this super cool field in artificial intelligence all about how computers and humans can chat using regular language. NLP techniques help computers analyze, understand, and even generate human language in a way that makes sense and fits the context.\n",
        "    I'm particularly excited about keyword extraction – it's this really important job in NLP. What it does is figure out the most important words or phrases in a piece of text. \"\"\"\n",
        "\n",
        "    keywords = extract_keywords(text)  # Extracting keywords from the example text\n",
        "    print(\"Keywords:\", keywords)     # Printing the extracted keywords"
      ]
    },
    {
      "cell_type": "markdown",
      "id": "bf1dae6b",
      "metadata": {
        "id": "bf1dae6b"
      },
      "source": [
        "# <u>Conclusion and Future Direction\n",
        "    \n",
        "In conclusion, adding a keyword extraction module to an NLP program is a significant improvement, allowing for more nuanced and insightful analysis of natural language content. The experiments conducted demonstrate the effectiveness of the integrated approach, and the evaluation metrics provide a quantitative measure of the improvements achieved."
      ]
    },
    {
      "cell_type": "markdown",
      "id": "1104a60d",
      "metadata": {
        "id": "1104a60d"
      },
      "source": [
        "# <u>Development of BERT model using transformers"
      ]
    },
    {
      "cell_type": "code",
      "execution_count": null,
      "id": "b156feb8",
      "metadata": {
        "id": "b156feb8",
        "outputId": "02a47b60-e238-4331-abd4-066ad9d8af6c"
      },
      "outputs": [
        {
          "name": "stdout",
          "output_type": "stream",
          "text": [
            "Collecting torch\n",
            "  Downloading torch-2.1.2-cp39-cp39-win_amd64.whl (192.2 MB)\n",
            "     ------------------------------------- 192.2/192.2 MB 14.5 MB/s eta 0:00:00\n",
            "Requirement already satisfied: fsspec in c:\\users\\hp\\anaconda3\\lib\\site-packages (from torch) (2022.7.1)\n",
            "Requirement already satisfied: jinja2 in c:\\users\\hp\\anaconda3\\lib\\site-packages (from torch) (2.11.3)\n",
            "Requirement already satisfied: networkx in c:\\users\\hp\\anaconda3\\lib\\site-packages (from torch) (2.8.4)\n",
            "Requirement already satisfied: sympy in c:\\users\\hp\\anaconda3\\lib\\site-packages (from torch) (1.10.1)\n",
            "Requirement already satisfied: typing-extensions in c:\\users\\hp\\anaconda3\\lib\\site-packages (from torch) (4.3.0)\n",
            "Requirement already satisfied: filelock in c:\\users\\hp\\anaconda3\\lib\\site-packages (from torch) (3.6.0)\n",
            "Requirement already satisfied: MarkupSafe>=0.23 in c:\\users\\hp\\anaconda3\\lib\\site-packages (from jinja2->torch) (2.0.1)\n",
            "Requirement already satisfied: mpmath>=0.19 in c:\\users\\hp\\anaconda3\\lib\\site-packages (from sympy->torch) (1.2.1)\n",
            "Installing collected packages: torch\n",
            "Successfully installed torch-2.1.2\n"
          ]
        }
      ],
      "source": [
        "!pip install torch"
      ]
    },
    {
      "cell_type": "code",
      "execution_count": null,
      "id": "2e7c990f",
      "metadata": {
        "id": "2e7c990f"
      },
      "outputs": [],
      "source": [
        "import numpy as np\n",
        "import pandas as pd\n",
        "import torch\n",
        "from torch.utils.data import Dataset\n",
        "\n",
        "MAX_SEQ_LENGTH = 20\n",
        "\n",
        "\n",
        "\n",
        "def _tokenize_string(tokenizer, text):\n",
        "    \"\"\"Tokenizes a string using the provided tokenizer\"\"\"\n",
        "\n",
        "    cls_token = tokenizer.encode(tokenizer.cls_token)[0]\n",
        "    eos_token = tokenizer.encode(tokenizer.eos_token)[0]\n",
        "\n",
        "    if len(text.split()) > MAX_SEQ_LENGTH:\n",
        "        raise AssertionError(\"Passed text that contains too many tokens to tokenizer. \\\n",
        "                             Max tokens: {}. Passed tokens: {}\".format(MAX_SEQ_LENGTH, len(text.split())))\n",
        "    tokenized_sequence = [tokenizer.encode(word) for word in text.split()]\n",
        "    flattened_tokenized_sequence = []\n",
        "    for word in tokenized_sequence:\n",
        "        for token_num in word:\n",
        "            flattened_tokenized_sequence.append(token_num)\n",
        "\n",
        "    encoded_text = [cls_token] + flattened_tokenized_sequence + [eos_token]\n",
        "    return encoded_text\n",
        "\n",
        "def _tokenize_train_data(df, tokenizer):\n",
        "    \"\"\"Loads the conll data into lists recursively\"\"\"\n",
        "\n",
        "    df[\"tokenized_1\"] = df[\"LF1\"].apply(lambda x: _tokenize_string(tokenizer, x))\n",
        "    df[\"tokenized_2\"] = df[\"LF2\"].apply(lambda x: _tokenize_string(tokenizer, x))\n",
        "\n",
        "    return df\n",
        "\n",
        "def _create_labels(df):\n",
        "    \"\"\"Transforms labels from Y/N to int\"\"\"\n",
        "\n",
        "    df[\"label\"] = df[\"Synonym\"].apply(lambda x: int(x == \"Y\"))\n",
        "    return df\n",
        "\n",
        "def load_data(data_path, tokenizer):\n",
        "    \"\"\"Loads train data and tokenizes with Roberta\"\"\"\n",
        "    # Initialize lists to hold our data in\n",
        "\n",
        "    df = pd.read_csv(data_path)\n",
        "\n",
        "    expected_columns = [\"LF1\", \"LF2\", \"Synonym\"]\n",
        "    if len(df.columns) !=3:\n",
        "        raise AssertionError(\"Passed dataframe with incorrect number of columns. Expected 3.\"\n",
        "                             \"Recieved columns: {}\".format(df.columns))\n",
        "    if sum(df.columns == expected_columns) != 3:\n",
        "        raise AssertionError(\"Loaded dataframe does not match training data format. Expected columns: {} \\\n",
        "                             , received columns: {}.\".format(expected_columns, df.columns))\n",
        "\n",
        "    tokenized_df = _tokenize_train_data(df, tokenizer)\n",
        "\n",
        "    df_with_labels = _create_labels(tokenized_df)\n",
        "\n",
        "\n",
        "    tokenized_array_1 = np.zeros((len(df), MAX_SEQ_LENGTH))\n",
        "    tokenized_array_2 = np.zeros((len(df), MAX_SEQ_LENGTH))\n",
        "    tokenized_label_array = np.zeros((len(df), 1))\n",
        "\n",
        "    for inx, (tokens_1, tokens_2, labels) in enumerate(zip(df[\"tokenized_1\"], df[\"tokenized_2\"], df[\"label\"])):\n",
        "        tokenized_array_1[inx, -min(len(tokens_1), MAX_SEQ_LENGTH):] = tokens_1[:MAX_SEQ_LENGTH]\n",
        "        tokenized_array_2[inx, -min(len(tokens_2), MAX_SEQ_LENGTH):] = tokens_2[:MAX_SEQ_LENGTH]\n",
        "        tokenized_label_array[inx, 0] = labels\n",
        "\n",
        "    return df_with_labels[[\"tokenized_1\", \"tokenized_2\", \"label\"]], tokenized_array_1,\\\n",
        "        tokenized_array_2, tokenized_label_array\n",
        "\n",
        "\n",
        "class MatchingDataset(Dataset):\n",
        "    \"\"\"NER dataset.\"\"\"\n",
        "\n",
        "    def __init__(self, data_path, feature_array, tokenizer):\n",
        "        \"\"\"\n",
        "        Args:\n",
        "            data_path (string): Path to the train csv\n",
        "            tokenizer: Model-specific tokenizer (from huggingface)\n",
        "        \"\"\"\n",
        "        self.tokenizer = tokenizer\n",
        "        self.train_df, self.tokenized_text_1, self.tokenized_text_2, self.labels = load_data(data_path, tokenizer)\n",
        "        self.feature_array = feature_array\n",
        "\n",
        "        if len(self.feature_array) != len(self.labels):\n",
        "            raise AssertionError(\"Passed incorrect number of additional features\"\n",
        "                                 \"Received {}, expected {}.\".format(len(self.feature_array), len(self.labels)))\n",
        "\n",
        "    def __len__(self):\n",
        "        return len(self.labels)\n",
        "\n",
        "    def __getitem__(self, idx_list):\n",
        "        if torch.is_tensor(idx_list):\n",
        "            idx_list = idx_list.tolist()\n",
        "\n",
        "        sample_text_1 = torch.LongTensor(self.tokenized_text_1[idx_list])\n",
        "        sample_text_2 = torch.LongTensor(self.tokenized_text_2[idx_list])\n",
        "        additional_feats = torch.FloatTensor(self.feature_array[idx_list])\n",
        "        sample_labels = torch.FloatTensor(self.labels[idx_list])\n",
        "        sample = {'text_1': sample_text_1, 'text_2': sample_text_2, 'labels': sample_labels,\n",
        "                  'additional_feats': additional_feats}\n",
        "\n",
        "        return sample"
      ]
    },
    {
      "cell_type": "code",
      "execution_count": null,
      "id": "6bdcb70a",
      "metadata": {
        "id": "6bdcb70a",
        "outputId": "858a89c6-ba5f-452f-8a09-e4521600cfcd"
      },
      "outputs": [
        {
          "name": "stdout",
          "output_type": "stream",
          "text": [
            "Collecting transformers\n",
            "  Downloading transformers-4.36.1-py3-none-any.whl (8.3 MB)\n",
            "     ---------------------------------------- 8.3/8.3 MB 15.1 MB/s eta 0:00:00\n",
            "Requirement already satisfied: requests in c:\\users\\hp\\anaconda3\\lib\\site-packages (from transformers) (2.28.1)\n",
            "Collecting safetensors>=0.3.1\n",
            "  Downloading safetensors-0.4.1-cp39-none-win_amd64.whl (277 kB)\n",
            "     ------------------------------------- 277.8/277.8 kB 17.8 MB/s eta 0:00:00\n",
            "Collecting tokenizers<0.19,>=0.14\n",
            "  Downloading tokenizers-0.15.0-cp39-none-win_amd64.whl (2.2 MB)\n",
            "     ---------------------------------------- 2.2/2.2 MB 17.5 MB/s eta 0:00:00\n",
            "Requirement already satisfied: packaging>=20.0 in c:\\users\\hp\\anaconda3\\lib\\site-packages (from transformers) (21.3)\n",
            "Requirement already satisfied: tqdm>=4.27 in c:\\users\\hp\\anaconda3\\lib\\site-packages (from transformers) (4.64.1)\n",
            "Requirement already satisfied: pyyaml>=5.1 in c:\\users\\hp\\anaconda3\\lib\\site-packages (from transformers) (6.0)\n",
            "Requirement already satisfied: numpy>=1.17 in c:\\users\\hp\\anaconda3\\lib\\site-packages (from transformers) (1.21.5)\n",
            "Requirement already satisfied: filelock in c:\\users\\hp\\anaconda3\\lib\\site-packages (from transformers) (3.6.0)\n",
            "Requirement already satisfied: regex!=2019.12.17 in c:\\users\\hp\\anaconda3\\lib\\site-packages (from transformers) (2022.7.9)\n",
            "Collecting huggingface-hub<1.0,>=0.19.3\n",
            "  Downloading huggingface_hub-0.19.4-py3-none-any.whl (311 kB)\n",
            "     ------------------------------------- 311.7/311.7 kB 20.1 MB/s eta 0:00:00\n",
            "Requirement already satisfied: typing-extensions>=3.7.4.3 in c:\\users\\hp\\anaconda3\\lib\\site-packages (from huggingface-hub<1.0,>=0.19.3->transformers) (4.3.0)\n",
            "Collecting fsspec>=2023.5.0\n",
            "  Downloading fsspec-2023.12.2-py3-none-any.whl (168 kB)\n",
            "     ------------------------------------- 169.0/169.0 kB 10.6 MB/s eta 0:00:00\n",
            "Requirement already satisfied: pyparsing!=3.0.5,>=2.0.2 in c:\\users\\hp\\anaconda3\\lib\\site-packages (from packaging>=20.0->transformers) (3.0.9)\n",
            "Requirement already satisfied: colorama in c:\\users\\hp\\anaconda3\\lib\\site-packages (from tqdm>=4.27->transformers) (0.4.5)\n",
            "Requirement already satisfied: urllib3<1.27,>=1.21.1 in c:\\users\\hp\\anaconda3\\lib\\site-packages (from requests->transformers) (1.26.11)\n",
            "Requirement already satisfied: idna<4,>=2.5 in c:\\users\\hp\\anaconda3\\lib\\site-packages (from requests->transformers) (3.3)\n",
            "Requirement already satisfied: charset-normalizer<3,>=2 in c:\\users\\hp\\anaconda3\\lib\\site-packages (from requests->transformers) (2.0.4)\n",
            "Requirement already satisfied: certifi>=2017.4.17 in c:\\users\\hp\\anaconda3\\lib\\site-packages (from requests->transformers) (2022.9.14)\n",
            "Installing collected packages: safetensors, fsspec, huggingface-hub, tokenizers, transformers\n",
            "  Attempting uninstall: fsspec\n",
            "    Found existing installation: fsspec 2022.7.1\n",
            "    Uninstalling fsspec-2022.7.1:\n",
            "      Successfully uninstalled fsspec-2022.7.1\n",
            "Successfully installed fsspec-2023.12.2 huggingface-hub-0.19.4 safetensors-0.4.1 tokenizers-0.15.0 transformers-4.36.1\n"
          ]
        }
      ],
      "source": [
        "!pip install transformers"
      ]
    },
    {
      "cell_type": "code",
      "execution_count": null,
      "id": "ed2aebe6",
      "metadata": {
        "id": "ed2aebe6"
      },
      "outputs": [],
      "source": [
        "import torch\n",
        "import torch.nn as nn\n",
        "import torch.nn.functional as F\n",
        "from transformers import RobertaConfig, RobertaModel\n",
        "\n",
        "class MatchHead(nn.Module):\n",
        "    \"\"\"Roberta Head for Matching.\"\"\"\n",
        "    def __init__(\n",
        "        self,\n",
        "        base_model_feature_size,\n",
        "        additional_feature_size,\n",
        "        num_classes,\n",
        "        rnn_dimension,\n",
        "        linear_1_dimension,\n",
        "    ):\n",
        "        \"\"\"Model architecture definition for the capitalization model in torch.\"\"\"\n",
        "        super(MatchHead, self).__init__()\n",
        "        self.GRU_1 = nn.GRU(base_model_feature_size, rnn_dimension, bidirectional=False)\n",
        "        self.GRU_2 = nn.GRU(base_model_feature_size, rnn_dimension, bidirectional=False)\n",
        "        self.linear_1 = nn.Linear(rnn_dimension * 2 + additional_feature_size, linear_1_dimension)\n",
        "        self.linear_2 = nn.Linear(linear_1_dimension, num_classes)\n",
        "\n",
        "    def forward(self, data_1, data_2, additional_feats):\n",
        "        \"\"\"Forward pass\"\"\"\n",
        "\n",
        "        # batch second is faster\n",
        "\n",
        "        features_1 = data_1.permute(1, 0, 2)\n",
        "        features_2 = data_2.permute(1, 0, 2)\n",
        "\n",
        "        gru_1_output, _ = self.GRU_1(features_1)\n",
        "        gru_2_output, _ = self.GRU_2(features_2)\n",
        "\n",
        "        gru_1_output_permute = gru_1_output.permute(1, 0, 2)\n",
        "        gru_2_output_permute = gru_2_output.permute(1, 0, 2)\n",
        "\n",
        "        final_gru_state_1 = torch.squeeze(gru_1_output_permute[:, -1:, :])\n",
        "        final_gru_state_2 = torch.squeeze(gru_2_output_permute[:, -1:, :])\n",
        "        # Undoing the above permutation now that we are through GRU\n",
        "\n",
        "        linear_input = torch.cat((final_gru_state_1, final_gru_state_2, additional_feats), -1)\n",
        "        linear_output = self.linear_1(linear_input)\n",
        "        activated_linear_output = F.relu(linear_output)\n",
        "        pre_sigmoid_output = self.linear_2(activated_linear_output)\n",
        "        sigmoid_output = F.sigmoid(pre_sigmoid_output)\n",
        "\n",
        "        return sigmoid_output\n",
        "\n",
        "\n",
        "class MatchArchitecture(nn.Module):\n",
        "    \"Transformer base model for matching.\"\n",
        "    def __init__(\n",
        "        self,\n",
        "        base_model_path,\n",
        "        base_model_name,\n",
        "        is_custom_pretrained,\n",
        "        base_model_feature_size,\n",
        "        additional_feature_size,\n",
        "        num_classes,\n",
        "        rnn_dimension,\n",
        "        linear_1_dimension,\n",
        "    ):\n",
        "        super(MatchArchitecture, self).__init__()\n",
        "\n",
        "        if not is_custom_pretrained:\n",
        "            self.base_model = RobertaModel.from_pretrained(base_model_name)\n",
        "        else:\n",
        "            self.base_model = RobertaModel.from_pretrained(base_model_path)\n",
        "\n",
        "        for param in self.base_model.parameters():\n",
        "            param.requires_grad = False\n",
        "\n",
        "        self.match_head = MatchHead(\n",
        "            base_model_feature_size, additional_feature_size, num_classes, rnn_dimension, linear_1_dimension\n",
        "        )\n",
        "\n",
        "    def forward(\n",
        "            self,\n",
        "            input_ids_1,\n",
        "            input_ids_2,\n",
        "            additional_feats,\n",
        "            attention_mask=None,\n",
        "            token_type_ids=None,\n",
        "            position_ids=None,\n",
        "            head_mask=None,\n",
        "            labels=None,\n",
        "    ):\n",
        "        \"\"\"Forward pass\"\"\"\n",
        "\n",
        "\n",
        "        outputs_1 = self.base_model(\n",
        "            input_ids_1,\n",
        "            attention_mask=attention_mask,\n",
        "            token_type_ids=token_type_ids,\n",
        "            position_ids=position_ids,\n",
        "            head_mask=head_mask,\n",
        "        )\n",
        "        outputs_2 = self.base_model(\n",
        "            input_ids_2,\n",
        "            attention_mask=attention_mask,\n",
        "            token_type_ids=token_type_ids,\n",
        "            position_ids=position_ids,\n",
        "            head_mask=head_mask,\n",
        "        )\n",
        "\n",
        "        # Outputs[0] is seq output, outputs[1] is pooled if you want to do a seq level task\n",
        "        sequence_output_1 = outputs_1[0]\n",
        "        sequence_output_2 = outputs_2[0]\n",
        "\n",
        "        match_classification = self.match_head(sequence_output_1, sequence_output_2, additional_feats)\n",
        "\n",
        "        return match_classification\n",
        "\n",
        "\n",
        "class FFMatchHead(nn.Module):\n",
        "    \"\"\"Roberta Head for Matching.\"\"\"\n",
        "    def __init__(\n",
        "        self,\n",
        "        additional_feature_size,\n",
        "        num_classes,\n",
        "        linear_1_dimension,\n",
        "    ):\n",
        "        \"\"\"Model architecture definition for the capitalization model in torch.\"\"\"\n",
        "        super(MatchHead, self).__init__()\n",
        "        self.linear_1 = nn.Linear(additional_feature_size, linear_1_dimension)\n",
        "        self.linear_2 = nn.Linear(linear_1_dimension, num_classes)\n",
        "\n",
        "    def forward(self, additional_feats):\n",
        "        \"\"\"Forward pass\"\"\"\n",
        "\n",
        "        # batch second is faster\n",
        "        linear_input = additional_feats\n",
        "        linear_output = self.linear_1(linear_input)\n",
        "        activated_linear_output = F.relu(linear_output)\n",
        "        pre_sigmoid_output = self.linear_2(activated_linear_output)\n",
        "        sigmoid_output = F.sigmoid(pre_sigmoid_output)\n",
        "\n",
        "        return sigmoid_output\n",
        "\n",
        "\n",
        "class FFMatchArchitecture(nn.Module):\n",
        "    \"Transformer base model for matching.\"\n",
        "    def __init__(\n",
        "        self,\n",
        "        additional_feature_size,\n",
        "        num_classes,\n",
        "        linear_1_dimension,\n",
        "    ):\n",
        "        super(FFMatchArchitecture, self).__init__()\n",
        "        self.match_head = FFMatchHead(\n",
        "            additional_feature_size, num_classes, linear_1_dimension\n",
        "        )\n",
        "\n",
        "    def forward(self, additional_feats):\n",
        "        \"\"\"Forward pass\"\"\"\n",
        "\n",
        "        match_classification = self.match_head(additional_feats)\n",
        "        return match_classification"
      ]
    },
    {
      "cell_type": "markdown",
      "source": [
        "# References-\n",
        "With the help of Scientific Data platform we were able to reach out to this research paper which is based on the importance of medical abbrevations.\n",
        "Link to the paper - https://www.nature.com/articles/s41597-021-00929-4\n",
        "The Code - https://github.com/lisavirginia/clinical-abbreviations\n",
        "Our Repo - https://github.com/mayanksingh07/Medical-Abbreviations-database\n",
        "Thanks to all the contributers who have made the repo looks and functions good."
      ],
      "metadata": {
        "id": "PBFTM8ef0k5y"
      },
      "id": "PBFTM8ef0k5y"
    },
    {
      "cell_type": "code",
      "source": [],
      "metadata": {
        "id": "M_J6DLzJ1PvS"
      },
      "id": "M_J6DLzJ1PvS",
      "execution_count": null,
      "outputs": []
    }
  ],
  "metadata": {
    "kernelspec": {
      "display_name": "Python 3 (ipykernel)",
      "language": "python",
      "name": "python3"
    },
    "language_info": {
      "codemirror_mode": {
        "name": "ipython",
        "version": 3
      },
      "file_extension": ".py",
      "mimetype": "text/x-python",
      "name": "python",
      "nbconvert_exporter": "python",
      "pygments_lexer": "ipython3",
      "version": "3.9.13"
    },
    "colab": {
      "provenance": []
    }
  },
  "nbformat": 4,
  "nbformat_minor": 5
}