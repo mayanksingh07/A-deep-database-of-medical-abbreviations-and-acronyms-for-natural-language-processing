{
  "cells": [
    {
      "cell_type": "markdown",
      "metadata": {
        "id": "VXG8kI_KxAhp"
      },
      "source": [
        "# Title: AIDI 1002 Final Term Project Report\n",
        "\n",
        "#### Members' Names or Individual's Name: Jolsna J (Student ID) Mayank Singh (200577750)\n",
        "####  Emails: maysingh123456@gmail.com"
      ]
    },
    {
      "cell_type": "markdown",
      "metadata": {
        "id": "bnw2z5XHxAht"
      },
      "source": [
        "# Introduction:\n",
        "\n",
        "In a dynamic healthcare environment, effectively leveraging technological advances to improve patient outcomes, streamline clinical workflows, and advance medical research is paramount.\n",
        "Recognizing the critical role of natural language processing (NLP) in transforming unstructured clinical narratives into actionable insights, our project contributes to the ongoing effort to revolutionize health information management.\n",
        "We are aiming for One of the greatest challenges in modern healthcare is the efficient use of the wealth of information contained in electronic medical records and clinical documentation.\n",
        "Traditional methods of data extraction and analysis are  time-consuming and error-prone, preventing healthcare professionals from making informed and timely  decisions.\n",
        "This project is based on the belief that  NLP techniques can be used to address these challanges and enhancing the medical communication with better and advanced abbreviations.\n",
        "\n",
        "\n",
        "#### Problem Description:\n",
        "\n",
        "In the field of medical documentation, the widespread use of medical abbreviations poses a major challenge, often leading to misunderstandings that can have serious consequences for patient care.\n",
        "Ambiguity associated with abbreviations leads to communication breakdowns, potential medical errors, and compromised patient safety.\n",
        "This project aims to address the pressing problem of medical abbreviation misinterpretation by investigating  root causes, developing robust solutions, and implementing strategies to improve clarity and accuracy in medical communication.\n",
        "\n",
        "#### Context of the Problem:\n",
        "\n",
        "Misinterpretation of medical abbreviations can lead to medication errors, treatment delays, and other adverse events, which can pose a direct threat to patient safety. The diverse and often context-sensitive nature of medical abbreviations creates misunderstandings among healthcare providers and impedes effective communication within the healthcare team. Addressing misunderstandings requires additional time and resources, which can result in operational inefficiencies and impact the overall quality of care. Inaccurate interpretation of medical abbreviations can lead to non-compliance with regulatory standards and affect legal and ethical aspects of medical documentation.\n",
        "\n",
        "#### Limitation About other Approaches:\n",
        "\n",
        "The patient Relies on human effort, which can be time-consuming and prone to errors. Standardization may not cover all possible abbreviations, and updates may be challenging to implement across diverse healthcare settings.\n",
        "\n",
        "#### Solution:\n",
        "\n",
        "The proposed method integrates advanced natural language processing (NLP) techniques to dynamically interpret and disambiguate medical abbreviations in clinical narratives."
      ]
    },
    {
      "cell_type": "markdown",
      "metadata": {
        "id": "hp_kazFTxAhu"
      },
      "source": [
        "# Background\n",
        "\n",
        "Explain the related work using the following table\n",
        "\n",
        "| Reference |Explanation |  Dataset/Input |Weakness\n",
        "| --- | --- | --- | --- |\n",
        "| Tom et al. [1] | They trained a BERT based transformer to predict answers from the passage of a question| SQUAD dataset for QA | Only 80% accuracy\n",
        "| George et al. [2] | They trained a attention based sequence to sequence model using LSTM to predict answers from the passage of a question| SQUAD V2 dataset for QA | High accuracy but poor on unkown answers\n",
        "\n",
        "\n",
        "The last row in this table should be about the method discussed in this paper (If you can't find the weakenss of this method then write about the future improvement, see the future work section of the paper)"
      ]
    },
    {
      "cell_type": "markdown",
      "metadata": {
        "id": "GQHZ8HyDxAhv"
      },
      "source": [
        "# Methodology\n",
        "\n",
        "An existing NLP program served as the basis for this study.\n",
        "This change includes the integration of the keyword extraction module into the program's workflow.\n",
        "The NLTK library, known for its robust NLP capabilities, was used for tokenization, stopword removal, and frequency distribution analysis.\n",
        "Evaluation Metrics Evaluation metrics were defined to evaluate the effectiveness of the modified NLP program.\n",
        "Precision, recall, and F1 score were chosen as the main metrics to measure the precision and relevance of the extracted keywords compared to manually annotated ground truth data.\n",
        "A variety of test cases were used for the evaluation, including medical records, news articles, and social media texts.\n",
        "Experiments and Results A series of experiments were conducted to verify the performance of an advanced NLP program using the built-in keyword extractor.\n",
        "The program was tested on various datasets and the results were compared to the original version of his NLP program.\n",
        "A qualitative analysis of the extracted keywords was performed to confirm the relevance and consistency of the keywords in different contexts."
      ]
    },
    {
      "cell_type": "markdown",
      "metadata": {
        "id": "Of5ulh-HxAhw"
      },
      "source": [
        "# Implementation\n",
        "\n",
        "In this section, you will provide the code and its explanation. You may have to create more cells after this. (To keep the Notebook clean, do not display debugging output or thousands of print statements from hundreds of epochs. Make sure it is readable for others by reviewing it yourself carefully.)"
      ]
    },
    {
      "cell_type": "code",
      "execution_count": null,
      "metadata": {
        "id": "qCsqRAvCxAhx"
      },
      "outputs": [],
      "source": [
        "import nltk\n",
        "from nltk.corpus import stopwords\n",
        "from nltk.tokenize import word_tokenize, sent_tokenize\n",
        "from nltk.probability import FreqDist"
      ]
    },
    {
      "cell_type": "code",
      "execution_count": null,
      "metadata": {
        "id": "cNd2yje-xAhz"
      },
      "outputs": [],
      "source": [
        "def extract_keywords(df):\n",
        "    # Tokenize the text into sentences\n",
        "    sentences = sent_tokenize(df)\n",
        "    stop_words = set(stopwords.words('english')) #Tokenizing each sentence into words\n",
        "    words = [word.lower() for sentence in sentences for word in word_tokenize(sentence) if word.isalnum() and word.lower() not in stop_words]\n",
        "    word_freq = FreqDist(words) #This calculates the Frequency distribution on the words\n",
        "    keywords = [word for word, freq in word_freq.items() if freq > 1]\n",
        "\n",
        "    return keywords"
      ]
    },
    {
      "cell_type": "code",
      "execution_count": null,
      "metadata": {
        "id": "_1Anm2LRxAh0"
      },
      "outputs": [],
      "source": [
        "if __name__ == \"__main__\":\n",
        "    # Example text (replace this with your actual text)\n",
        "    text = \"\"\"\n",
        "    Hey there! I've been diving into Natural Language Processing (NLP), which is this super cool field in artificial intelligence all about how computers and humans can chat using regular language. NLP techniques help computers analyze, understand, and even generate human language in a way that makes sense and fits the context.\n",
        "    I'm particularly excited about keyword extraction – it's this really important job in NLP. What it does is figure out the most important words or phrases in a piece of text. \"\"\"\n",
        "\n",
        "    keywords = extract_keywords(text)  # Extracting keywords from the example text\n",
        "    print(\"Keywords:\", keywords)     # Printing the extracted keywords\n"
      ]
    },
    {
      "cell_type": "markdown",
      "metadata": {
        "id": "5jADiN8lxAh1"
      },
      "source": [
        "# Conclusion and Future Direction\n",
        "\n",
        "In conclusion, adding a keyword extraction module to an NLP program is a significant improvement, allowing for more nuanced and insightful analysis of natural language content. The experiments conducted demonstrate the effectiveness of the integrated approach, and the evaluation metrics provide a quantitative measure of the improvements achieved.\n"
      ]
    },
    {
      "cell_type": "markdown",
      "metadata": {
        "id": "16uE54orxAh2"
      },
      "source": [
        "# References:\n",
        "\n",
        "[1]:  Authors names, title of the paper, Conference Name,Year, page number (iff available)\n",
        "\n",
        "[2]:  Author names, title of the paper, Journal Name,Journal Vol, Issue Num, Year, page number (iff available)"
      ]
    }
  ],
  "metadata": {
    "kernelspec": {
      "display_name": "Python 3",
      "language": "python",
      "name": "python3"
    },
    "language_info": {
      "codemirror_mode": {
        "name": "ipython",
        "version": 3
      },
      "file_extension": ".py",
      "mimetype": "text/x-python",
      "name": "python",
      "nbconvert_exporter": "python",
      "pygments_lexer": "ipython3",
      "version": "3.7.3"
    },
    "colab": {
      "provenance": []
    }
  },
  "nbformat": 4,
  "nbformat_minor": 0
}