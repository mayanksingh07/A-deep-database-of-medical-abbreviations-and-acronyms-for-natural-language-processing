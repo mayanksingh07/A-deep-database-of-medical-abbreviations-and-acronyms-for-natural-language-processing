{
 "cells": [
  {
   "cell_type": "markdown",
   "metadata": {
    "colab_type": "text",
    "id": "3hFkPIiTNygE"
   },
   "source": [
    "# Step 1: Preprocessing"
   ]
  },
  {
   "cell_type": "markdown",
   "metadata": {
    "colab_type": "text",
    "id": "Lr5P3lz5N2my"
   },
   "source": [
    "## Setup"
   ]
  },
  {
   "cell_type": "code",
   "execution_count": null,
   "metadata": {
    "colab": {},
    "colab_type": "code",
    "id": "E9-w0vjtOQQ2"
   },
   "outputs": [],
   "source": [
    "import pandas as pd\n",
    "from master_functions import *"
   ]
  },
  {
   "cell_type": "markdown",
   "metadata": {
    "colab_type": "text",
    "id": "4cV7r8vf8dE4"
   },
   "source": [
    "#### Instantiate Output Frame"
   ]
  },
  {
   "cell_type": "markdown",
   "metadata": {
    "colab_type": "text",
    "id": "pZAc7XurEDRZ"
   },
   "source": [
    "This is the common data model for formatting all sources."
   ]
  },
  {
   "cell_type": "code",
   "execution_count": null,
   "metadata": {
    "colab": {},
    "colab_type": "code",
    "id": "bX1OMt7g8fuF"
   },
   "outputs": [],
   "source": [
    "out_db = pd.DataFrame(columns=['GroupID', 'RecordID', 'SF', 'SFUI', 'NormSF', \n",
    "                               'LF', 'LFUI', 'NormLF', 'Source', \n",
    "                               # Auxiliary data fields\n",
    "                               'SFEUI', 'LFEUI', 'Type', 'PrefSF', 'Score',\n",
    "                               'Count', 'Frequency', 'UMLS.CUI'])"
   ]
  },
  {
   "cell_type": "markdown",
   "metadata": {
    "colab_type": "text",
    "id": "_rtFrFiHvsD7"
   },
   "source": [
    "## Source #1: UMLS"
   ]
  },
  {
   "cell_type": "markdown",
   "metadata": {
    "colab_type": "text",
    "id": "6uBJpCLv0dOj"
   },
   "source": [
    "#### Load UMLS"
   ]
  },
  {
   "cell_type": "code",
   "execution_count": null,
   "metadata": {
    "colab": {},
    "colab_type": "code",
    "id": "eMGtZ2Z80bpa"
   },
   "outputs": [],
   "source": [
    "umls_db = pd.read_csv('https://raw.githubusercontent.com/lisavirginia/clinical-abbreviations/master/sources/1-umls/LRABR',\n",
    "                      sep='|',\n",
    "                      header=None,\n",
    "                      names=['SFEUI', 'SF', 'Type', 'LFEUI', 'LF'],\n",
    "                      na_filter=False,\n",
    "                      index_col=False)"
   ]
  },
  {
   "cell_type": "code",
   "execution_count": null,
   "metadata": {
    "colab": {
     "base_uri": "https://localhost:8080/",
     "height": 136
    },
    "colab_type": "code",
    "id": "JAHmmH_81kPl",
    "outputId": "761de89e-06f1-41c6-bb7b-62d880ee706e"
   },
   "outputs": [],
   "source": [
    "clean(umls_db)\n",
    "umls_db.sample(3, random_state=0)"
   ]
  },
  {
   "cell_type": "markdown",
   "metadata": {
    "colab_type": "text",
    "id": "87j1877J1Xci"
   },
   "source": [
    "#### Populate Output Frame"
   ]
  },
  {
   "cell_type": "code",
   "execution_count": null,
   "metadata": {
    "colab": {},
    "colab_type": "code",
    "id": "HLxoH6oi1amk"
   },
   "outputs": [],
   "source": [
    "umls_out = out_db.copy()\n",
    "umls_out['SF'] = umls_db['SF']\n",
    "umls_out['LF'] = umls_db['LF']\n",
    "umls_out['Source'] = 'UMLS'\n",
    "umls_out['SFEUI'] = umls_db['SFEUI']\n",
    "umls_out['LFEUI'] = umls_db['LFEUI']\n",
    "umls_out['Type'] = umls_db['Type']"
   ]
  },
  {
   "cell_type": "code",
   "execution_count": null,
   "metadata": {
    "colab": {
     "base_uri": "https://localhost:8080/",
     "height": 186
    },
    "colab_type": "code",
    "id": "blYWwfF-2fNZ",
    "outputId": "0c0900ac-34f5-4978-cbc0-c57936030f9a"
   },
   "outputs": [],
   "source": [
    "umls_out.sample(3, random_state=0)"
   ]
  },
  {
   "cell_type": "markdown",
   "metadata": {
    "colab_type": "text",
    "id": "zZBdmCbG29sF"
   },
   "source": [
    "#### Append Output"
   ]
  },
  {
   "cell_type": "code",
   "execution_count": null,
   "metadata": {
    "colab": {},
    "colab_type": "code",
    "id": "lYbxHN423BGM"
   },
   "outputs": [],
   "source": [
    "out_list = []\n",
    "out_list.append(umls_out)"
   ]
  },
  {
   "cell_type": "markdown",
   "metadata": {
    "colab_type": "text",
    "id": "OxyKLRisOUL4"
   },
   "source": [
    "## Source #2: ADAM"
   ]
  },
  {
   "cell_type": "markdown",
   "metadata": {
    "colab_type": "text",
    "id": "UvIsUU2rP4bM"
   },
   "source": [
    "#### Load ADAM"
   ]
  },
  {
   "cell_type": "code",
   "execution_count": null,
   "metadata": {
    "colab": {},
    "colab_type": "code",
    "id": "AmHK7co_OZlX"
   },
   "outputs": [],
   "source": [
    "adam_db = pd.read_csv('https://raw.githubusercontent.com/lisavirginia/clinical-abbreviations/master/sources/2-adam/adam_database',\n",
    "                      sep='\\t',\n",
    "                      skiprows=38,  # skips readme portion\n",
    "                      header=None,\n",
    "                      names=['Pref_SF', 'Alt_SF', 'All_LF', 'Score', 'Count'],\n",
    "                      na_filter=False,\n",
    "                      index_col=False)"
   ]
  },
  {
   "cell_type": "code",
   "execution_count": null,
   "metadata": {
    "colab": {
     "base_uri": "https://localhost:8080/",
     "height": 136
    },
    "colab_type": "code",
    "id": "i9BVTY15te2Y",
    "outputId": "34ab0ba0-3577-4d31-f0fd-cdfaed7059f3"
   },
   "outputs": [],
   "source": [
    "clean(adam_db)\n",
    "adam_db.sample(3, random_state=0)"
   ]
  },
  {
   "cell_type": "markdown",
   "metadata": {
    "colab_type": "text",
    "id": "4KC4ajlfc4s_"
   },
   "source": [
    "#### Populate Output Frame"
   ]
  },
  {
   "cell_type": "code",
   "execution_count": null,
   "metadata": {
    "colab": {},
    "colab_type": "code",
    "id": "2iY2iB7fgxUQ"
   },
   "outputs": [],
   "source": [
    "adam_out = out_db.copy()\n",
    "adam_out['SF'] = adam_db['Alt_SF']\n",
    "adam_out['LF'] = adam_db['All_LF']\n",
    "adam_out['Source'] = 'ADAM'\n",
    "adam_out['PrefSF'] = adam_db['Pref_SF']"
   ]
  },
  {
   "cell_type": "code",
   "execution_count": null,
   "metadata": {
    "colab": {
     "base_uri": "https://localhost:8080/",
     "height": 170
    },
    "colab_type": "code",
    "id": "GKNFTv-8kKd5",
    "outputId": "41ccd722-9821-4a84-ef57-5973d50c97f9"
   },
   "outputs": [],
   "source": [
    "adam_out.sample(3, random_state=0)"
   ]
  },
  {
   "cell_type": "markdown",
   "metadata": {
    "colab_type": "text",
    "id": "j4_QqzmItTZi"
   },
   "source": [
    "#### Unnest SF & LF Columns"
   ]
  },
  {
   "cell_type": "code",
   "execution_count": null,
   "metadata": {
    "colab": {},
    "colab_type": "code",
    "id": "dqIXaAq6tag-"
   },
   "outputs": [],
   "source": [
    "adam_out = expand_col(adam_out, 'SF')\n",
    "adam_out = expand_col(adam_out, 'LF')\n",
    "adam_out.drop_duplicates(inplace=True)"
   ]
  },
  {
   "cell_type": "code",
   "execution_count": null,
   "metadata": {
    "colab": {
     "base_uri": "https://localhost:8080/",
     "height": 136
    },
    "colab_type": "code",
    "id": "hK82T3ZSne1j",
    "outputId": "dcd16028-100a-47d1-cd4b-1904aae131ed"
   },
   "outputs": [],
   "source": [
    "adam_out.sample(3, random_state=0)"
   ]
  },
  {
   "cell_type": "markdown",
   "metadata": {
    "colab_type": "text",
    "id": "17DOPMQOupY2"
   },
   "source": [
    "#### Assign Count Information"
   ]
  },
  {
   "cell_type": "code",
   "execution_count": null,
   "metadata": {
    "colab": {},
    "colab_type": "code",
    "id": "mmeqc09Ru5XE"
   },
   "outputs": [],
   "source": [
    "temp = adam_out['SF'].str.split(':', expand=True)\n",
    "adam_out['SF'] = temp[0]\n",
    "adam_out['Count'] = temp[1] "
   ]
  },
  {
   "cell_type": "markdown",
   "metadata": {
    "colab_type": "text",
    "id": "h5twPB9oqIde"
   },
   "source": [
    "#### Assign Score Information"
   ]
  },
  {
   "cell_type": "code",
   "execution_count": null,
   "metadata": {
    "colab": {},
    "colab_type": "code",
    "id": "43agTw0zqKyF"
   },
   "outputs": [],
   "source": [
    "temp = adam_out['LF'].str.split(':', expand=True)\n",
    "adam_out['LF'] = temp[0]\n",
    "adam_out['Score'] = temp[2]"
   ]
  },
  {
   "cell_type": "markdown",
   "metadata": {
    "colab_type": "text",
    "id": "QAynxjNeqhuy"
   },
   "source": [
    "#### Reorder Columns"
   ]
  },
  {
   "cell_type": "code",
   "execution_count": null,
   "metadata": {
    "colab": {
     "base_uri": "https://localhost:8080/",
     "height": 136
    },
    "colab_type": "code",
    "id": "B7OL_Jceqjph",
    "outputId": "572509ae-e466-492f-8731-feeb69022aa3"
   },
   "outputs": [],
   "source": [
    "adam_out = adam_out[out_db.columns]\n",
    "adam_out.sample(3, random_state=0)"
   ]
  },
  {
   "cell_type": "markdown",
   "metadata": {
    "colab_type": "text",
    "id": "waxo-XgavEwM"
   },
   "source": [
    "#### Append Output"
   ]
  },
  {
   "cell_type": "code",
   "execution_count": null,
   "metadata": {
    "colab": {},
    "colab_type": "code",
    "id": "iXdOCyPyvg-U"
   },
   "outputs": [],
   "source": [
    "out_list.append(adam_out)"
   ]
  },
  {
   "cell_type": "markdown",
   "metadata": {
    "colab_type": "text",
    "id": "n4meicpUvzrC"
   },
   "source": [
    "## Source #3: Berman"
   ]
  },
  {
   "cell_type": "markdown",
   "metadata": {
    "colab_type": "text",
    "id": "rjrwiii37Xwo"
   },
   "source": [
    "#### Load Berman"
   ]
  },
  {
   "cell_type": "code",
   "execution_count": null,
   "metadata": {
    "colab": {},
    "colab_type": "code",
    "id": "qG3hLOXu7bpy"
   },
   "outputs": [],
   "source": [
    "berm_db = pd.read_csv('https://raw.githubusercontent.com/lisavirginia/clinical-abbreviations/master/sources/3-berman/12000_pathology_abbreviations.txt',\n",
    "                      sep='=',\n",
    "                      header=None,\n",
    "                      names=['SF', 'LF'],\n",
    "                      na_filter=False,\n",
    "                      index_col=False)"
   ]
  },
  {
   "cell_type": "code",
   "execution_count": null,
   "metadata": {
    "colab": {
     "base_uri": "https://localhost:8080/",
     "height": 136
    },
    "colab_type": "code",
    "id": "EYJl2Hwy8KZZ",
    "outputId": "819392e0-76c8-4be9-a6fe-3f72c173c6f8"
   },
   "outputs": [],
   "source": [
    "clean(berm_db)\n",
    "berm_db.sample(3, random_state=0)"
   ]
  },
  {
   "cell_type": "markdown",
   "metadata": {
    "colab_type": "text",
    "id": "cliOb0gH8Pf3"
   },
   "source": [
    "#### Populate Output Frame"
   ]
  },
  {
   "cell_type": "code",
   "execution_count": null,
   "metadata": {
    "colab": {},
    "colab_type": "code",
    "id": "UUA1mQfr9N0c"
   },
   "outputs": [],
   "source": [
    "berm_out = out_db.copy()\n",
    "berm_out['SF'] = berm_db['SF']\n",
    "berm_out['LF'] = berm_db['LF']\n",
    "berm_out['Source'] = 'Berman'"
   ]
  },
  {
   "cell_type": "code",
   "execution_count": null,
   "metadata": {
    "colab": {
     "base_uri": "https://localhost:8080/",
     "height": 136
    },
    "colab_type": "code",
    "id": "W7ZLxNb5YW50",
    "outputId": "7dc3e3da-3c68-402b-fd4d-ad43b5474aef"
   },
   "outputs": [],
   "source": [
    "berm_out.sample(3, random_state=0)"
   ]
  },
  {
   "cell_type": "markdown",
   "metadata": {
    "colab_type": "text",
    "id": "rooXPiYJYYSw"
   },
   "source": [
    "#### Append Output"
   ]
  },
  {
   "cell_type": "code",
   "execution_count": null,
   "metadata": {
    "colab": {},
    "colab_type": "code",
    "id": "FfTeNhetYXzg"
   },
   "outputs": [],
   "source": [
    "out_list.append(berm_out)"
   ]
  },
  {
   "cell_type": "markdown",
   "metadata": {
    "colab_type": "text",
    "id": "iSq-DLNrv2Zt"
   },
   "source": [
    "## Source #4: Vanderbilt"
   ]
  },
  {
   "cell_type": "markdown",
   "metadata": {
    "colab_type": "text",
    "id": "eGSMSFaPtN3I"
   },
   "source": [
    "#### Load Vanderbilt"
   ]
  },
  {
   "cell_type": "code",
   "execution_count": null,
   "metadata": {
    "colab": {},
    "colab_type": "code",
    "id": "dYdWt-qatRX4"
   },
   "outputs": [],
   "source": [
    "vcln_db = pd.read_csv('https://raw.githubusercontent.com/lisavirginia/clinical-abbreviations/master/sources/4-vanderbilt/vanderbilt_clinic_notes.txt',\n",
    "                      sep='\\t',\n",
    "                      na_filter=False,\n",
    "                      index_col=False)"
   ]
  },
  {
   "cell_type": "code",
   "execution_count": null,
   "metadata": {
    "colab": {
     "base_uri": "https://localhost:8080/",
     "height": 136
    },
    "colab_type": "code",
    "id": "LdpcsSz7u9FR",
    "outputId": "ee169079-af1d-47f4-a4a0-e083868c3caf"
   },
   "outputs": [],
   "source": [
    "clean(vcln_db)\n",
    "vcln_db.sample(3, random_state=0)"
   ]
  },
  {
   "cell_type": "code",
   "execution_count": null,
   "metadata": {
    "colab": {},
    "colab_type": "code",
    "id": "Vl6jBPmiu-ek"
   },
   "outputs": [],
   "source": [
    "vdis_db = pd.read_csv('https://raw.githubusercontent.com/lisavirginia/clinical-abbreviations/master/sources/4-vanderbilt/vanderbilt_discharge_sums.txt',\n",
    "                      sep='\\t',\n",
    "                      na_filter=False,\n",
    "                      index_col=False)"
   ]
  },
  {
   "cell_type": "code",
   "execution_count": null,
   "metadata": {
    "colab": {
     "base_uri": "https://localhost:8080/",
     "height": 136
    },
    "colab_type": "code",
    "id": "clINhbk_u-LL",
    "outputId": "cd227012-1cd0-406d-a99a-2ab44c95376e"
   },
   "outputs": [],
   "source": [
    "clean(vdis_db)\n",
    "vdis_db.sample(3, random_state=0)"
   ]
  },
  {
   "cell_type": "markdown",
   "metadata": {
    "colab_type": "text",
    "id": "8xRF0vJ2wGOy"
   },
   "source": [
    "#### Populate Output Frames"
   ]
  },
  {
   "cell_type": "markdown",
   "metadata": {
    "colab_type": "text",
    "id": "sVrj4y0u0aTm"
   },
   "source": [
    "Please note that the 'abbreviation' column contains a normalized version of the abbreviation. \n",
    "\n",
    "We have not carried forward this column because we will conduct the same normalization later on."
   ]
  },
  {
   "cell_type": "code",
   "execution_count": null,
   "metadata": {
    "colab": {},
    "colab_type": "code",
    "id": "71-mTSjzwIwP"
   },
   "outputs": [],
   "source": [
    "vcln_out = out_db.copy()\n",
    "vcln_out['SF'] = vcln_db['variation']\n",
    "vcln_out['LF'] = vcln_db['sense']\n",
    "vcln_out['Source'] = 'Vanderbilt Clinic Notes'\n",
    "vcln_out['Frequency'] = vcln_db['frequency']\n",
    "vcln_out['UMLS.CUI'] = vcln_db['CUI']"
   ]
  },
  {
   "cell_type": "code",
   "execution_count": null,
   "metadata": {
    "colab": {
     "base_uri": "https://localhost:8080/",
     "height": 254
    },
    "colab_type": "code",
    "id": "ZbiPR8h0w3b1",
    "outputId": "2242c22b-9ebe-4dea-fee3-6ad2a7c858b8"
   },
   "outputs": [],
   "source": [
    "vcln_out.sample(3, random_state=0)"
   ]
  },
  {
   "cell_type": "code",
   "execution_count": null,
   "metadata": {
    "colab": {},
    "colab_type": "code",
    "id": "FrCUf6F_1lX2"
   },
   "outputs": [],
   "source": [
    "vdis_out = out_db.copy()\n",
    "vdis_out['SF'] = vdis_db['variation']\n",
    "vdis_out['LF'] = vdis_db['sense']\n",
    "vdis_out['Source'] = 'Vanderbilt Discharge Sums'\n",
    "vdis_out['Frequency'] = vdis_db['frequency']\n",
    "vdis_out['UMLS.CUI'] = vdis_db['CUI']"
   ]
  },
  {
   "cell_type": "code",
   "execution_count": null,
   "metadata": {
    "colab": {
     "base_uri": "https://localhost:8080/",
     "height": 257
    },
    "colab_type": "code",
    "id": "Isc0igmN1l5S",
    "outputId": "d4567029-a6d0-4416-bcfe-116df8981b16"
   },
   "outputs": [],
   "source": [
    "vdis_out.sample(3, random_state=0)"
   ]
  },
  {
   "cell_type": "markdown",
   "metadata": {
    "colab_type": "text",
    "id": "uuj0KZJaxGVz"
   },
   "source": [
    "#### Merge Frames"
   ]
  },
  {
   "cell_type": "code",
   "execution_count": null,
   "metadata": {
    "colab": {
     "base_uri": "https://localhost:8080/",
     "height": 34
    },
    "colab_type": "code",
    "id": "rxyypj9TxFUi",
    "outputId": "8badf8be-4e00-4220-b46f-dba5db1a36c2"
   },
   "outputs": [],
   "source": [
    "vand_out = vcln_out.append(vdis_out)\n",
    "vand_out = vand_out.reset_index(drop=True)\n",
    "vand_out.shape"
   ]
  },
  {
   "cell_type": "markdown",
   "metadata": {
    "colab_type": "text",
    "id": "0nRr0XHw2p6T"
   },
   "source": [
    "#### Unnest SF Column"
   ]
  },
  {
   "cell_type": "code",
   "execution_count": null,
   "metadata": {
    "colab": {
     "base_uri": "https://localhost:8080/",
     "height": 186
    },
    "colab_type": "code",
    "id": "xtV0fRK-2rsi",
    "outputId": "d3f60e51-a4be-4074-d819-384e20e35110"
   },
   "outputs": [],
   "source": [
    "vand_out = expand_col(vand_out, 'SF')\n",
    "vand_out.sample(3, random_state=0)"
   ]
  },
  {
   "cell_type": "markdown",
   "metadata": {
    "colab_type": "text",
    "id": "uIpHCsEv2wPk"
   },
   "source": [
    "#### Assign Count Information"
   ]
  },
  {
   "cell_type": "code",
   "execution_count": null,
   "metadata": {
    "colab": {},
    "colab_type": "code",
    "id": "lDiTed46206u"
   },
   "outputs": [],
   "source": [
    "temp = vand_out['SF'].str.split('_', expand=True)\n",
    "vand_out['SF'] = temp[0]\n",
    "vand_out['Count'] = temp[1] "
   ]
  },
  {
   "cell_type": "markdown",
   "metadata": {
    "colab_type": "text",
    "id": "RO3D7GRJ3IlW"
   },
   "source": [
    "#### Reorder Columns"
   ]
  },
  {
   "cell_type": "code",
   "execution_count": null,
   "metadata": {
    "colab": {
     "base_uri": "https://localhost:8080/",
     "height": 136
    },
    "colab_type": "code",
    "id": "ImQa58ks3KRd",
    "outputId": "cb487336-b02a-4158-c1f6-1ae3e95ef881"
   },
   "outputs": [],
   "source": [
    "vand_out = vand_out[out_db.columns]\n",
    "vand_out.sample(3, random_state=0)"
   ]
  },
  {
   "cell_type": "markdown",
   "metadata": {
    "colab_type": "text",
    "id": "8qSgDDnU2tZz"
   },
   "source": [
    "#### Append Output"
   ]
  },
  {
   "cell_type": "code",
   "execution_count": null,
   "metadata": {
    "colab": {},
    "colab_type": "code",
    "id": "q3KEz9C92vba"
   },
   "outputs": [],
   "source": [
    "out_list.append(vand_out)"
   ]
  },
  {
   "cell_type": "markdown",
   "metadata": {
    "colab_type": "text",
    "id": "Tts4uR1YzC6I"
   },
   "source": [
    "## Source #5: Wikipedia"
   ]
  },
  {
   "cell_type": "markdown",
   "metadata": {
    "colab_type": "text",
    "id": "qrZFTkz2Cgdr"
   },
   "source": [
    "#### Load Wikipedia"
   ]
  },
  {
   "cell_type": "code",
   "execution_count": null,
   "metadata": {
    "colab": {},
    "colab_type": "code",
    "id": "LGg3QWwTCZ6M"
   },
   "outputs": [],
   "source": [
    "wabr_db = pd.read_csv('https://raw.githubusercontent.com/lisavirginia/clinical-abbreviations/master/sources/5-wikipedia/wikipedia_abbreviation_database.csv',\n",
    "                      sep=',',\n",
    "                      na_filter=False,\n",
    "                      index_col=False)"
   ]
  },
  {
   "cell_type": "code",
   "execution_count": null,
   "metadata": {
    "colab": {
     "base_uri": "https://localhost:8080/",
     "height": 136
    },
    "colab_type": "code",
    "id": "jHJvX8fisRU6",
    "outputId": "6ab3d3ed-1381-49af-9b94-3461ebecd5e1"
   },
   "outputs": [],
   "source": [
    "clean(wabr_db)\n",
    "wabr_db.sample(3, random_state=0)"
   ]
  },
  {
   "cell_type": "code",
   "execution_count": null,
   "metadata": {
    "colab": {},
    "colab_type": "code",
    "id": "BYDatvIqDsk3"
   },
   "outputs": [],
   "source": [
    "wtrl_db = pd.read_csv('https://raw.githubusercontent.com/lisavirginia/clinical-abbreviations/master/sources/5-wikipedia/wikipedia_clinical_trials.txt',\n",
    "                      sep=':',\n",
    "                      header=None,\n",
    "                      names=['abr', 'long_form'],\n",
    "                      na_filter=False,\n",
    "                      index_col=False,\n",
    "                      skipinitialspace=True)"
   ]
  },
  {
   "cell_type": "code",
   "execution_count": null,
   "metadata": {
    "colab": {
     "base_uri": "https://localhost:8080/",
     "height": 136
    },
    "colab_type": "code",
    "id": "PS-BAlIkD8Km",
    "outputId": "a4fe2a2d-3ff5-471d-bfad-66d050dbf0a0"
   },
   "outputs": [],
   "source": [
    "clean(wtrl_db)\n",
    "wtrl_db.sample(3, random_state=0)"
   ]
  },
  {
   "cell_type": "markdown",
   "metadata": {
    "colab_type": "text",
    "id": "dtnOzVK-IEPp"
   },
   "source": [
    "#### Merge Frames"
   ]
  },
  {
   "cell_type": "code",
   "execution_count": null,
   "metadata": {
    "colab": {
     "base_uri": "https://localhost:8080/",
     "height": 34
    },
    "colab_type": "code",
    "id": "Pp5q3NyFIF3A",
    "outputId": "56c838c9-9881-4da3-af67-05d553bc16b3"
   },
   "outputs": [],
   "source": [
    "wiki_db = wabr_db.append(wtrl_db)\n",
    "wiki_db.shape"
   ]
  },
  {
   "cell_type": "markdown",
   "metadata": {
    "colab_type": "text",
    "id": "sDVSFpWfIchI"
   },
   "source": [
    "#### Populate Output Frame"
   ]
  },
  {
   "cell_type": "code",
   "execution_count": null,
   "metadata": {
    "colab": {},
    "colab_type": "code",
    "id": "5R1v7W-YIeWg"
   },
   "outputs": [],
   "source": [
    "wiki_out = out_db.copy()\n",
    "wiki_out['SF'] = wiki_db['abr']\n",
    "wiki_out['LF'] = wiki_db['long_form']\n",
    "wiki_out['Source'] = 'Wikipedia'"
   ]
  },
  {
   "cell_type": "code",
   "execution_count": null,
   "metadata": {
    "colab": {
     "base_uri": "https://localhost:8080/",
     "height": 136
    },
    "colab_type": "code",
    "id": "2j05ZfdUIpEa",
    "outputId": "bddb4dc1-7e18-4482-f1c1-ddb6a7e3bc6b"
   },
   "outputs": [],
   "source": [
    "wiki_out.sample(3, random_state=0)"
   ]
  },
  {
   "cell_type": "markdown",
   "metadata": {
    "colab_type": "text",
    "id": "YjtXpcBBI2oZ"
   },
   "source": [
    "#### Append Output"
   ]
  },
  {
   "cell_type": "code",
   "execution_count": null,
   "metadata": {
    "colab": {},
    "colab_type": "code",
    "id": "weFb-OCAI4WY"
   },
   "outputs": [],
   "source": [
    "out_list.append(wiki_out)"
   ]
  },
  {
   "cell_type": "markdown",
   "metadata": {
    "colab_type": "text",
    "id": "6cLdJ9ZDzeF2"
   },
   "source": [
    "## Source #6: Stetson"
   ]
  },
  {
   "cell_type": "markdown",
   "metadata": {
    "colab_type": "text",
    "id": "5UAw_wJIaI3J"
   },
   "source": [
    "#### Load Stetson"
   ]
  },
  {
   "cell_type": "code",
   "execution_count": null,
   "metadata": {
    "colab": {},
    "colab_type": "code",
    "id": "IYaeQ3iTaKqW"
   },
   "outputs": [],
   "source": [
    "stet_db = pd.read_csv('https://raw.githubusercontent.com/lisavirginia/clinical-abbreviations/master/sources/6-stetson/sense_distribution_448.txt',\n",
    "                      sep='\\t',\n",
    "                      header=None,\n",
    "                      names=['SF', 'LF', 'Frequency'],\n",
    "                      na_filter=False,\n",
    "                      index_col=False)"
   ]
  },
  {
   "cell_type": "code",
   "execution_count": null,
   "metadata": {
    "colab": {
     "base_uri": "https://localhost:8080/",
     "height": 136
    },
    "colab_type": "code",
    "id": "PZsUI6yIa003",
    "outputId": "68dbc66d-499e-40f4-e264-8557c5896b9e"
   },
   "outputs": [],
   "source": [
    "clean(stet_db)\n",
    "stet_db.sample(3, random_state=0)"
   ]
  },
  {
   "cell_type": "markdown",
   "metadata": {
    "colab_type": "text",
    "id": "n7kb10n0bVO8"
   },
   "source": [
    "#### Populate Output Frame"
   ]
  },
  {
   "cell_type": "code",
   "execution_count": null,
   "metadata": {
    "colab": {},
    "colab_type": "code",
    "id": "EXfaclkabZqB"
   },
   "outputs": [],
   "source": [
    "stet_out = out_db.copy()\n",
    "stet_out['SF'] = stet_db['SF']\n",
    "stet_out['LF'] = stet_db['LF']\n",
    "stet_out['Source'] = 'Stetson'\n",
    "stet_out['Frequency'] = stet_db['Frequency']"
   ]
  },
  {
   "cell_type": "code",
   "execution_count": null,
   "metadata": {
    "colab": {
     "base_uri": "https://localhost:8080/",
     "height": 136
    },
    "colab_type": "code",
    "id": "iDTDjyVQcSew",
    "outputId": "3fd131d5-e7d4-4dda-c8b0-7533f9e003f6"
   },
   "outputs": [],
   "source": [
    "stet_out.sample(3, random_state=0)"
   ]
  },
  {
   "cell_type": "markdown",
   "metadata": {
    "colab_type": "text",
    "id": "NSML37baccHD"
   },
   "source": [
    "#### Append Output"
   ]
  },
  {
   "cell_type": "code",
   "execution_count": null,
   "metadata": {
    "colab": {},
    "colab_type": "code",
    "id": "jII-qJEtcbWt"
   },
   "outputs": [],
   "source": [
    "out_list.append(stet_out)"
   ]
  },
  {
   "cell_type": "markdown",
   "metadata": {
    "colab_type": "text",
    "id": "CKHHXhcrzRql"
   },
   "source": [
    "## Source #7: Columbia"
   ]
  },
  {
   "cell_type": "markdown",
   "metadata": {
    "colab_type": "text",
    "id": "QB9sqBPIdzT-"
   },
   "source": [
    "#### Load Columbia"
   ]
  },
  {
   "cell_type": "code",
   "execution_count": null,
   "metadata": {
    "colab": {},
    "colab_type": "code",
    "id": "XksuqLy9DuoJ"
   },
   "outputs": [],
   "source": [
    "colm_db = pd.read_csv('https://raw.githubusercontent.com/lisavirginia/clinical-abbreviations/master/sources/7-columbia/obgyn.txt',\n",
    "                      header=None,\n",
    "                      names=['SF_LF'],\n",
    "                      na_filter=False,\n",
    "                      index_col=False)"
   ]
  },
  {
   "cell_type": "code",
   "execution_count": null,
   "metadata": {
    "colab": {
     "base_uri": "https://localhost:8080/",
     "height": 136
    },
    "colab_type": "code",
    "id": "npg5FarIGE2Z",
    "outputId": "ffcaf56b-e1a5-45d8-82ab-d62eb611d2df"
   },
   "outputs": [],
   "source": [
    "clean(colm_db)\n",
    "colm_db.sample(3, random_state=0)"
   ]
  },
  {
   "cell_type": "markdown",
   "metadata": {
    "colab_type": "text",
    "id": "jwfa7TMVGQ21"
   },
   "source": [
    "#### Split Column"
   ]
  },
  {
   "cell_type": "code",
   "execution_count": null,
   "metadata": {
    "colab": {},
    "colab_type": "code",
    "id": "31m3moA7GTPT"
   },
   "outputs": [],
   "source": [
    "temp = colm_db['SF_LF'].str.split(' ', n=1, expand=True)\n",
    "colm_db['SF'] = temp[0]\n",
    "colm_db['LF'] = temp[1]"
   ]
  },
  {
   "cell_type": "code",
   "execution_count": null,
   "metadata": {
    "colab": {
     "base_uri": "https://localhost:8080/",
     "height": 136
    },
    "colab_type": "code",
    "id": "5ikzSsaLGq6i",
    "outputId": "2ec1bb33-9316-403a-edf2-d020ca0c6394"
   },
   "outputs": [],
   "source": [
    "colm_db.sample(3, random_state=0)"
   ]
  },
  {
   "cell_type": "markdown",
   "metadata": {
    "colab_type": "text",
    "id": "i-pwzN_HGxH-"
   },
   "source": [
    "#### Populate Output Frame"
   ]
  },
  {
   "cell_type": "code",
   "execution_count": null,
   "metadata": {
    "colab": {},
    "colab_type": "code",
    "id": "Q36iNJ5dGz-I"
   },
   "outputs": [],
   "source": [
    "colm_out = out_db.copy()\n",
    "colm_out['SF'] = colm_db['SF']\n",
    "colm_out['LF'] = colm_db['LF']\n",
    "colm_out['Source'] = 'Columbia'"
   ]
  },
  {
   "cell_type": "code",
   "execution_count": null,
   "metadata": {
    "colab": {
     "base_uri": "https://localhost:8080/",
     "height": 136
    },
    "colab_type": "code",
    "id": "BwCipF-QHIYj",
    "outputId": "fc9bec46-088e-454b-b0e8-e4d2a11bf0f5"
   },
   "outputs": [],
   "source": [
    "colm_out.sample(3, random_state=0)"
   ]
  },
  {
   "cell_type": "markdown",
   "metadata": {
    "colab_type": "text",
    "id": "F-hb4oaHHH5N"
   },
   "source": [
    "#### Append Output"
   ]
  },
  {
   "cell_type": "code",
   "execution_count": null,
   "metadata": {
    "colab": {},
    "colab_type": "code",
    "id": "CE4sjPUCHQCM"
   },
   "outputs": [],
   "source": [
    "out_list.append(colm_out)"
   ]
  },
  {
   "cell_type": "markdown",
   "metadata": {
    "colab_type": "text",
    "id": "3gr0Qlv80Auf"
   },
   "source": [
    "## Merge Sources"
   ]
  },
  {
   "cell_type": "markdown",
   "metadata": {
    "colab_type": "text",
    "id": "_BAtdll2eJU6"
   },
   "source": [
    "#### Double-Check List"
   ]
  },
  {
   "cell_type": "code",
   "execution_count": null,
   "metadata": {
    "colab": {
     "base_uri": "https://localhost:8080/",
     "height": 140
    },
    "colab_type": "code",
    "id": "rgbQM3vAIRqP",
    "outputId": "6034e4e9-1f97-433a-a27b-0aed7394d33a"
   },
   "outputs": [],
   "source": [
    "for item in out_list:\n",
    "  name = [x for x in globals() if globals()[x] is item][0]\n",
    "  print(name, item.shape)"
   ]
  },
  {
   "cell_type": "markdown",
   "metadata": {
    "colab_type": "text",
    "id": "bQSmIHfAeMD7"
   },
   "source": [
    "#### Conduct Merge"
   ]
  },
  {
   "cell_type": "code",
   "execution_count": null,
   "metadata": {
    "colab": {
     "base_uri": "https://localhost:8080/",
     "height": 34
    },
    "colab_type": "code",
    "id": "C54-CcZzePoW",
    "outputId": "6e4aba27-6a24-4329-9bb4-d0925e3b7b1c"
   },
   "outputs": [],
   "source": [
    "db = pd.concat(out_list)\n",
    "db.shape"
   ]
  },
  {
   "cell_type": "markdown",
   "metadata": {
    "colab_type": "text",
    "id": "VoCNsAi5e7kz"
   },
   "source": [
    "## Export"
   ]
  },
  {
   "cell_type": "code",
   "execution_count": null,
   "metadata": {
    "colab": {},
    "colab_type": "code",
    "id": "m1dZcalgfOr7"
   },
   "outputs": [],
   "source": [
    "db.to_csv('Step1Output.csv',\n",
    "          index=False,\n",
    "          header=True,\n",
    "          sep='|')"
   ]
  }
 ],
 "metadata": {
  "colab": {
   "collapsed_sections": [],
   "name": "Step1_Preprocessing.ipynb",
   "provenance": []
  },
  "kernelspec": {
   "display_name": "Python 3",
   "language": "python",
   "name": "python3"
  },
  "language_info": {
   "codemirror_mode": {
    "name": "ipython",
    "version": 3
   },
   "file_extension": ".py",
   "mimetype": "text/x-python",
   "name": "python",
   "nbconvert_exporter": "python",
   "pygments_lexer": "ipython3",
   "version": "3.6.8"
  }
 },
 "nbformat": 4,
 "nbformat_minor": 1
}
